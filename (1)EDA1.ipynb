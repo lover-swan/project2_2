{
  "nbformat": 4,
  "nbformat_minor": 0,
  "metadata": {
    "colab": {
      "provenance": [],
      "machine_shape": "hm",
      "include_colab_link": true
    },
    "kernelspec": {
      "name": "python3",
      "display_name": "Python 3"
    },
    "language_info": {
      "name": "python"
    },
    "gpuClass": "standard"
  },
  "cells": [
    {
      "cell_type": "markdown",
      "metadata": {
        "id": "view-in-github",
        "colab_type": "text"
      },
      "source": [
        "<a href=\"https://colab.research.google.com/github/lover-swan/project2_2/blob/main/(1)EDA1.ipynb\" target=\"_parent\"><img src=\"https://colab.research.google.com/assets/colab-badge.svg\" alt=\"Open In Colab\"/></a>"
      ]
    },
    {
      "cell_type": "code",
      "execution_count": 1,
      "metadata": {
        "id": "IPtl7BlDaE1C"
      },
      "outputs": [],
      "source": [
        "import pandas as pd\n",
        "import numpy as np\n",
        "import matplotlib.pyplot as plt\n",
        "import seaborn as sns"
      ]
    },
    {
      "cell_type": "code",
      "source": [
        "data=pd.read_csv('/content/drive/MyDrive/project2_2/2019-Oct.csv')"
      ],
      "metadata": {
        "id": "tpsIF-mmgp9c"
      },
      "execution_count": 4,
      "outputs": []
    },
    {
      "cell_type": "code",
      "source": [
        "data"
      ],
      "metadata": {
        "colab": {
          "base_uri": "https://localhost:8080/",
          "height": 641
        },
        "id": "T7CJju8vyDn4",
        "outputId": "d9514bad-1a1f-4ee5-827b-90707a01bf1e"
      },
      "execution_count": 5,
      "outputs": [
        {
          "output_type": "execute_result",
          "data": {
            "text/plain": [
              "                       event_time event_type  product_id          category_id  \\\n",
              "0         2019-10-01 00:00:00 UTC       view    44600062  2103807459595387724   \n",
              "1         2019-10-01 00:00:00 UTC       view     3900821  2053013552326770905   \n",
              "2         2019-10-01 00:00:01 UTC       view    17200506  2053013559792632471   \n",
              "3         2019-10-01 00:00:01 UTC       view     1307067  2053013558920217191   \n",
              "4         2019-10-01 00:00:04 UTC       view     1004237  2053013555631882655   \n",
              "...                           ...        ...         ...                  ...   \n",
              "42448759  2019-10-31 23:59:58 UTC       view     2300275  2053013560530830019   \n",
              "42448760  2019-10-31 23:59:58 UTC       view    10800172  2053013554994348409   \n",
              "42448761  2019-10-31 23:59:58 UTC       view     5701038  2053013553970938175   \n",
              "42448762  2019-10-31 23:59:59 UTC       view    21407424  2053013561579406073   \n",
              "42448763  2019-10-31 23:59:59 UTC       view    13300120  2053013557166998015   \n",
              "\n",
              "                                category_code      brand    price    user_id  \\\n",
              "0                                         NaN   shiseido    35.79  541312140   \n",
              "1         appliances.environment.water_heater       aqua    33.20  554748717   \n",
              "2                  furniture.living_room.sofa        NaN   543.10  519107250   \n",
              "3                          computers.notebook     lenovo   251.74  550050854   \n",
              "4                      electronics.smartphone      apple  1081.98  535871217   \n",
              "...                                       ...        ...      ...        ...   \n",
              "42448759             electronics.camera.video      gopro   527.40  537931532   \n",
              "42448760                                  NaN    redmond    61.75  527322328   \n",
              "42448761              auto.accessories.player    kenwood   128.70  566280422   \n",
              "42448762                   electronics.clocks     tissot   689.85  513118352   \n",
              "42448763                                  NaN  swisshome   155.73  525266378   \n",
              "\n",
              "                                  user_session  \n",
              "0         72d76fde-8bb3-4e00-8c23-a032dfed738c  \n",
              "1         9333dfbd-b87a-4708-9857-6336556b0fcc  \n",
              "2         566511c2-e2e3-422b-b695-cf8e6e792ca8  \n",
              "3         7c90fc70-0e80-4590-96f3-13c02c18c713  \n",
              "4         c6bd7419-2748-4c56-95b4-8cec9ff8b80d  \n",
              "...                                        ...  \n",
              "42448759  22c57267-da98-4f28-9a9c-18bb5b385193  \n",
              "42448760  5054190a-46cb-4211-a8f1-16fc1a060ed8  \n",
              "42448761  05b6c62b-992f-4e8e-91f7-961bcb4719cd  \n",
              "42448762  4c14bf2a-2820-4504-929d-046356a5a204  \n",
              "42448763  6e57d2d7-6022-46e6-81d6-fa77f14cefd8  \n",
              "\n",
              "[42448764 rows x 9 columns]"
            ],
            "text/html": [
              "\n",
              "  <div id=\"df-81411b65-c5f2-4013-bd53-f0295ea54dbc\">\n",
              "    <div class=\"colab-df-container\">\n",
              "      <div>\n",
              "<style scoped>\n",
              "    .dataframe tbody tr th:only-of-type {\n",
              "        vertical-align: middle;\n",
              "    }\n",
              "\n",
              "    .dataframe tbody tr th {\n",
              "        vertical-align: top;\n",
              "    }\n",
              "\n",
              "    .dataframe thead th {\n",
              "        text-align: right;\n",
              "    }\n",
              "</style>\n",
              "<table border=\"1\" class=\"dataframe\">\n",
              "  <thead>\n",
              "    <tr style=\"text-align: right;\">\n",
              "      <th></th>\n",
              "      <th>event_time</th>\n",
              "      <th>event_type</th>\n",
              "      <th>product_id</th>\n",
              "      <th>category_id</th>\n",
              "      <th>category_code</th>\n",
              "      <th>brand</th>\n",
              "      <th>price</th>\n",
              "      <th>user_id</th>\n",
              "      <th>user_session</th>\n",
              "    </tr>\n",
              "  </thead>\n",
              "  <tbody>\n",
              "    <tr>\n",
              "      <th>0</th>\n",
              "      <td>2019-10-01 00:00:00 UTC</td>\n",
              "      <td>view</td>\n",
              "      <td>44600062</td>\n",
              "      <td>2103807459595387724</td>\n",
              "      <td>NaN</td>\n",
              "      <td>shiseido</td>\n",
              "      <td>35.79</td>\n",
              "      <td>541312140</td>\n",
              "      <td>72d76fde-8bb3-4e00-8c23-a032dfed738c</td>\n",
              "    </tr>\n",
              "    <tr>\n",
              "      <th>1</th>\n",
              "      <td>2019-10-01 00:00:00 UTC</td>\n",
              "      <td>view</td>\n",
              "      <td>3900821</td>\n",
              "      <td>2053013552326770905</td>\n",
              "      <td>appliances.environment.water_heater</td>\n",
              "      <td>aqua</td>\n",
              "      <td>33.20</td>\n",
              "      <td>554748717</td>\n",
              "      <td>9333dfbd-b87a-4708-9857-6336556b0fcc</td>\n",
              "    </tr>\n",
              "    <tr>\n",
              "      <th>2</th>\n",
              "      <td>2019-10-01 00:00:01 UTC</td>\n",
              "      <td>view</td>\n",
              "      <td>17200506</td>\n",
              "      <td>2053013559792632471</td>\n",
              "      <td>furniture.living_room.sofa</td>\n",
              "      <td>NaN</td>\n",
              "      <td>543.10</td>\n",
              "      <td>519107250</td>\n",
              "      <td>566511c2-e2e3-422b-b695-cf8e6e792ca8</td>\n",
              "    </tr>\n",
              "    <tr>\n",
              "      <th>3</th>\n",
              "      <td>2019-10-01 00:00:01 UTC</td>\n",
              "      <td>view</td>\n",
              "      <td>1307067</td>\n",
              "      <td>2053013558920217191</td>\n",
              "      <td>computers.notebook</td>\n",
              "      <td>lenovo</td>\n",
              "      <td>251.74</td>\n",
              "      <td>550050854</td>\n",
              "      <td>7c90fc70-0e80-4590-96f3-13c02c18c713</td>\n",
              "    </tr>\n",
              "    <tr>\n",
              "      <th>4</th>\n",
              "      <td>2019-10-01 00:00:04 UTC</td>\n",
              "      <td>view</td>\n",
              "      <td>1004237</td>\n",
              "      <td>2053013555631882655</td>\n",
              "      <td>electronics.smartphone</td>\n",
              "      <td>apple</td>\n",
              "      <td>1081.98</td>\n",
              "      <td>535871217</td>\n",
              "      <td>c6bd7419-2748-4c56-95b4-8cec9ff8b80d</td>\n",
              "    </tr>\n",
              "    <tr>\n",
              "      <th>...</th>\n",
              "      <td>...</td>\n",
              "      <td>...</td>\n",
              "      <td>...</td>\n",
              "      <td>...</td>\n",
              "      <td>...</td>\n",
              "      <td>...</td>\n",
              "      <td>...</td>\n",
              "      <td>...</td>\n",
              "      <td>...</td>\n",
              "    </tr>\n",
              "    <tr>\n",
              "      <th>42448759</th>\n",
              "      <td>2019-10-31 23:59:58 UTC</td>\n",
              "      <td>view</td>\n",
              "      <td>2300275</td>\n",
              "      <td>2053013560530830019</td>\n",
              "      <td>electronics.camera.video</td>\n",
              "      <td>gopro</td>\n",
              "      <td>527.40</td>\n",
              "      <td>537931532</td>\n",
              "      <td>22c57267-da98-4f28-9a9c-18bb5b385193</td>\n",
              "    </tr>\n",
              "    <tr>\n",
              "      <th>42448760</th>\n",
              "      <td>2019-10-31 23:59:58 UTC</td>\n",
              "      <td>view</td>\n",
              "      <td>10800172</td>\n",
              "      <td>2053013554994348409</td>\n",
              "      <td>NaN</td>\n",
              "      <td>redmond</td>\n",
              "      <td>61.75</td>\n",
              "      <td>527322328</td>\n",
              "      <td>5054190a-46cb-4211-a8f1-16fc1a060ed8</td>\n",
              "    </tr>\n",
              "    <tr>\n",
              "      <th>42448761</th>\n",
              "      <td>2019-10-31 23:59:58 UTC</td>\n",
              "      <td>view</td>\n",
              "      <td>5701038</td>\n",
              "      <td>2053013553970938175</td>\n",
              "      <td>auto.accessories.player</td>\n",
              "      <td>kenwood</td>\n",
              "      <td>128.70</td>\n",
              "      <td>566280422</td>\n",
              "      <td>05b6c62b-992f-4e8e-91f7-961bcb4719cd</td>\n",
              "    </tr>\n",
              "    <tr>\n",
              "      <th>42448762</th>\n",
              "      <td>2019-10-31 23:59:59 UTC</td>\n",
              "      <td>view</td>\n",
              "      <td>21407424</td>\n",
              "      <td>2053013561579406073</td>\n",
              "      <td>electronics.clocks</td>\n",
              "      <td>tissot</td>\n",
              "      <td>689.85</td>\n",
              "      <td>513118352</td>\n",
              "      <td>4c14bf2a-2820-4504-929d-046356a5a204</td>\n",
              "    </tr>\n",
              "    <tr>\n",
              "      <th>42448763</th>\n",
              "      <td>2019-10-31 23:59:59 UTC</td>\n",
              "      <td>view</td>\n",
              "      <td>13300120</td>\n",
              "      <td>2053013557166998015</td>\n",
              "      <td>NaN</td>\n",
              "      <td>swisshome</td>\n",
              "      <td>155.73</td>\n",
              "      <td>525266378</td>\n",
              "      <td>6e57d2d7-6022-46e6-81d6-fa77f14cefd8</td>\n",
              "    </tr>\n",
              "  </tbody>\n",
              "</table>\n",
              "<p>42448764 rows × 9 columns</p>\n",
              "</div>\n",
              "      <button class=\"colab-df-convert\" onclick=\"convertToInteractive('df-81411b65-c5f2-4013-bd53-f0295ea54dbc')\"\n",
              "              title=\"Convert this dataframe to an interactive table.\"\n",
              "              style=\"display:none;\">\n",
              "        \n",
              "  <svg xmlns=\"http://www.w3.org/2000/svg\" height=\"24px\"viewBox=\"0 0 24 24\"\n",
              "       width=\"24px\">\n",
              "    <path d=\"M0 0h24v24H0V0z\" fill=\"none\"/>\n",
              "    <path d=\"M18.56 5.44l.94 2.06.94-2.06 2.06-.94-2.06-.94-.94-2.06-.94 2.06-2.06.94zm-11 1L8.5 8.5l.94-2.06 2.06-.94-2.06-.94L8.5 2.5l-.94 2.06-2.06.94zm10 10l.94 2.06.94-2.06 2.06-.94-2.06-.94-.94-2.06-.94 2.06-2.06.94z\"/><path d=\"M17.41 7.96l-1.37-1.37c-.4-.4-.92-.59-1.43-.59-.52 0-1.04.2-1.43.59L10.3 9.45l-7.72 7.72c-.78.78-.78 2.05 0 2.83L4 21.41c.39.39.9.59 1.41.59.51 0 1.02-.2 1.41-.59l7.78-7.78 2.81-2.81c.8-.78.8-2.07 0-2.86zM5.41 20L4 18.59l7.72-7.72 1.47 1.35L5.41 20z\"/>\n",
              "  </svg>\n",
              "      </button>\n",
              "      \n",
              "  <style>\n",
              "    .colab-df-container {\n",
              "      display:flex;\n",
              "      flex-wrap:wrap;\n",
              "      gap: 12px;\n",
              "    }\n",
              "\n",
              "    .colab-df-convert {\n",
              "      background-color: #E8F0FE;\n",
              "      border: none;\n",
              "      border-radius: 50%;\n",
              "      cursor: pointer;\n",
              "      display: none;\n",
              "      fill: #1967D2;\n",
              "      height: 32px;\n",
              "      padding: 0 0 0 0;\n",
              "      width: 32px;\n",
              "    }\n",
              "\n",
              "    .colab-df-convert:hover {\n",
              "      background-color: #E2EBFA;\n",
              "      box-shadow: 0px 1px 2px rgba(60, 64, 67, 0.3), 0px 1px 3px 1px rgba(60, 64, 67, 0.15);\n",
              "      fill: #174EA6;\n",
              "    }\n",
              "\n",
              "    [theme=dark] .colab-df-convert {\n",
              "      background-color: #3B4455;\n",
              "      fill: #D2E3FC;\n",
              "    }\n",
              "\n",
              "    [theme=dark] .colab-df-convert:hover {\n",
              "      background-color: #434B5C;\n",
              "      box-shadow: 0px 1px 3px 1px rgba(0, 0, 0, 0.15);\n",
              "      filter: drop-shadow(0px 1px 2px rgba(0, 0, 0, 0.3));\n",
              "      fill: #FFFFFF;\n",
              "    }\n",
              "  </style>\n",
              "\n",
              "      <script>\n",
              "        const buttonEl =\n",
              "          document.querySelector('#df-81411b65-c5f2-4013-bd53-f0295ea54dbc button.colab-df-convert');\n",
              "        buttonEl.style.display =\n",
              "          google.colab.kernel.accessAllowed ? 'block' : 'none';\n",
              "\n",
              "        async function convertToInteractive(key) {\n",
              "          const element = document.querySelector('#df-81411b65-c5f2-4013-bd53-f0295ea54dbc');\n",
              "          const dataTable =\n",
              "            await google.colab.kernel.invokeFunction('convertToInteractive',\n",
              "                                                     [key], {});\n",
              "          if (!dataTable) return;\n",
              "\n",
              "          const docLinkHtml = 'Like what you see? Visit the ' +\n",
              "            '<a target=\"_blank\" href=https://colab.research.google.com/notebooks/data_table.ipynb>data table notebook</a>'\n",
              "            + ' to learn more about interactive tables.';\n",
              "          element.innerHTML = '';\n",
              "          dataTable['output_type'] = 'display_data';\n",
              "          await google.colab.output.renderOutput(dataTable, element);\n",
              "          const docLink = document.createElement('div');\n",
              "          docLink.innerHTML = docLinkHtml;\n",
              "          element.appendChild(docLink);\n",
              "        }\n",
              "      </script>\n",
              "    </div>\n",
              "  </div>\n",
              "  "
            ]
          },
          "metadata": {},
          "execution_count": 5
        }
      ]
    },
    {
      "cell_type": "code",
      "source": [
        "data.event_type=data.event_type.astype('category')\n",
        "data.brand=data.brand.astype('category')\n",
        "data.price=data.price.astype('int16')\n",
        "data.product_id=data.product_id.astype('int32')\n",
        "data.user_id=data.user_id.astype('int32')"
      ],
      "metadata": {
        "id": "Oi4NbbPnyK_w"
      },
      "execution_count": 6,
      "outputs": []
    },
    {
      "cell_type": "code",
      "source": [
        "data.info()"
      ],
      "metadata": {
        "colab": {
          "base_uri": "https://localhost:8080/"
        },
        "id": "K5FmMUvIxr9t",
        "outputId": "e31ce4ba-bb85-4dd8-ef7e-704d5c8d1e9c"
      },
      "execution_count": 7,
      "outputs": [
        {
          "output_type": "stream",
          "name": "stdout",
          "text": [
            "<class 'pandas.core.frame.DataFrame'>\n",
            "RangeIndex: 42448764 entries, 0 to 42448763\n",
            "Data columns (total 9 columns):\n",
            " #   Column         Dtype   \n",
            "---  ------         -----   \n",
            " 0   event_time     object  \n",
            " 1   event_type     category\n",
            " 2   product_id     int32   \n",
            " 3   category_id    int64   \n",
            " 4   category_code  object  \n",
            " 5   brand          category\n",
            " 6   price          int16   \n",
            " 7   user_id        int32   \n",
            " 8   user_session   object  \n",
            "dtypes: category(2), int16(1), int32(2), int64(1), object(3)\n",
            "memory usage: 1.8+ GB\n"
          ]
        }
      ]
    },
    {
      "cell_type": "code",
      "source": [
        "count_type=pd.DataFrame(data.event_type.value_counts())"
      ],
      "metadata": {
        "id": "1Cs1gnGqiI04"
      },
      "execution_count": 8,
      "outputs": []
    },
    {
      "cell_type": "code",
      "source": [
        "sns.barplot(y=count_type.event_type.sort_values(ascending=False),x=['view','cart','purchase'],palette=['moccasin','mediumturquoise','pink'])\n",
        "plt.show()"
      ],
      "metadata": {
        "colab": {
          "base_uri": "https://localhost:8080/",
          "height": 276
        },
        "id": "eF1JAMBzzrrv",
        "outputId": "86a22bcf-b7a0-4a74-a893-b68cd8aabe90"
      },
      "execution_count": 16,
      "outputs": [
        {
          "output_type": "display_data",
          "data": {
            "text/plain": [
              "<Figure size 432x288 with 1 Axes>"
            ],
            "image/png": "[encoded data removed]"
          },
          "metadata": {
            "needs_background": "light"
          }
        }
      ]
    },
    {
      "cell_type": "code",
      "source": [
        "#클릭-장바구니 전환율 "
      ],
      "metadata": {
        "id": "iLcvWgnpkb7V"
      },
      "execution_count": 11,
      "outputs": []
    },
    {
      "cell_type": "code",
      "source": [
        "count_type.loc['cart']/count_type.loc['view'] #2.3%"
      ],
      "metadata": {
        "id": "4DyNcULokK6r",
        "outputId": "1a2f5dcd-11e1-4a85-8d01-03278f2da3f2",
        "colab": {
          "base_uri": "https://localhost:8080/"
        }
      },
      "execution_count": 11,
      "outputs": [
        {
          "output_type": "execute_result",
          "data": {
            "text/plain": [
              "event_type    0.02272\n",
              "dtype: float64"
            ]
          },
          "metadata": {},
          "execution_count": 11
        }
      ]
    },
    {
      "cell_type": "code",
      "source": [
        "plt.figure(figsize=(5,5))\n",
        "plt.pie(count_type.loc[['view','cart']]['event_type'],labels=['view','cart'],autopct='%.1f%%',explode=[0,0.07],startangle=330,colors=['moccasin','mediumturquoise'])\n",
        "plt.show()"
      ],
      "metadata": {
        "colab": {
          "base_uri": "https://localhost:8080/",
          "height": 303
        },
        "id": "Urhl8UYk3cNW",
        "outputId": "d0caeebf-3410-4bf4-bffc-ae5fa407bc8e"
      },
      "execution_count": 17,
      "outputs": [
        {
          "output_type": "display_data",
          "data": {
            "text/plain": [
              "<Figure size 360x360 with 1 Axes>"
            ],
            "image/png": "[encoded data removed]"
          },
          "metadata": {}
        }
      ]
    },
    {
      "cell_type": "code",
      "source": [
        "#장바구니-구매 전환율 "
      ],
      "metadata": {
        "id": "3A_gEqZfkhIg"
      },
      "execution_count": 19,
      "outputs": []
    },
    {
      "cell_type": "code",
      "source": [
        "count_type.loc['purchase']/count_type.loc['cart'] #80%"
      ],
      "metadata": {
        "id": "w_IM3z0nkjVz",
        "outputId": "250d678f-83ae-4054-abdc-464986543253",
        "colab": {
          "base_uri": "https://localhost:8080/"
        }
      },
      "execution_count": 20,
      "outputs": [
        {
          "output_type": "execute_result",
          "data": {
            "text/plain": [
              "event_type    0.801766\n",
              "dtype: float64"
            ]
          },
          "metadata": {},
          "execution_count": 20
        }
      ]
    },
    {
      "cell_type": "code",
      "source": [
        "sns.barplot(y=count_type.event_type.loc[['cart','purchase']],x=['cart','purchase'],palette=['mediumturquoise','pink'])\n",
        "plt.show()"
      ],
      "metadata": {
        "colab": {
          "base_uri": "https://localhost:8080/",
          "height": 265
        },
        "id": "cCK785Cn5BJq",
        "outputId": "36a41927-d911-4717-e8df-ceb530fead7b"
      },
      "execution_count": 18,
      "outputs": [
        {
          "output_type": "display_data",
          "data": {
            "text/plain": [
              "<Figure size 432x288 with 1 Axes>"
            ],
            "image/png": "[encoded data removed]"
          },
          "metadata": {
            "needs_background": "light"
          }
        }
      ]
    },
    {
      "cell_type": "code",
      "source": [
        "#클릭-구매 전환율 "
      ],
      "metadata": {
        "id": "QC9rmQgvk0Lf"
      },
      "execution_count": null,
      "outputs": []
    },
    {
      "cell_type": "code",
      "source": [
        "count_type.loc['purchase']/count_type.loc['view'] #1.8%"
      ],
      "metadata": {
        "id": "UvNoe9rVk9CX",
        "outputId": "6b268b55-20b7-424f-e6be-518e87773877",
        "colab": {
          "base_uri": "https://localhost:8080/"
        }
      },
      "execution_count": null,
      "outputs": [
        {
          "output_type": "execute_result",
          "data": {
            "text/plain": [
              "event_type    0.018216\n",
              "dtype: float64"
            ]
          },
          "metadata": {},
          "execution_count": 44
        }
      ]
    },
    {
      "cell_type": "code",
      "source": [
        "plt.figure(figsize=(5,5))\n",
        "plt.pie(count_type.loc[['view','purchase']]['event_type'],labels=['view','purchase'],autopct='%.1f%%',explode=[0,0.07],startangle=330,colors=['moccasin','pink'])\n",
        "plt.show()"
      ],
      "metadata": {
        "colab": {
          "base_uri": "https://localhost:8080/",
          "height": 303
        },
        "id": "OYrK-IaC4c4A",
        "outputId": "f0a7106a-e85d-424b-9da2-056e00589317"
      },
      "execution_count": 20,
      "outputs": [
        {
          "output_type": "display_data",
          "data": {
            "text/plain": [
              "<Figure size 360x360 with 1 Axes>"
            ],
            "image/png": "[encoded data removed]"
          },
          "metadata": {}
        }
      ]
    },
    {
      "cell_type": "code",
      "source": [
        "# 장바구니에서 구매로의 전환율은 80%로 양호 \n",
        "# 따라서 클릭-구매/클릭-장바구니 전환율을 높이는 것이 중요 \n",
        "# 추천 모델의 보다 높은 정확성을 위하여 장바구니와 구매 데이터 모두 사용"
      ],
      "metadata": {
        "id": "uopgu46VLSaJ"
      },
      "execution_count": null,
      "outputs": []
    },
    {
      "cell_type": "code",
      "source": [
        "data.to_pickle('/content/drive/MyDrive/project2_2/data.pkl')"
      ],
      "metadata": {
        "id": "Hb2zP4SxPnXL"
      },
      "execution_count": null,
      "outputs": []
    }
  ]
}