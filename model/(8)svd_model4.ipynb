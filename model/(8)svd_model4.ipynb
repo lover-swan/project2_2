{
  "nbformat": 4,
  "nbformat_minor": 0,
  "metadata": {
    "colab": {
      "provenance": [],
      "machine_shape": "hm",
      "mount_file_id": "https://github.com/lover-swan/project2_2/blob/main/model/svd_model2.ipynb",
      "authorship_tag": "ABX9TyNgff9sEA2FP1fXCE2GgLmL",
      "include_colab_link": true
    },
    "kernelspec": {
      "name": "python3",
      "display_name": "Python 3"
    },
    "language_info": {
      "name": "python"
    },
    "gpuClass": "premium"
  },
  "cells": [
    {
      "cell_type": "markdown",
      "metadata": {
        "id": "view-in-github",
        "colab_type": "text"
      },
      "source": [
        "<a href=\"https://colab.research.google.com/github/lover-swan/project2_2/blob/main/model/svd_model4.ipynb\" target=\"_parent\"><img src=\"https://colab.research.google.com/assets/colab-badge.svg\" alt=\"Open In Colab\"/></a>"
      ]
    },
    {
      "cell_type": "code",
      "source": [
        "!pip install surprise"
      ],
      "metadata": {
        "id": "PIZPrQBX9EYh",
        "outputId": "5b8a90e6-0b1f-4b78-bf2c-da00e6cdf9f9",
        "colab": {
          "base_uri": "https://localhost:8080/"
        }
      },
      "execution_count": 1,
      "outputs": [
        {
          "output_type": "stream",
          "name": "stdout",
          "text": [
            "Looking in indexes: https://pypi.org/simple, https://us-python.pkg.dev/colab-wheels/public/simple/\n",
            "Collecting surprise\n",
            "  Downloading surprise-0.1-py2.py3-none-any.whl (1.8 kB)\n",
            "Collecting scikit-surprise\n",
            "  Downloading scikit-surprise-1.1.3.tar.gz (771 kB)\n",
            "\u001b[2K     \u001b[90m━━━━━━━━━━━━━━━━━━━━━━━━━━━━━━━━━━━━━━\u001b[0m \u001b[32m772.0/772.0 KB\u001b[0m \u001b[31m10.5 MB/s\u001b[0m eta \u001b[36m0:00:00\u001b[0m\n",
            "\u001b[?25h  Preparing metadata (setup.py) ... \u001b[?25l\u001b[?25hdone\n",
            "Requirement already satisfied: joblib>=1.0.0 in /usr/local/lib/python3.8/dist-packages (from scikit-surprise->surprise) (1.2.0)\n",
            "Requirement already satisfied: numpy>=1.17.3 in /usr/local/lib/python3.8/dist-packages (from scikit-surprise->surprise) (1.21.6)\n",
            "Requirement already satisfied: scipy>=1.3.2 in /usr/local/lib/python3.8/dist-packages (from scikit-surprise->surprise) (1.7.3)\n",
            "Building wheels for collected packages: scikit-surprise\n",
            "  Building wheel for scikit-surprise (setup.py) ... \u001b[?25l\u001b[?25hdone\n",
            "  Created wheel for scikit-surprise: filename=scikit_surprise-1.1.3-cp38-cp38-linux_x86_64.whl size=3366462 sha256=3be054e7fa737fa797294df1fe7c536e1b4aabadf24c4c90769f27173ded2818\n",
            "  Stored in directory: /root/.cache/pip/wheels/af/db/86/2c18183a80ba05da35bf0fb7417aac5cddbd93bcb1b92fd3ea\n",
            "Successfully built scikit-surprise\n",
            "Installing collected packages: scikit-surprise, surprise\n",
            "Successfully installed scikit-surprise-1.1.3 surprise-0.1\n"
          ]
        }
      ]
    },
    {
      "cell_type": "code",
      "execution_count": 3,
      "metadata": {
        "id": "VptIQU7krRQV"
      },
      "outputs": [],
      "source": [
        "import pandas as pd\n",
        "import numpy as np\n",
        "import surprise"
      ]
    },
    {
      "cell_type": "code",
      "source": [
        "data=pd.read_pickle('/content/drive/MyDrive/project2_2/target_data4.pkl')"
      ],
      "metadata": {
        "id": "ZERTPoM3S_je"
      },
      "execution_count": 4,
      "outputs": []
    },
    {
      "cell_type": "code",
      "source": [
        "data"
      ],
      "metadata": {
        "id": "jOiheCSOsB9-",
        "outputId": "affb68a6-20f6-48ce-e57b-7656531e8502",
        "colab": {
          "base_uri": "https://localhost:8080/",
          "height": 424
        }
      },
      "execution_count": 5,
      "outputs": [
        {
          "output_type": "execute_result",
          "data": {
            "text/plain": [
              "        event_time    user_id  product_id large_category small_category  \\\n",
              "0       1569888268  535977220     8901605           kids           toys   \n",
              "1       1569888468  554754531    12100784           kids         skates   \n",
              "2       1569888484  554754531    12100784           kids         skates   \n",
              "3       1569891332  532131039    12100784           kids         skates   \n",
              "4       1569891990  537742213    25800000       medicine      tonometer   \n",
              "...            ...        ...         ...            ...            ...   \n",
              "535420  1572566108  527150238    12100581           kids         skates   \n",
              "535421  1572566114  515351664     9002778           kids           toys   \n",
              "535422  1572566119  515351664     9002778           kids           toys   \n",
              "535423  1572566137  515351664     9002778           kids           toys   \n",
              "535424  1572566264  560001750     9002778           kids           toys   \n",
              "\n",
              "         brand  price  target  \n",
              "0       chicco     74       0  \n",
              "1        kugoo    568       0  \n",
              "2        kugoo    568       0  \n",
              "3        kugoo    568       0  \n",
              "4        omron     74       0  \n",
              "...        ...    ...     ...  \n",
              "535420  micmax     19       0  \n",
              "535421  disney     10       0  \n",
              "535422  disney     10       0  \n",
              "535423  disney     10       0  \n",
              "535424  disney     10       0  \n",
              "\n",
              "[535425 rows x 8 columns]"
            ],
            "text/html": [
              "\n",
              "  <div id=\"df-e994b8b0-c31a-49b4-8d26-021b3204786a\">\n",
              "    <div class=\"colab-df-container\">\n",
              "      <div>\n",
              "<style scoped>\n",
              "    .dataframe tbody tr th:only-of-type {\n",
              "        vertical-align: middle;\n",
              "    }\n",
              "\n",
              "    .dataframe tbody tr th {\n",
              "        vertical-align: top;\n",
              "    }\n",
              "\n",
              "    .dataframe thead th {\n",
              "        text-align: right;\n",
              "    }\n",
              "</style>\n",
              "<table border=\"1\" class=\"dataframe\">\n",
              "  <thead>\n",
              "    <tr style=\"text-align: right;\">\n",
              "      <th></th>\n",
              "      <th>event_time</th>\n",
              "      <th>user_id</th>\n",
              "      <th>product_id</th>\n",
              "      <th>large_category</th>\n",
              "      <th>small_category</th>\n",
              "      <th>brand</th>\n",
              "      <th>price</th>\n",
              "      <th>target</th>\n",
              "    </tr>\n",
              "  </thead>\n",
              "  <tbody>\n",
              "    <tr>\n",
              "      <th>0</th>\n",
              "      <td>1569888268</td>\n",
              "      <td>535977220</td>\n",
              "      <td>8901605</td>\n",
              "      <td>kids</td>\n",
              "      <td>toys</td>\n",
              "      <td>chicco</td>\n",
              "      <td>74</td>\n",
              "      <td>0</td>\n",
              "    </tr>\n",
              "    <tr>\n",
              "      <th>1</th>\n",
              "      <td>1569888468</td>\n",
              "      <td>554754531</td>\n",
              "      <td>12100784</td>\n",
              "      <td>kids</td>\n",
              "      <td>skates</td>\n",
              "      <td>kugoo</td>\n",
              "      <td>568</td>\n",
              "      <td>0</td>\n",
              "    </tr>\n",
              "    <tr>\n",
              "      <th>2</th>\n",
              "      <td>1569888484</td>\n",
              "      <td>554754531</td>\n",
              "      <td>12100784</td>\n",
              "      <td>kids</td>\n",
              "      <td>skates</td>\n",
              "      <td>kugoo</td>\n",
              "      <td>568</td>\n",
              "      <td>0</td>\n",
              "    </tr>\n",
              "    <tr>\n",
              "      <th>3</th>\n",
              "      <td>1569891332</td>\n",
              "      <td>532131039</td>\n",
              "      <td>12100784</td>\n",
              "      <td>kids</td>\n",
              "      <td>skates</td>\n",
              "      <td>kugoo</td>\n",
              "      <td>568</td>\n",
              "      <td>0</td>\n",
              "    </tr>\n",
              "    <tr>\n",
              "      <th>4</th>\n",
              "      <td>1569891990</td>\n",
              "      <td>537742213</td>\n",
              "      <td>25800000</td>\n",
              "      <td>medicine</td>\n",
              "      <td>tonometer</td>\n",
              "      <td>omron</td>\n",
              "      <td>74</td>\n",
              "      <td>0</td>\n",
              "    </tr>\n",
              "    <tr>\n",
              "      <th>...</th>\n",
              "      <td>...</td>\n",
              "      <td>...</td>\n",
              "      <td>...</td>\n",
              "      <td>...</td>\n",
              "      <td>...</td>\n",
              "      <td>...</td>\n",
              "      <td>...</td>\n",
              "      <td>...</td>\n",
              "    </tr>\n",
              "    <tr>\n",
              "      <th>535420</th>\n",
              "      <td>1572566108</td>\n",
              "      <td>527150238</td>\n",
              "      <td>12100581</td>\n",
              "      <td>kids</td>\n",
              "      <td>skates</td>\n",
              "      <td>micmax</td>\n",
              "      <td>19</td>\n",
              "      <td>0</td>\n",
              "    </tr>\n",
              "    <tr>\n",
              "      <th>535421</th>\n",
              "      <td>1572566114</td>\n",
              "      <td>515351664</td>\n",
              "      <td>9002778</td>\n",
              "      <td>kids</td>\n",
              "      <td>toys</td>\n",
              "      <td>disney</td>\n",
              "      <td>10</td>\n",
              "      <td>0</td>\n",
              "    </tr>\n",
              "    <tr>\n",
              "      <th>535422</th>\n",
              "      <td>1572566119</td>\n",
              "      <td>515351664</td>\n",
              "      <td>9002778</td>\n",
              "      <td>kids</td>\n",
              "      <td>toys</td>\n",
              "      <td>disney</td>\n",
              "      <td>10</td>\n",
              "      <td>0</td>\n",
              "    </tr>\n",
              "    <tr>\n",
              "      <th>535423</th>\n",
              "      <td>1572566137</td>\n",
              "      <td>515351664</td>\n",
              "      <td>9002778</td>\n",
              "      <td>kids</td>\n",
              "      <td>toys</td>\n",
              "      <td>disney</td>\n",
              "      <td>10</td>\n",
              "      <td>0</td>\n",
              "    </tr>\n",
              "    <tr>\n",
              "      <th>535424</th>\n",
              "      <td>1572566264</td>\n",
              "      <td>560001750</td>\n",
              "      <td>9002778</td>\n",
              "      <td>kids</td>\n",
              "      <td>toys</td>\n",
              "      <td>disney</td>\n",
              "      <td>10</td>\n",
              "      <td>0</td>\n",
              "    </tr>\n",
              "  </tbody>\n",
              "</table>\n",
              "<p>535425 rows × 8 columns</p>\n",
              "</div>\n",
              "      <button class=\"colab-df-convert\" onclick=\"convertToInteractive('df-e994b8b0-c31a-49b4-8d26-021b3204786a')\"\n",
              "              title=\"Convert this dataframe to an interactive table.\"\n",
              "              style=\"display:none;\">\n",
              "        \n",
              "  <svg xmlns=\"http://www.w3.org/2000/svg\" height=\"24px\"viewBox=\"0 0 24 24\"\n",
              "       width=\"24px\">\n",
              "    <path d=\"M0 0h24v24H0V0z\" fill=\"none\"/>\n",
              "    <path d=\"M18.56 5.44l.94 2.06.94-2.06 2.06-.94-2.06-.94-.94-2.06-.94 2.06-2.06.94zm-11 1L8.5 8.5l.94-2.06 2.06-.94-2.06-.94L8.5 2.5l-.94 2.06-2.06.94zm10 10l.94 2.06.94-2.06 2.06-.94-2.06-.94-.94-2.06-.94 2.06-2.06.94z\"/><path d=\"M17.41 7.96l-1.37-1.37c-.4-.4-.92-.59-1.43-.59-.52 0-1.04.2-1.43.59L10.3 9.45l-7.72 7.72c-.78.78-.78 2.05 0 2.83L4 21.41c.39.39.9.59 1.41.59.51 0 1.02-.2 1.41-.59l7.78-7.78 2.81-2.81c.8-.78.8-2.07 0-2.86zM5.41 20L4 18.59l7.72-7.72 1.47 1.35L5.41 20z\"/>\n",
              "  </svg>\n",
              "      </button>\n",
              "      \n",
              "  <style>\n",
              "    .colab-df-container {\n",
              "      display:flex;\n",
              "      flex-wrap:wrap;\n",
              "      gap: 12px;\n",
              "    }\n",
              "\n",
              "    .colab-df-convert {\n",
              "      background-color: #E8F0FE;\n",
              "      border: none;\n",
              "      border-radius: 50%;\n",
              "      cursor: pointer;\n",
              "      display: none;\n",
              "      fill: #1967D2;\n",
              "      height: 32px;\n",
              "      padding: 0 0 0 0;\n",
              "      width: 32px;\n",
              "    }\n",
              "\n",
              "    .colab-df-convert:hover {\n",
              "      background-color: #E2EBFA;\n",
              "      box-shadow: 0px 1px 2px rgba(60, 64, 67, 0.3), 0px 1px 3px 1px rgba(60, 64, 67, 0.15);\n",
              "      fill: #174EA6;\n",
              "    }\n",
              "\n",
              "    [theme=dark] .colab-df-convert {\n",
              "      background-color: #3B4455;\n",
              "      fill: #D2E3FC;\n",
              "    }\n",
              "\n",
              "    [theme=dark] .colab-df-convert:hover {\n",
              "      background-color: #434B5C;\n",
              "      box-shadow: 0px 1px 3px 1px rgba(0, 0, 0, 0.15);\n",
              "      filter: drop-shadow(0px 1px 2px rgba(0, 0, 0, 0.3));\n",
              "      fill: #FFFFFF;\n",
              "    }\n",
              "  </style>\n",
              "\n",
              "      <script>\n",
              "        const buttonEl =\n",
              "          document.querySelector('#df-e994b8b0-c31a-49b4-8d26-021b3204786a button.colab-df-convert');\n",
              "        buttonEl.style.display =\n",
              "          google.colab.kernel.accessAllowed ? 'block' : 'none';\n",
              "\n",
              "        async function convertToInteractive(key) {\n",
              "          const element = document.querySelector('#df-e994b8b0-c31a-49b4-8d26-021b3204786a');\n",
              "          const dataTable =\n",
              "            await google.colab.kernel.invokeFunction('convertToInteractive',\n",
              "                                                     [key], {});\n",
              "          if (!dataTable) return;\n",
              "\n",
              "          const docLinkHtml = 'Like what you see? Visit the ' +\n",
              "            '<a target=\"_blank\" href=https://colab.research.google.com/notebooks/data_table.ipynb>data table notebook</a>'\n",
              "            + ' to learn more about interactive tables.';\n",
              "          element.innerHTML = '';\n",
              "          dataTable['output_type'] = 'display_data';\n",
              "          await google.colab.output.renderOutput(dataTable, element);\n",
              "          const docLink = document.createElement('div');\n",
              "          docLink.innerHTML = docLinkHtml;\n",
              "          element.appendChild(docLink);\n",
              "        }\n",
              "      </script>\n",
              "    </div>\n",
              "  </div>\n",
              "  "
            ]
          },
          "metadata": {},
          "execution_count": 5
        }
      ]
    },
    {
      "cell_type": "code",
      "source": [
        "reader = surprise.Reader(rating_scale=[0, 2])\n",
        "dataset=surprise.Dataset.load_from_df(data[['user_id', 'product_id', 'target']], reader)\n",
        "trainset = dataset.build_full_trainset()"
      ],
      "metadata": {
        "id": "nT1iJBctWKRx"
      },
      "execution_count": 6,
      "outputs": []
    },
    {
      "cell_type": "code",
      "source": [
        "algo = surprise.SVD()\n",
        "algo.fit(trainset)"
      ],
      "metadata": {
        "id": "wjzlf9MwYgzk",
        "colab": {
          "base_uri": "https://localhost:8080/"
        },
        "outputId": "6aad2476-d8d9-4062-cbad-a533017e5073"
      },
      "execution_count": 7,
      "outputs": [
        {
          "output_type": "execute_result",
          "data": {
            "text/plain": [
              "<surprise.prediction_algorithms.matrix_factorization.SVD at 0x7f9b384ac6a0>"
            ]
          },
          "metadata": {},
          "execution_count": 7
        }
      ]
    },
    {
      "cell_type": "code",
      "source": [
        "surprise.dump.dump('/content/drive/MyDrive/project2_2/model/svd_model4',algo=algo)"
      ],
      "metadata": {
        "id": "lSG9XXQDhANC"
      },
      "execution_count": 8,
      "outputs": []
    }
  ]
}
