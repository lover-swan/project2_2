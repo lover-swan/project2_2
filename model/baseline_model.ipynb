{
  "nbformat": 4,
  "nbformat_minor": 0,
  "metadata": {
    "colab": {
      "provenance": [],
      "mount_file_id": "https://github.com/lover-swan/project2_2/blob/main/model/baseline_model.ipynb",
      "authorship_tag": "ABX9TyM1hcspkbxys1XBe0Z/bq8J",
      "include_colab_link": true
    },
    "kernelspec": {
      "name": "python3",
      "display_name": "Python 3"
    },
    "language_info": {
      "name": "python"
    },
    "accelerator": "GPU",
    "gpuClass": "standard"
  },
  "cells": [
    {
      "cell_type": "markdown",
      "metadata": {
        "id": "view-in-github",
        "colab_type": "text"
      },
      "source": [
        "<a href=\"https://colab.research.google.com/github/lover-swan/project2_2/blob/main/model/baseline_model.ipynb\" target=\"_parent\"><img src=\"https://colab.research.google.com/assets/colab-badge.svg\" alt=\"Open In Colab\"/></a>"
      ]
    },
    {
      "cell_type": "code",
      "execution_count": 1,
      "metadata": {
        "id": "VptIQU7krRQV"
      },
      "outputs": [],
      "source": [
        "import pandas as pd\n",
        "import numpy as np\n",
        "import surprise"
      ]
    },
    {
      "cell_type": "code",
      "source": [
        "train_data=pd.read_pickle('/content/drive/MyDrive/project2_2/train_data.pkl')\n",
        "test_data=pd.read_pickle('/content/drive/MyDrive/project2_2/test_data.pkl')"
      ],
      "metadata": {
        "id": "ZERTPoM3S_je"
      },
      "execution_count": 2,
      "outputs": []
    },
    {
      "cell_type": "code",
      "source": [
        "train_data"
      ],
      "metadata": {
        "id": "jOiheCSOsB9-",
        "outputId": "96fd62aa-e042-43da-f1f0-56c81cb00b1c",
        "colab": {
          "base_uri": "https://localhost:8080/",
          "height": 424
        }
      },
      "execution_count": 3,
      "outputs": [
        {
          "output_type": "execute_result",
          "data": {
            "text/plain": [
              "          event_time    user_id  product_id large_category small_category  \\\n",
              "1275898   1570037773  556102404     1307356      computers       notebook   \n",
              "276993    1569925076  528467081     1005160    electronics     smartphone   \n",
              "13380600  1571406372  547142844     2701698     appliances  refrigerators   \n",
              "2950451   1570251070  513288503     4800900    electronics      headphone   \n",
              "417080    1569938768  512871735     2400262     appliances           hood   \n",
              "...              ...        ...         ...            ...            ...   \n",
              "14417581  1571507735  562002472     1004256    electronics     smartphone   \n",
              "1150762   1570028381  534275871     1201256    electronics         tablet   \n",
              "9468452   1571015947  537944490     1004836    electronics     smartphone   \n",
              "15448018  1571631447  512650263     4804056    electronics      headphone   \n",
              "551256    1569948441  515160017     6400333      computers            cpu   \n",
              "\n",
              "            brand  price  target  \n",
              "1275898      asus    373       0  \n",
              "276993     xiaomi    231       0  \n",
              "13380600    bosch    475       0  \n",
              "2950451       NaN      7       0  \n",
              "417080      hansa    257       0  \n",
              "...           ...    ...     ...  \n",
              "14417581    apple    801       0  \n",
              "1150762    huawei    178       0  \n",
              "9468452   samsung    229       0  \n",
              "15448018    apple    160       0  \n",
              "551256      intel     99       0  \n",
              "\n",
              "[18741707 rows x 8 columns]"
            ],
            "text/html": [
              "\n",
              "  <div id=\"df-2ebb2091-63f7-4a47-aae9-f39dd7e64cf6\">\n",
              "    <div class=\"colab-df-container\">\n",
              "      <div>\n",
              "<style scoped>\n",
              "    .dataframe tbody tr th:only-of-type {\n",
              "        vertical-align: middle;\n",
              "    }\n",
              "\n",
              "    .dataframe tbody tr th {\n",
              "        vertical-align: top;\n",
              "    }\n",
              "\n",
              "    .dataframe thead th {\n",
              "        text-align: right;\n",
              "    }\n",
              "</style>\n",
              "<table border=\"1\" class=\"dataframe\">\n",
              "  <thead>\n",
              "    <tr style=\"text-align: right;\">\n",
              "      <th></th>\n",
              "      <th>event_time</th>\n",
              "      <th>user_id</th>\n",
              "      <th>product_id</th>\n",
              "      <th>large_category</th>\n",
              "      <th>small_category</th>\n",
              "      <th>brand</th>\n",
              "      <th>price</th>\n",
              "      <th>target</th>\n",
              "    </tr>\n",
              "  </thead>\n",
              "  <tbody>\n",
              "    <tr>\n",
              "      <th>1275898</th>\n",
              "      <td>1570037773</td>\n",
              "      <td>556102404</td>\n",
              "      <td>1307356</td>\n",
              "      <td>computers</td>\n",
              "      <td>notebook</td>\n",
              "      <td>asus</td>\n",
              "      <td>373</td>\n",
              "      <td>0</td>\n",
              "    </tr>\n",
              "    <tr>\n",
              "      <th>276993</th>\n",
              "      <td>1569925076</td>\n",
              "      <td>528467081</td>\n",
              "      <td>1005160</td>\n",
              "      <td>electronics</td>\n",
              "      <td>smartphone</td>\n",
              "      <td>xiaomi</td>\n",
              "      <td>231</td>\n",
              "      <td>0</td>\n",
              "    </tr>\n",
              "    <tr>\n",
              "      <th>13380600</th>\n",
              "      <td>1571406372</td>\n",
              "      <td>547142844</td>\n",
              "      <td>2701698</td>\n",
              "      <td>appliances</td>\n",
              "      <td>refrigerators</td>\n",
              "      <td>bosch</td>\n",
              "      <td>475</td>\n",
              "      <td>0</td>\n",
              "    </tr>\n",
              "    <tr>\n",
              "      <th>2950451</th>\n",
              "      <td>1570251070</td>\n",
              "      <td>513288503</td>\n",
              "      <td>4800900</td>\n",
              "      <td>electronics</td>\n",
              "      <td>headphone</td>\n",
              "      <td>NaN</td>\n",
              "      <td>7</td>\n",
              "      <td>0</td>\n",
              "    </tr>\n",
              "    <tr>\n",
              "      <th>417080</th>\n",
              "      <td>1569938768</td>\n",
              "      <td>512871735</td>\n",
              "      <td>2400262</td>\n",
              "      <td>appliances</td>\n",
              "      <td>hood</td>\n",
              "      <td>hansa</td>\n",
              "      <td>257</td>\n",
              "      <td>0</td>\n",
              "    </tr>\n",
              "    <tr>\n",
              "      <th>...</th>\n",
              "      <td>...</td>\n",
              "      <td>...</td>\n",
              "      <td>...</td>\n",
              "      <td>...</td>\n",
              "      <td>...</td>\n",
              "      <td>...</td>\n",
              "      <td>...</td>\n",
              "      <td>...</td>\n",
              "    </tr>\n",
              "    <tr>\n",
              "      <th>14417581</th>\n",
              "      <td>1571507735</td>\n",
              "      <td>562002472</td>\n",
              "      <td>1004256</td>\n",
              "      <td>electronics</td>\n",
              "      <td>smartphone</td>\n",
              "      <td>apple</td>\n",
              "      <td>801</td>\n",
              "      <td>0</td>\n",
              "    </tr>\n",
              "    <tr>\n",
              "      <th>1150762</th>\n",
              "      <td>1570028381</td>\n",
              "      <td>534275871</td>\n",
              "      <td>1201256</td>\n",
              "      <td>electronics</td>\n",
              "      <td>tablet</td>\n",
              "      <td>huawei</td>\n",
              "      <td>178</td>\n",
              "      <td>0</td>\n",
              "    </tr>\n",
              "    <tr>\n",
              "      <th>9468452</th>\n",
              "      <td>1571015947</td>\n",
              "      <td>537944490</td>\n",
              "      <td>1004836</td>\n",
              "      <td>electronics</td>\n",
              "      <td>smartphone</td>\n",
              "      <td>samsung</td>\n",
              "      <td>229</td>\n",
              "      <td>0</td>\n",
              "    </tr>\n",
              "    <tr>\n",
              "      <th>15448018</th>\n",
              "      <td>1571631447</td>\n",
              "      <td>512650263</td>\n",
              "      <td>4804056</td>\n",
              "      <td>electronics</td>\n",
              "      <td>headphone</td>\n",
              "      <td>apple</td>\n",
              "      <td>160</td>\n",
              "      <td>0</td>\n",
              "    </tr>\n",
              "    <tr>\n",
              "      <th>551256</th>\n",
              "      <td>1569948441</td>\n",
              "      <td>515160017</td>\n",
              "      <td>6400333</td>\n",
              "      <td>computers</td>\n",
              "      <td>cpu</td>\n",
              "      <td>intel</td>\n",
              "      <td>99</td>\n",
              "      <td>0</td>\n",
              "    </tr>\n",
              "  </tbody>\n",
              "</table>\n",
              "<p>18741707 rows × 8 columns</p>\n",
              "</div>\n",
              "      <button class=\"colab-df-convert\" onclick=\"convertToInteractive('df-2ebb2091-63f7-4a47-aae9-f39dd7e64cf6')\"\n",
              "              title=\"Convert this dataframe to an interactive table.\"\n",
              "              style=\"display:none;\">\n",
              "        \n",
              "  <svg xmlns=\"http://www.w3.org/2000/svg\" height=\"24px\"viewBox=\"0 0 24 24\"\n",
              "       width=\"24px\">\n",
              "    <path d=\"M0 0h24v24H0V0z\" fill=\"none\"/>\n",
              "    <path d=\"M18.56 5.44l.94 2.06.94-2.06 2.06-.94-2.06-.94-.94-2.06-.94 2.06-2.06.94zm-11 1L8.5 8.5l.94-2.06 2.06-.94-2.06-.94L8.5 2.5l-.94 2.06-2.06.94zm10 10l.94 2.06.94-2.06 2.06-.94-2.06-.94-.94-2.06-.94 2.06-2.06.94z\"/><path d=\"M17.41 7.96l-1.37-1.37c-.4-.4-.92-.59-1.43-.59-.52 0-1.04.2-1.43.59L10.3 9.45l-7.72 7.72c-.78.78-.78 2.05 0 2.83L4 21.41c.39.39.9.59 1.41.59.51 0 1.02-.2 1.41-.59l7.78-7.78 2.81-2.81c.8-.78.8-2.07 0-2.86zM5.41 20L4 18.59l7.72-7.72 1.47 1.35L5.41 20z\"/>\n",
              "  </svg>\n",
              "      </button>\n",
              "      \n",
              "  <style>\n",
              "    .colab-df-container {\n",
              "      display:flex;\n",
              "      flex-wrap:wrap;\n",
              "      gap: 12px;\n",
              "    }\n",
              "\n",
              "    .colab-df-convert {\n",
              "      background-color: #E8F0FE;\n",
              "      border: none;\n",
              "      border-radius: 50%;\n",
              "      cursor: pointer;\n",
              "      display: none;\n",
              "      fill: #1967D2;\n",
              "      height: 32px;\n",
              "      padding: 0 0 0 0;\n",
              "      width: 32px;\n",
              "    }\n",
              "\n",
              "    .colab-df-convert:hover {\n",
              "      background-color: #E2EBFA;\n",
              "      box-shadow: 0px 1px 2px rgba(60, 64, 67, 0.3), 0px 1px 3px 1px rgba(60, 64, 67, 0.15);\n",
              "      fill: #174EA6;\n",
              "    }\n",
              "\n",
              "    [theme=dark] .colab-df-convert {\n",
              "      background-color: #3B4455;\n",
              "      fill: #D2E3FC;\n",
              "    }\n",
              "\n",
              "    [theme=dark] .colab-df-convert:hover {\n",
              "      background-color: #434B5C;\n",
              "      box-shadow: 0px 1px 3px 1px rgba(0, 0, 0, 0.15);\n",
              "      filter: drop-shadow(0px 1px 2px rgba(0, 0, 0, 0.3));\n",
              "      fill: #FFFFFF;\n",
              "    }\n",
              "  </style>\n",
              "\n",
              "      <script>\n",
              "        const buttonEl =\n",
              "          document.querySelector('#df-2ebb2091-63f7-4a47-aae9-f39dd7e64cf6 button.colab-df-convert');\n",
              "        buttonEl.style.display =\n",
              "          google.colab.kernel.accessAllowed ? 'block' : 'none';\n",
              "\n",
              "        async function convertToInteractive(key) {\n",
              "          const element = document.querySelector('#df-2ebb2091-63f7-4a47-aae9-f39dd7e64cf6');\n",
              "          const dataTable =\n",
              "            await google.colab.kernel.invokeFunction('convertToInteractive',\n",
              "                                                     [key], {});\n",
              "          if (!dataTable) return;\n",
              "\n",
              "          const docLinkHtml = 'Like what you see? Visit the ' +\n",
              "            '<a target=\"_blank\" href=https://colab.research.google.com/notebooks/data_table.ipynb>data table notebook</a>'\n",
              "            + ' to learn more about interactive tables.';\n",
              "          element.innerHTML = '';\n",
              "          dataTable['output_type'] = 'display_data';\n",
              "          await google.colab.output.renderOutput(dataTable, element);\n",
              "          const docLink = document.createElement('div');\n",
              "          docLink.innerHTML = docLinkHtml;\n",
              "          element.appendChild(docLink);\n",
              "        }\n",
              "      </script>\n",
              "    </div>\n",
              "  </div>\n",
              "  "
            ]
          },
          "metadata": {},
          "execution_count": 3
        }
      ]
    },
    {
      "cell_type": "code",
      "source": [
        "reader = surprise.Reader(rating_scale=(0, 2))\n",
        "trainset=surprise.Dataset.load_from_df(train_data[['user_id', 'product_id', 'target']], reader).build_full_trainset()"
      ],
      "metadata": {
        "id": "nT1iJBctWKRx"
      },
      "execution_count": 4,
      "outputs": []
    },
    {
      "cell_type": "code",
      "source": [
        "bsl_options = {'method': 'als',\n",
        "               'n_epochs': 5,\n",
        "               'reg_u': 12,\n",
        "               'reg_i': 3\n",
        "               }"
      ],
      "metadata": {
        "id": "gMa12waKvl1G"
      },
      "execution_count": 7,
      "outputs": []
    },
    {
      "cell_type": "code",
      "source": [
        "algo = surprise.BaselineOnly(bsl_options=bsl_options)\n",
        "algo.fit(trainset)"
      ],
      "metadata": {
        "id": "wjzlf9MwYgzk",
        "outputId": "418ec1c9-04c8-4ca4-ec38-eefddfc6b7de",
        "colab": {
          "base_uri": "https://localhost:8080/"
        }
      },
      "execution_count": 8,
      "outputs": [
        {
          "output_type": "stream",
          "name": "stdout",
          "text": [
            "Estimating biases using als...\n"
          ]
        },
        {
          "output_type": "execute_result",
          "data": {
            "text/plain": [
              "<surprise.prediction_algorithms.baseline_only.BaselineOnly at 0x7f83cc2f8520>"
            ]
          },
          "metadata": {},
          "execution_count": 8
        }
      ]
    },
    {
      "cell_type": "code",
      "source": [
        "surprise.dump.dump('/content/drive/MyDrive/project2_2/baseline_model.h5', algo=algo)"
      ],
      "metadata": {
        "id": "xbLNnPYdO2t2"
      },
      "execution_count": 9,
      "outputs": []
    }
  ]
}