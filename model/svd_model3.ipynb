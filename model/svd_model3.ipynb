{
  "nbformat": 4,
  "nbformat_minor": 0,
  "metadata": {
    "colab": {
      "provenance": [],
      "machine_shape": "hm",
      "mount_file_id": "https://github.com/lover-swan/project2_2/blob/main/model/svd_model2.ipynb",
      "authorship_tag": "ABX9TyM06qpHjR5JT/s/upxoyahA",
      "include_colab_link": true
    },
    "kernelspec": {
      "name": "python3",
      "display_name": "Python 3"
    },
    "language_info": {
      "name": "python"
    },
    "gpuClass": "premium"
  },
  "cells": [
    {
      "cell_type": "markdown",
      "metadata": {
        "id": "view-in-github",
        "colab_type": "text"
      },
      "source": [
        "<a href=\"https://colab.research.google.com/github/lover-swan/project2_2/blob/main/model/svd_model3.ipynb\" target=\"_parent\"><img src=\"https://colab.research.google.com/assets/colab-badge.svg\" alt=\"Open In Colab\"/></a>"
      ]
    },
    {
      "cell_type": "code",
      "source": [
        "!pip install surprise"
      ],
      "metadata": {
        "id": "PIZPrQBX9EYh",
        "outputId": "0fdf1c66-e29e-45aa-8d80-31ec65f13afc",
        "colab": {
          "base_uri": "https://localhost:8080/"
        }
      },
      "execution_count": 2,
      "outputs": [
        {
          "output_type": "stream",
          "name": "stdout",
          "text": [
            "Looking in indexes: https://pypi.org/simple, https://us-python.pkg.dev/colab-wheels/public/simple/\n",
            "Collecting surprise\n",
            "  Downloading surprise-0.1-py2.py3-none-any.whl (1.8 kB)\n",
            "Collecting scikit-surprise\n",
            "  Downloading scikit-surprise-1.1.3.tar.gz (771 kB)\n",
            "\u001b[2K     \u001b[90m━━━━━━━━━━━━━━━━━━━━━━━━━━━━━━━━━━━━━━\u001b[0m \u001b[32m772.0/772.0 KB\u001b[0m \u001b[31m27.2 MB/s\u001b[0m eta \u001b[36m0:00:00\u001b[0m\n",
            "\u001b[?25h  Preparing metadata (setup.py) ... \u001b[?25l\u001b[?25hdone\n",
            "Requirement already satisfied: joblib>=1.0.0 in /usr/local/lib/python3.8/dist-packages (from scikit-surprise->surprise) (1.2.0)\n",
            "Requirement already satisfied: numpy>=1.17.3 in /usr/local/lib/python3.8/dist-packages (from scikit-surprise->surprise) (1.21.6)\n",
            "Requirement already satisfied: scipy>=1.3.2 in /usr/local/lib/python3.8/dist-packages (from scikit-surprise->surprise) (1.7.3)\n",
            "Building wheels for collected packages: scikit-surprise\n",
            "  Building wheel for scikit-surprise (setup.py) ... \u001b[?25l\u001b[?25hdone\n",
            "  Created wheel for scikit-surprise: filename=scikit_surprise-1.1.3-cp38-cp38-linux_x86_64.whl size=3366445 sha256=ad8f1be4531aeec1af227dce908802484fa14c7d0c4cece388d84d7f70906feb\n",
            "  Stored in directory: /root/.cache/pip/wheels/af/db/86/2c18183a80ba05da35bf0fb7417aac5cddbd93bcb1b92fd3ea\n",
            "Successfully built scikit-surprise\n",
            "Installing collected packages: scikit-surprise, surprise\n",
            "Successfully installed scikit-surprise-1.1.3 surprise-0.1\n"
          ]
        }
      ]
    },
    {
      "cell_type": "code",
      "execution_count": 3,
      "metadata": {
        "id": "VptIQU7krRQV"
      },
      "outputs": [],
      "source": [
        "import pandas as pd\n",
        "import numpy as np\n",
        "import surprise"
      ]
    },
    {
      "cell_type": "code",
      "source": [
        "data=pd.read_pickle('/content/drive/MyDrive/project2_2/target_data3.pkl')"
      ],
      "metadata": {
        "id": "ZERTPoM3S_je"
      },
      "execution_count": 4,
      "outputs": []
    },
    {
      "cell_type": "code",
      "source": [
        "data"
      ],
      "metadata": {
        "id": "jOiheCSOsB9-",
        "outputId": "2f260280-42fc-488c-cea1-02a3ed59373b",
        "colab": {
          "base_uri": "https://localhost:8080/",
          "height": 424
        }
      },
      "execution_count": 5,
      "outputs": [
        {
          "output_type": "execute_result",
          "data": {
            "text/plain": [
              "         event_time    user_id  product_id large_category small_category  \\\n",
              "0        1569888010  520571932    28719074        apparel           keds   \n",
              "1        1569888026  520571932    28719071        apparel           keds   \n",
              "2        1569888028  555447570    28714755        apparel          shoes   \n",
              "3        1569888031  545323115    28718079        apparel           keds   \n",
              "4        1569888033  513798668    28717908        apparel          shoes   \n",
              "...             ...        ...         ...            ...            ...   \n",
              "1965393  1572566351  566175330    56300074        apparel         jumper   \n",
              "1965394  1572566361  514548537    28717850        apparel          shoes   \n",
              "1965395  1572566366  545220871    44300048        apparel          jeans   \n",
              "1965396  1572566383  545220871    44300021        apparel          jeans   \n",
              "1965397  1572566397  545220871    44300011        apparel          jeans   \n",
              "\n",
              "                brand  price  target  \n",
              "0               baden    102       0  \n",
              "1               baden    102       0  \n",
              "2             respect     51       0  \n",
              "3             respect     66       0  \n",
              "4        burgerschuhe    102       0  \n",
              "...               ...    ...     ...  \n",
              "1965393   conceptclub     30       0  \n",
              "1965394           NaN    177       0  \n",
              "1965395           NaN     59       0  \n",
              "1965396           NaN     48       0  \n",
              "1965397           NaN     50       0  \n",
              "\n",
              "[1965398 rows x 8 columns]"
            ],
            "text/html": [
              "\n",
              "  <div id=\"df-29de0f0e-6b90-4a62-afa3-b35c28b72ec3\">\n",
              "    <div class=\"colab-df-container\">\n",
              "      <div>\n",
              "<style scoped>\n",
              "    .dataframe tbody tr th:only-of-type {\n",
              "        vertical-align: middle;\n",
              "    }\n",
              "\n",
              "    .dataframe tbody tr th {\n",
              "        vertical-align: top;\n",
              "    }\n",
              "\n",
              "    .dataframe thead th {\n",
              "        text-align: right;\n",
              "    }\n",
              "</style>\n",
              "<table border=\"1\" class=\"dataframe\">\n",
              "  <thead>\n",
              "    <tr style=\"text-align: right;\">\n",
              "      <th></th>\n",
              "      <th>event_time</th>\n",
              "      <th>user_id</th>\n",
              "      <th>product_id</th>\n",
              "      <th>large_category</th>\n",
              "      <th>small_category</th>\n",
              "      <th>brand</th>\n",
              "      <th>price</th>\n",
              "      <th>target</th>\n",
              "    </tr>\n",
              "  </thead>\n",
              "  <tbody>\n",
              "    <tr>\n",
              "      <th>0</th>\n",
              "      <td>1569888010</td>\n",
              "      <td>520571932</td>\n",
              "      <td>28719074</td>\n",
              "      <td>apparel</td>\n",
              "      <td>keds</td>\n",
              "      <td>baden</td>\n",
              "      <td>102</td>\n",
              "      <td>0</td>\n",
              "    </tr>\n",
              "    <tr>\n",
              "      <th>1</th>\n",
              "      <td>1569888026</td>\n",
              "      <td>520571932</td>\n",
              "      <td>28719071</td>\n",
              "      <td>apparel</td>\n",
              "      <td>keds</td>\n",
              "      <td>baden</td>\n",
              "      <td>102</td>\n",
              "      <td>0</td>\n",
              "    </tr>\n",
              "    <tr>\n",
              "      <th>2</th>\n",
              "      <td>1569888028</td>\n",
              "      <td>555447570</td>\n",
              "      <td>28714755</td>\n",
              "      <td>apparel</td>\n",
              "      <td>shoes</td>\n",
              "      <td>respect</td>\n",
              "      <td>51</td>\n",
              "      <td>0</td>\n",
              "    </tr>\n",
              "    <tr>\n",
              "      <th>3</th>\n",
              "      <td>1569888031</td>\n",
              "      <td>545323115</td>\n",
              "      <td>28718079</td>\n",
              "      <td>apparel</td>\n",
              "      <td>keds</td>\n",
              "      <td>respect</td>\n",
              "      <td>66</td>\n",
              "      <td>0</td>\n",
              "    </tr>\n",
              "    <tr>\n",
              "      <th>4</th>\n",
              "      <td>1569888033</td>\n",
              "      <td>513798668</td>\n",
              "      <td>28717908</td>\n",
              "      <td>apparel</td>\n",
              "      <td>shoes</td>\n",
              "      <td>burgerschuhe</td>\n",
              "      <td>102</td>\n",
              "      <td>0</td>\n",
              "    </tr>\n",
              "    <tr>\n",
              "      <th>...</th>\n",
              "      <td>...</td>\n",
              "      <td>...</td>\n",
              "      <td>...</td>\n",
              "      <td>...</td>\n",
              "      <td>...</td>\n",
              "      <td>...</td>\n",
              "      <td>...</td>\n",
              "      <td>...</td>\n",
              "    </tr>\n",
              "    <tr>\n",
              "      <th>1965393</th>\n",
              "      <td>1572566351</td>\n",
              "      <td>566175330</td>\n",
              "      <td>56300074</td>\n",
              "      <td>apparel</td>\n",
              "      <td>jumper</td>\n",
              "      <td>conceptclub</td>\n",
              "      <td>30</td>\n",
              "      <td>0</td>\n",
              "    </tr>\n",
              "    <tr>\n",
              "      <th>1965394</th>\n",
              "      <td>1572566361</td>\n",
              "      <td>514548537</td>\n",
              "      <td>28717850</td>\n",
              "      <td>apparel</td>\n",
              "      <td>shoes</td>\n",
              "      <td>NaN</td>\n",
              "      <td>177</td>\n",
              "      <td>0</td>\n",
              "    </tr>\n",
              "    <tr>\n",
              "      <th>1965395</th>\n",
              "      <td>1572566366</td>\n",
              "      <td>545220871</td>\n",
              "      <td>44300048</td>\n",
              "      <td>apparel</td>\n",
              "      <td>jeans</td>\n",
              "      <td>NaN</td>\n",
              "      <td>59</td>\n",
              "      <td>0</td>\n",
              "    </tr>\n",
              "    <tr>\n",
              "      <th>1965396</th>\n",
              "      <td>1572566383</td>\n",
              "      <td>545220871</td>\n",
              "      <td>44300021</td>\n",
              "      <td>apparel</td>\n",
              "      <td>jeans</td>\n",
              "      <td>NaN</td>\n",
              "      <td>48</td>\n",
              "      <td>0</td>\n",
              "    </tr>\n",
              "    <tr>\n",
              "      <th>1965397</th>\n",
              "      <td>1572566397</td>\n",
              "      <td>545220871</td>\n",
              "      <td>44300011</td>\n",
              "      <td>apparel</td>\n",
              "      <td>jeans</td>\n",
              "      <td>NaN</td>\n",
              "      <td>50</td>\n",
              "      <td>0</td>\n",
              "    </tr>\n",
              "  </tbody>\n",
              "</table>\n",
              "<p>1965398 rows × 8 columns</p>\n",
              "</div>\n",
              "      <button class=\"colab-df-convert\" onclick=\"convertToInteractive('df-29de0f0e-6b90-4a62-afa3-b35c28b72ec3')\"\n",
              "              title=\"Convert this dataframe to an interactive table.\"\n",
              "              style=\"display:none;\">\n",
              "        \n",
              "  <svg xmlns=\"http://www.w3.org/2000/svg\" height=\"24px\"viewBox=\"0 0 24 24\"\n",
              "       width=\"24px\">\n",
              "    <path d=\"M0 0h24v24H0V0z\" fill=\"none\"/>\n",
              "    <path d=\"M18.56 5.44l.94 2.06.94-2.06 2.06-.94-2.06-.94-.94-2.06-.94 2.06-2.06.94zm-11 1L8.5 8.5l.94-2.06 2.06-.94-2.06-.94L8.5 2.5l-.94 2.06-2.06.94zm10 10l.94 2.06.94-2.06 2.06-.94-2.06-.94-.94-2.06-.94 2.06-2.06.94z\"/><path d=\"M17.41 7.96l-1.37-1.37c-.4-.4-.92-.59-1.43-.59-.52 0-1.04.2-1.43.59L10.3 9.45l-7.72 7.72c-.78.78-.78 2.05 0 2.83L4 21.41c.39.39.9.59 1.41.59.51 0 1.02-.2 1.41-.59l7.78-7.78 2.81-2.81c.8-.78.8-2.07 0-2.86zM5.41 20L4 18.59l7.72-7.72 1.47 1.35L5.41 20z\"/>\n",
              "  </svg>\n",
              "      </button>\n",
              "      \n",
              "  <style>\n",
              "    .colab-df-container {\n",
              "      display:flex;\n",
              "      flex-wrap:wrap;\n",
              "      gap: 12px;\n",
              "    }\n",
              "\n",
              "    .colab-df-convert {\n",
              "      background-color: #E8F0FE;\n",
              "      border: none;\n",
              "      border-radius: 50%;\n",
              "      cursor: pointer;\n",
              "      display: none;\n",
              "      fill: #1967D2;\n",
              "      height: 32px;\n",
              "      padding: 0 0 0 0;\n",
              "      width: 32px;\n",
              "    }\n",
              "\n",
              "    .colab-df-convert:hover {\n",
              "      background-color: #E2EBFA;\n",
              "      box-shadow: 0px 1px 2px rgba(60, 64, 67, 0.3), 0px 1px 3px 1px rgba(60, 64, 67, 0.15);\n",
              "      fill: #174EA6;\n",
              "    }\n",
              "\n",
              "    [theme=dark] .colab-df-convert {\n",
              "      background-color: #3B4455;\n",
              "      fill: #D2E3FC;\n",
              "    }\n",
              "\n",
              "    [theme=dark] .colab-df-convert:hover {\n",
              "      background-color: #434B5C;\n",
              "      box-shadow: 0px 1px 3px 1px rgba(0, 0, 0, 0.15);\n",
              "      filter: drop-shadow(0px 1px 2px rgba(0, 0, 0, 0.3));\n",
              "      fill: #FFFFFF;\n",
              "    }\n",
              "  </style>\n",
              "\n",
              "      <script>\n",
              "        const buttonEl =\n",
              "          document.querySelector('#df-29de0f0e-6b90-4a62-afa3-b35c28b72ec3 button.colab-df-convert');\n",
              "        buttonEl.style.display =\n",
              "          google.colab.kernel.accessAllowed ? 'block' : 'none';\n",
              "\n",
              "        async function convertToInteractive(key) {\n",
              "          const element = document.querySelector('#df-29de0f0e-6b90-4a62-afa3-b35c28b72ec3');\n",
              "          const dataTable =\n",
              "            await google.colab.kernel.invokeFunction('convertToInteractive',\n",
              "                                                     [key], {});\n",
              "          if (!dataTable) return;\n",
              "\n",
              "          const docLinkHtml = 'Like what you see? Visit the ' +\n",
              "            '<a target=\"_blank\" href=https://colab.research.google.com/notebooks/data_table.ipynb>data table notebook</a>'\n",
              "            + ' to learn more about interactive tables.';\n",
              "          element.innerHTML = '';\n",
              "          dataTable['output_type'] = 'display_data';\n",
              "          await google.colab.output.renderOutput(dataTable, element);\n",
              "          const docLink = document.createElement('div');\n",
              "          docLink.innerHTML = docLinkHtml;\n",
              "          element.appendChild(docLink);\n",
              "        }\n",
              "      </script>\n",
              "    </div>\n",
              "  </div>\n",
              "  "
            ]
          },
          "metadata": {},
          "execution_count": 5
        }
      ]
    },
    {
      "cell_type": "code",
      "source": [
        "reader = surprise.Reader(rating_scale=[0, 2])\n",
        "dataset=surprise.Dataset.load_from_df(data[['user_id', 'product_id', 'target']], reader)\n",
        "trainset = dataset.build_full_trainset()"
      ],
      "metadata": {
        "id": "nT1iJBctWKRx"
      },
      "execution_count": 6,
      "outputs": []
    },
    {
      "cell_type": "code",
      "source": [
        "algo = surprise.SVD()\n",
        "algo.fit(trainset)"
      ],
      "metadata": {
        "id": "wjzlf9MwYgzk",
        "colab": {
          "base_uri": "https://localhost:8080/"
        },
        "outputId": "d536ddd6-c220-4475-88d2-1eab05e2e543"
      },
      "execution_count": 7,
      "outputs": [
        {
          "output_type": "execute_result",
          "data": {
            "text/plain": [
              "<surprise.prediction_algorithms.matrix_factorization.SVD at 0x7f694951ba30>"
            ]
          },
          "metadata": {},
          "execution_count": 7
        }
      ]
    },
    {
      "cell_type": "code",
      "source": [
        "surprise.dump.dump('/content/drive/MyDrive/project2_2/model/svd_model3',algo=algo)"
      ],
      "metadata": {
        "id": "lSG9XXQDhANC"
      },
      "execution_count": 8,
      "outputs": []
    }
  ]
}