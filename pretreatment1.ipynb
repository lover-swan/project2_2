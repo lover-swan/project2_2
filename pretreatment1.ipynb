{
  "nbformat": 4,
  "nbformat_minor": 0,
  "metadata": {
    "colab": {
      "provenance": [],
      "mount_file_id": "https://github.com/lover-swan/project2_2/blob/main/pretreatment1.ipynb",
      "authorship_tag": "ABX9TyO5LSrpWBVc+WDWHyZMY7TB",
      "include_colab_link": true
    },
    "kernelspec": {
      "name": "python3",
      "display_name": "Python 3"
    },
    "language_info": {
      "name": "python"
    }
  },
  "cells": [
    {
      "cell_type": "markdown",
      "metadata": {
        "id": "view-in-github",
        "colab_type": "text"
      },
      "source": [
        "<a href=\"https://colab.research.google.com/github/lover-swan/project2_2/blob/main/pretreatment1.ipynb\" target=\"_parent\"><img src=\"https://colab.research.google.com/assets/colab-badge.svg\" alt=\"Open In Colab\"/></a>"
      ]
    },
    {
      "cell_type": "code",
      "execution_count": 1,
      "metadata": {
        "id": "yyhebSWoaCJ_"
      },
      "outputs": [],
      "source": [
        "import pandas as pd\n",
        "import numpy as np\n",
        "from tqdm import tqdm"
      ]
    },
    {
      "cell_type": "code",
      "source": [
        "data=pd.read_pickle('/content/drive/MyDrive/project2_2/data.pkl')"
      ],
      "metadata": {
        "id": "3kicpKZRaN27"
      },
      "execution_count": 2,
      "outputs": []
    },
    {
      "cell_type": "code",
      "source": [
        "data"
      ],
      "metadata": {
        "colab": {
          "base_uri": "https://localhost:8080/",
          "height": 468
        },
        "id": "dg6GqNBRagxE",
        "outputId": "706815c0-a98e-4908-b8f5-dd4f25ceefb2"
      },
      "execution_count": 3,
      "outputs": [
        {
          "output_type": "execute_result",
          "data": {
            "text/plain": [
              "                   event_time  product_id  \\\n",
              "0         1569888000000000000    44600062   \n",
              "1         1569888000000000000     3900821   \n",
              "2         1569888001000000000    17200506   \n",
              "3         1569888001000000000     1307067   \n",
              "4         1569888004000000000     1004237   \n",
              "...                       ...         ...   \n",
              "42448759  1572566398000000000     2300275   \n",
              "42448760  1572566398000000000    10800172   \n",
              "42448761  1572566398000000000     5701038   \n",
              "42448762  1572566399000000000    21407424   \n",
              "42448763  1572566399000000000    13300120   \n",
              "\n",
              "                                category_code      brand  price    user_id  \\\n",
              "0                                         NaN   shiseido     35  541312140   \n",
              "1         appliances.environment.water_heater       aqua     33  554748717   \n",
              "2                  furniture.living_room.sofa        NaN    543  519107250   \n",
              "3                          computers.notebook     lenovo    251  550050854   \n",
              "4                      electronics.smartphone      apple   1081  535871217   \n",
              "...                                       ...        ...    ...        ...   \n",
              "42448759             electronics.camera.video      gopro    527  537931532   \n",
              "42448760                                  NaN    redmond     61  527322328   \n",
              "42448761              auto.accessories.player    kenwood    128  566280422   \n",
              "42448762                   electronics.clocks     tissot    689  513118352   \n",
              "42448763                                  NaN  swisshome    155  525266378   \n",
              "\n",
              "                                  user_session  target  \n",
              "0         72d76fde-8bb3-4e00-8c23-a032dfed738c       0  \n",
              "1         9333dfbd-b87a-4708-9857-6336556b0fcc       0  \n",
              "2         566511c2-e2e3-422b-b695-cf8e6e792ca8       0  \n",
              "3         7c90fc70-0e80-4590-96f3-13c02c18c713       0  \n",
              "4         c6bd7419-2748-4c56-95b4-8cec9ff8b80d       0  \n",
              "...                                        ...     ...  \n",
              "42448759  22c57267-da98-4f28-9a9c-18bb5b385193       0  \n",
              "42448760  5054190a-46cb-4211-a8f1-16fc1a060ed8       0  \n",
              "42448761  05b6c62b-992f-4e8e-91f7-961bcb4719cd       0  \n",
              "42448762  4c14bf2a-2820-4504-929d-046356a5a204       0  \n",
              "42448763  6e57d2d7-6022-46e6-81d6-fa77f14cefd8       0  \n",
              "\n",
              "[42448764 rows x 8 columns]"
            ],
            "text/html": [
              "\n",
              "  <div id=\"df-1a4bce0a-2d73-4f39-89cd-ae0dc40bdfff\">\n",
              "    <div class=\"colab-df-container\">\n",
              "      <div>\n",
              "<style scoped>\n",
              "    .dataframe tbody tr th:only-of-type {\n",
              "        vertical-align: middle;\n",
              "    }\n",
              "\n",
              "    .dataframe tbody tr th {\n",
              "        vertical-align: top;\n",
              "    }\n",
              "\n",
              "    .dataframe thead th {\n",
              "        text-align: right;\n",
              "    }\n",
              "</style>\n",
              "<table border=\"1\" class=\"dataframe\">\n",
              "  <thead>\n",
              "    <tr style=\"text-align: right;\">\n",
              "      <th></th>\n",
              "      <th>event_time</th>\n",
              "      <th>product_id</th>\n",
              "      <th>category_code</th>\n",
              "      <th>brand</th>\n",
              "      <th>price</th>\n",
              "      <th>user_id</th>\n",
              "      <th>user_session</th>\n",
              "      <th>target</th>\n",
              "    </tr>\n",
              "  </thead>\n",
              "  <tbody>\n",
              "    <tr>\n",
              "      <th>0</th>\n",
              "      <td>1569888000000000000</td>\n",
              "      <td>44600062</td>\n",
              "      <td>NaN</td>\n",
              "      <td>shiseido</td>\n",
              "      <td>35</td>\n",
              "      <td>541312140</td>\n",
              "      <td>72d76fde-8bb3-4e00-8c23-a032dfed738c</td>\n",
              "      <td>0</td>\n",
              "    </tr>\n",
              "    <tr>\n",
              "      <th>1</th>\n",
              "      <td>1569888000000000000</td>\n",
              "      <td>3900821</td>\n",
              "      <td>appliances.environment.water_heater</td>\n",
              "      <td>aqua</td>\n",
              "      <td>33</td>\n",
              "      <td>554748717</td>\n",
              "      <td>9333dfbd-b87a-4708-9857-6336556b0fcc</td>\n",
              "      <td>0</td>\n",
              "    </tr>\n",
              "    <tr>\n",
              "      <th>2</th>\n",
              "      <td>1569888001000000000</td>\n",
              "      <td>17200506</td>\n",
              "      <td>furniture.living_room.sofa</td>\n",
              "      <td>NaN</td>\n",
              "      <td>543</td>\n",
              "      <td>519107250</td>\n",
              "      <td>566511c2-e2e3-422b-b695-cf8e6e792ca8</td>\n",
              "      <td>0</td>\n",
              "    </tr>\n",
              "    <tr>\n",
              "      <th>3</th>\n",
              "      <td>1569888001000000000</td>\n",
              "      <td>1307067</td>\n",
              "      <td>computers.notebook</td>\n",
              "      <td>lenovo</td>\n",
              "      <td>251</td>\n",
              "      <td>550050854</td>\n",
              "      <td>7c90fc70-0e80-4590-96f3-13c02c18c713</td>\n",
              "      <td>0</td>\n",
              "    </tr>\n",
              "    <tr>\n",
              "      <th>4</th>\n",
              "      <td>1569888004000000000</td>\n",
              "      <td>1004237</td>\n",
              "      <td>electronics.smartphone</td>\n",
              "      <td>apple</td>\n",
              "      <td>1081</td>\n",
              "      <td>535871217</td>\n",
              "      <td>c6bd7419-2748-4c56-95b4-8cec9ff8b80d</td>\n",
              "      <td>0</td>\n",
              "    </tr>\n",
              "    <tr>\n",
              "      <th>...</th>\n",
              "      <td>...</td>\n",
              "      <td>...</td>\n",
              "      <td>...</td>\n",
              "      <td>...</td>\n",
              "      <td>...</td>\n",
              "      <td>...</td>\n",
              "      <td>...</td>\n",
              "      <td>...</td>\n",
              "    </tr>\n",
              "    <tr>\n",
              "      <th>42448759</th>\n",
              "      <td>1572566398000000000</td>\n",
              "      <td>2300275</td>\n",
              "      <td>electronics.camera.video</td>\n",
              "      <td>gopro</td>\n",
              "      <td>527</td>\n",
              "      <td>537931532</td>\n",
              "      <td>22c57267-da98-4f28-9a9c-18bb5b385193</td>\n",
              "      <td>0</td>\n",
              "    </tr>\n",
              "    <tr>\n",
              "      <th>42448760</th>\n",
              "      <td>1572566398000000000</td>\n",
              "      <td>10800172</td>\n",
              "      <td>NaN</td>\n",
              "      <td>redmond</td>\n",
              "      <td>61</td>\n",
              "      <td>527322328</td>\n",
              "      <td>5054190a-46cb-4211-a8f1-16fc1a060ed8</td>\n",
              "      <td>0</td>\n",
              "    </tr>\n",
              "    <tr>\n",
              "      <th>42448761</th>\n",
              "      <td>1572566398000000000</td>\n",
              "      <td>5701038</td>\n",
              "      <td>auto.accessories.player</td>\n",
              "      <td>kenwood</td>\n",
              "      <td>128</td>\n",
              "      <td>566280422</td>\n",
              "      <td>05b6c62b-992f-4e8e-91f7-961bcb4719cd</td>\n",
              "      <td>0</td>\n",
              "    </tr>\n",
              "    <tr>\n",
              "      <th>42448762</th>\n",
              "      <td>1572566399000000000</td>\n",
              "      <td>21407424</td>\n",
              "      <td>electronics.clocks</td>\n",
              "      <td>tissot</td>\n",
              "      <td>689</td>\n",
              "      <td>513118352</td>\n",
              "      <td>4c14bf2a-2820-4504-929d-046356a5a204</td>\n",
              "      <td>0</td>\n",
              "    </tr>\n",
              "    <tr>\n",
              "      <th>42448763</th>\n",
              "      <td>1572566399000000000</td>\n",
              "      <td>13300120</td>\n",
              "      <td>NaN</td>\n",
              "      <td>swisshome</td>\n",
              "      <td>155</td>\n",
              "      <td>525266378</td>\n",
              "      <td>6e57d2d7-6022-46e6-81d6-fa77f14cefd8</td>\n",
              "      <td>0</td>\n",
              "    </tr>\n",
              "  </tbody>\n",
              "</table>\n",
              "<p>42448764 rows × 8 columns</p>\n",
              "</div>\n",
              "      <button class=\"colab-df-convert\" onclick=\"convertToInteractive('df-1a4bce0a-2d73-4f39-89cd-ae0dc40bdfff')\"\n",
              "              title=\"Convert this dataframe to an interactive table.\"\n",
              "              style=\"display:none;\">\n",
              "        \n",
              "  <svg xmlns=\"http://www.w3.org/2000/svg\" height=\"24px\"viewBox=\"0 0 24 24\"\n",
              "       width=\"24px\">\n",
              "    <path d=\"M0 0h24v24H0V0z\" fill=\"none\"/>\n",
              "    <path d=\"M18.56 5.44l.94 2.06.94-2.06 2.06-.94-2.06-.94-.94-2.06-.94 2.06-2.06.94zm-11 1L8.5 8.5l.94-2.06 2.06-.94-2.06-.94L8.5 2.5l-.94 2.06-2.06.94zm10 10l.94 2.06.94-2.06 2.06-.94-2.06-.94-.94-2.06-.94 2.06-2.06.94z\"/><path d=\"M17.41 7.96l-1.37-1.37c-.4-.4-.92-.59-1.43-.59-.52 0-1.04.2-1.43.59L10.3 9.45l-7.72 7.72c-.78.78-.78 2.05 0 2.83L4 21.41c.39.39.9.59 1.41.59.51 0 1.02-.2 1.41-.59l7.78-7.78 2.81-2.81c.8-.78.8-2.07 0-2.86zM5.41 20L4 18.59l7.72-7.72 1.47 1.35L5.41 20z\"/>\n",
              "  </svg>\n",
              "      </button>\n",
              "      \n",
              "  <style>\n",
              "    .colab-df-container {\n",
              "      display:flex;\n",
              "      flex-wrap:wrap;\n",
              "      gap: 12px;\n",
              "    }\n",
              "\n",
              "    .colab-df-convert {\n",
              "      background-color: #E8F0FE;\n",
              "      border: none;\n",
              "      border-radius: 50%;\n",
              "      cursor: pointer;\n",
              "      display: none;\n",
              "      fill: #1967D2;\n",
              "      height: 32px;\n",
              "      padding: 0 0 0 0;\n",
              "      width: 32px;\n",
              "    }\n",
              "\n",
              "    .colab-df-convert:hover {\n",
              "      background-color: #E2EBFA;\n",
              "      box-shadow: 0px 1px 2px rgba(60, 64, 67, 0.3), 0px 1px 3px 1px rgba(60, 64, 67, 0.15);\n",
              "      fill: #174EA6;\n",
              "    }\n",
              "\n",
              "    [theme=dark] .colab-df-convert {\n",
              "      background-color: #3B4455;\n",
              "      fill: #D2E3FC;\n",
              "    }\n",
              "\n",
              "    [theme=dark] .colab-df-convert:hover {\n",
              "      background-color: #434B5C;\n",
              "      box-shadow: 0px 1px 3px 1px rgba(0, 0, 0, 0.15);\n",
              "      filter: drop-shadow(0px 1px 2px rgba(0, 0, 0, 0.3));\n",
              "      fill: #FFFFFF;\n",
              "    }\n",
              "  </style>\n",
              "\n",
              "      <script>\n",
              "        const buttonEl =\n",
              "          document.querySelector('#df-1a4bce0a-2d73-4f39-89cd-ae0dc40bdfff button.colab-df-convert');\n",
              "        buttonEl.style.display =\n",
              "          google.colab.kernel.accessAllowed ? 'block' : 'none';\n",
              "\n",
              "        async function convertToInteractive(key) {\n",
              "          const element = document.querySelector('#df-1a4bce0a-2d73-4f39-89cd-ae0dc40bdfff');\n",
              "          const dataTable =\n",
              "            await google.colab.kernel.invokeFunction('convertToInteractive',\n",
              "                                                     [key], {});\n",
              "          if (!dataTable) return;\n",
              "\n",
              "          const docLinkHtml = 'Like what you see? Visit the ' +\n",
              "            '<a target=\"_blank\" href=https://colab.research.google.com/notebooks/data_table.ipynb>data table notebook</a>'\n",
              "            + ' to learn more about interactive tables.';\n",
              "          element.innerHTML = '';\n",
              "          dataTable['output_type'] = 'display_data';\n",
              "          await google.colab.output.renderOutput(dataTable, element);\n",
              "          const docLink = document.createElement('div');\n",
              "          docLink.innerHTML = docLinkHtml;\n",
              "          element.appendChild(docLink);\n",
              "        }\n",
              "      </script>\n",
              "    </div>\n",
              "  </div>\n",
              "  "
            ]
          },
          "metadata": {},
          "execution_count": 3
        }
      ]
    },
    {
      "cell_type": "code",
      "source": [
        "# 클릭을 0으로, 장바구니를 1로 하는 target 값 생성성"
      ],
      "metadata": {
        "id": "ZI2OUpG0gqz4"
      },
      "execution_count": 4,
      "outputs": []
    },
    {
      "cell_type": "code",
      "source": [
        "target_data = {\n",
        "   'view': 0,\n",
        "   'cart': 1, \n",
        "   'purchase': 2\n",
        "}"
      ],
      "metadata": {
        "id": "YkZrGNOFeP_R"
      },
      "execution_count": 5,
      "outputs": []
    },
    {
      "cell_type": "code",
      "source": [
        "data['target']=data['event_type'].apply(lambda x: target_data[x])"
      ],
      "metadata": {
        "id": "V6EqWp9mbrkm"
      },
      "execution_count": 6,
      "outputs": []
    },
    {
      "cell_type": "code",
      "source": [
        "data=data.drop(columns='event_type')"
      ],
      "metadata": {
        "id": "w_dh7dN8cpwf"
      },
      "execution_count": 7,
      "outputs": []
    },
    {
      "cell_type": "code",
      "source": [
        "data.target=data.target.astype('int8')"
      ],
      "metadata": {
        "id": "U7yevmAC5JiS"
      },
      "execution_count": 8,
      "outputs": []
    },
    {
      "cell_type": "code",
      "source": [
        "data.info()"
      ],
      "metadata": {
        "id": "sb663W2D5GQl",
        "outputId": "403920c1-6dd9-4913-e321-a1b602fe8aed",
        "colab": {
          "base_uri": "https://localhost:8080/"
        }
      },
      "execution_count": 4,
      "outputs": [
        {
          "output_type": "stream",
          "name": "stdout",
          "text": [
            "<class 'pandas.core.frame.DataFrame'>\n",
            "RangeIndex: 42448764 entries, 0 to 42448763\n",
            "Data columns (total 8 columns):\n",
            " #   Column         Dtype   \n",
            "---  ------         -----   \n",
            " 0   event_time     int64   \n",
            " 1   product_id     int32   \n",
            " 2   category_code  object  \n",
            " 3   brand          category\n",
            " 4   price          int16   \n",
            " 5   user_id        int32   \n",
            " 6   user_session   object  \n",
            " 7   target         int8    \n",
            "dtypes: category(1), int16(1), int32(2), int64(1), int8(1), object(2)\n",
            "memory usage: 1.5+ GB\n"
          ]
        }
      ]
    },
    {
      "cell_type": "code",
      "source": [
        "# 모델링을 위해 unix 시간으로 변환환"
      ],
      "metadata": {
        "id": "k8fkslqAhHQa"
      },
      "execution_count": 5,
      "outputs": []
    },
    {
      "cell_type": "code",
      "source": [
        "data['event_time']=data['event_time'].str[:-4]"
      ],
      "metadata": {
        "id": "utPtl2b6c5O_"
      },
      "execution_count": 6,
      "outputs": []
    },
    {
      "cell_type": "code",
      "source": [
        "data['event_time']=pd.to_datetime(data['event_time'])"
      ],
      "metadata": {
        "id": "TWblV_DNdS3A"
      },
      "execution_count": 7,
      "outputs": []
    },
    {
      "cell_type": "code",
      "source": [
        "data['event_time']=data['event_time'].astype('int64')"
      ],
      "metadata": {
        "id": "DnZnk0M2ehDC",
        "outputId": "36b39391-a573-47c3-db4b-28170bf53bb5",
        "colab": {
          "base_uri": "https://localhost:8080/"
        }
      },
      "execution_count": 8,
      "outputs": [
        {
          "output_type": "stream",
          "name": "stderr",
          "text": [
            "<ipython-input-8-e6e855d2dbce>:1: FutureWarning: casting datetime64[ns] values to int64 with .astype(...) is deprecated and will raise in a future version. Use .view(...) instead.\n",
            "  data['event_time']=data['event_time'].astype('int64')\n"
          ]
        }
      ]
    },
    {
      "cell_type": "code",
      "source": [
        "data['event_time']=data['event_time'].apply(lambda x: x/1000000000)"
      ],
      "metadata": {
        "id": "_0GbdRYTfHf4"
      },
      "execution_count": 5,
      "outputs": []
    },
    {
      "cell_type": "code",
      "source": [
        "data['event_time']=data['event_time'].astype('int32')"
      ],
      "metadata": {
        "id": "a803LRlAffCP"
      },
      "execution_count": 6,
      "outputs": []
    },
    {
      "cell_type": "code",
      "source": [
        "#결측치 처리"
      ],
      "metadata": {
        "id": "jF3V_G4E9Qzm"
      },
      "execution_count": null,
      "outputs": []
    },
    {
      "cell_type": "code",
      "source": [
        "data"
      ],
      "metadata": {
        "id": "7nRnmxJj5n5s",
        "outputId": "0757599e-5514-4362-f3b4-45d814a2d71f",
        "colab": {
          "base_uri": "https://localhost:8080/",
          "height": 424
        }
      },
      "execution_count": null,
      "outputs": [
        {
          "output_type": "execute_result",
          "data": {
            "text/plain": [
              "          event_time  product_id          category_id  \\\n",
              "0         1569888000    44600062  2103807459595387724   \n",
              "1         1569888000     3900821  2053013552326770905   \n",
              "2         1569888001    17200506  2053013559792632471   \n",
              "3         1569888001     1307067  2053013558920217191   \n",
              "4         1569888004     1004237  2053013555631882655   \n",
              "...              ...         ...                  ...   \n",
              "41705910  1572566398     2300275  2053013560530830019   \n",
              "41705911  1572566398    10800172  2053013554994348409   \n",
              "41705912  1572566398     5701038  2053013553970938175   \n",
              "41705913  1572566399    21407424  2053013561579406073   \n",
              "41705914  1572566399    13300120  2053013557166998015   \n",
              "\n",
              "                                category_code      brand  price    user_id  \\\n",
              "0                                         NaN   shiseido     36  541312140   \n",
              "1         appliances.environment.water_heater       aqua     33  554748717   \n",
              "2                  furniture.living_room.sofa        NaN    543  519107250   \n",
              "3                          computers.notebook     lenovo    252  550050854   \n",
              "4                      electronics.smartphone      apple   1082  535871217   \n",
              "...                                       ...        ...    ...        ...   \n",
              "41705910             electronics.camera.video      gopro    527  537931532   \n",
              "41705911                                  NaN    redmond     62  527322328   \n",
              "41705912              auto.accessories.player    kenwood    129  566280422   \n",
              "41705913                   electronics.clocks     tissot    690  513118352   \n",
              "41705914                                  NaN  swisshome    156  525266378   \n",
              "\n",
              "          target  \n",
              "0              0  \n",
              "1              0  \n",
              "2              0  \n",
              "3              0  \n",
              "4              0  \n",
              "...          ...  \n",
              "41705910       0  \n",
              "41705911       0  \n",
              "41705912       0  \n",
              "41705913       0  \n",
              "41705914       0  \n",
              "\n",
              "[41705915 rows x 8 columns]"
            ],
            "text/html": [
              "\n",
              "  <div id=\"df-b113a060-1f65-4d8d-ab9a-ff45121cbca6\">\n",
              "    <div class=\"colab-df-container\">\n",
              "      <div>\n",
              "<style scoped>\n",
              "    .dataframe tbody tr th:only-of-type {\n",
              "        vertical-align: middle;\n",
              "    }\n",
              "\n",
              "    .dataframe tbody tr th {\n",
              "        vertical-align: top;\n",
              "    }\n",
              "\n",
              "    .dataframe thead th {\n",
              "        text-align: right;\n",
              "    }\n",
              "</style>\n",
              "<table border=\"1\" class=\"dataframe\">\n",
              "  <thead>\n",
              "    <tr style=\"text-align: right;\">\n",
              "      <th></th>\n",
              "      <th>event_time</th>\n",
              "      <th>product_id</th>\n",
              "      <th>category_id</th>\n",
              "      <th>category_code</th>\n",
              "      <th>brand</th>\n",
              "      <th>price</th>\n",
              "      <th>user_id</th>\n",
              "      <th>target</th>\n",
              "    </tr>\n",
              "  </thead>\n",
              "  <tbody>\n",
              "    <tr>\n",
              "      <th>0</th>\n",
              "      <td>1569888000</td>\n",
              "      <td>44600062</td>\n",
              "      <td>2103807459595387724</td>\n",
              "      <td>NaN</td>\n",
              "      <td>shiseido</td>\n",
              "      <td>36</td>\n",
              "      <td>541312140</td>\n",
              "      <td>0</td>\n",
              "    </tr>\n",
              "    <tr>\n",
              "      <th>1</th>\n",
              "      <td>1569888000</td>\n",
              "      <td>3900821</td>\n",
              "      <td>2053013552326770905</td>\n",
              "      <td>appliances.environment.water_heater</td>\n",
              "      <td>aqua</td>\n",
              "      <td>33</td>\n",
              "      <td>554748717</td>\n",
              "      <td>0</td>\n",
              "    </tr>\n",
              "    <tr>\n",
              "      <th>2</th>\n",
              "      <td>1569888001</td>\n",
              "      <td>17200506</td>\n",
              "      <td>2053013559792632471</td>\n",
              "      <td>furniture.living_room.sofa</td>\n",
              "      <td>NaN</td>\n",
              "      <td>543</td>\n",
              "      <td>519107250</td>\n",
              "      <td>0</td>\n",
              "    </tr>\n",
              "    <tr>\n",
              "      <th>3</th>\n",
              "      <td>1569888001</td>\n",
              "      <td>1307067</td>\n",
              "      <td>2053013558920217191</td>\n",
              "      <td>computers.notebook</td>\n",
              "      <td>lenovo</td>\n",
              "      <td>252</td>\n",
              "      <td>550050854</td>\n",
              "      <td>0</td>\n",
              "    </tr>\n",
              "    <tr>\n",
              "      <th>4</th>\n",
              "      <td>1569888004</td>\n",
              "      <td>1004237</td>\n",
              "      <td>2053013555631882655</td>\n",
              "      <td>electronics.smartphone</td>\n",
              "      <td>apple</td>\n",
              "      <td>1082</td>\n",
              "      <td>535871217</td>\n",
              "      <td>0</td>\n",
              "    </tr>\n",
              "    <tr>\n",
              "      <th>...</th>\n",
              "      <td>...</td>\n",
              "      <td>...</td>\n",
              "      <td>...</td>\n",
              "      <td>...</td>\n",
              "      <td>...</td>\n",
              "      <td>...</td>\n",
              "      <td>...</td>\n",
              "      <td>...</td>\n",
              "    </tr>\n",
              "    <tr>\n",
              "      <th>41705910</th>\n",
              "      <td>1572566398</td>\n",
              "      <td>2300275</td>\n",
              "      <td>2053013560530830019</td>\n",
              "      <td>electronics.camera.video</td>\n",
              "      <td>gopro</td>\n",
              "      <td>527</td>\n",
              "      <td>537931532</td>\n",
              "      <td>0</td>\n",
              "    </tr>\n",
              "    <tr>\n",
              "      <th>41705911</th>\n",
              "      <td>1572566398</td>\n",
              "      <td>10800172</td>\n",
              "      <td>2053013554994348409</td>\n",
              "      <td>NaN</td>\n",
              "      <td>redmond</td>\n",
              "      <td>62</td>\n",
              "      <td>527322328</td>\n",
              "      <td>0</td>\n",
              "    </tr>\n",
              "    <tr>\n",
              "      <th>41705912</th>\n",
              "      <td>1572566398</td>\n",
              "      <td>5701038</td>\n",
              "      <td>2053013553970938175</td>\n",
              "      <td>auto.accessories.player</td>\n",
              "      <td>kenwood</td>\n",
              "      <td>129</td>\n",
              "      <td>566280422</td>\n",
              "      <td>0</td>\n",
              "    </tr>\n",
              "    <tr>\n",
              "      <th>41705913</th>\n",
              "      <td>1572566399</td>\n",
              "      <td>21407424</td>\n",
              "      <td>2053013561579406073</td>\n",
              "      <td>electronics.clocks</td>\n",
              "      <td>tissot</td>\n",
              "      <td>690</td>\n",
              "      <td>513118352</td>\n",
              "      <td>0</td>\n",
              "    </tr>\n",
              "    <tr>\n",
              "      <th>41705914</th>\n",
              "      <td>1572566399</td>\n",
              "      <td>13300120</td>\n",
              "      <td>2053013557166998015</td>\n",
              "      <td>NaN</td>\n",
              "      <td>swisshome</td>\n",
              "      <td>156</td>\n",
              "      <td>525266378</td>\n",
              "      <td>0</td>\n",
              "    </tr>\n",
              "  </tbody>\n",
              "</table>\n",
              "<p>41705915 rows × 8 columns</p>\n",
              "</div>\n",
              "      <button class=\"colab-df-convert\" onclick=\"convertToInteractive('df-b113a060-1f65-4d8d-ab9a-ff45121cbca6')\"\n",
              "              title=\"Convert this dataframe to an interactive table.\"\n",
              "              style=\"display:none;\">\n",
              "        \n",
              "  <svg xmlns=\"http://www.w3.org/2000/svg\" height=\"24px\"viewBox=\"0 0 24 24\"\n",
              "       width=\"24px\">\n",
              "    <path d=\"M0 0h24v24H0V0z\" fill=\"none\"/>\n",
              "    <path d=\"M18.56 5.44l.94 2.06.94-2.06 2.06-.94-2.06-.94-.94-2.06-.94 2.06-2.06.94zm-11 1L8.5 8.5l.94-2.06 2.06-.94-2.06-.94L8.5 2.5l-.94 2.06-2.06.94zm10 10l.94 2.06.94-2.06 2.06-.94-2.06-.94-.94-2.06-.94 2.06-2.06.94z\"/><path d=\"M17.41 7.96l-1.37-1.37c-.4-.4-.92-.59-1.43-.59-.52 0-1.04.2-1.43.59L10.3 9.45l-7.72 7.72c-.78.78-.78 2.05 0 2.83L4 21.41c.39.39.9.59 1.41.59.51 0 1.02-.2 1.41-.59l7.78-7.78 2.81-2.81c.8-.78.8-2.07 0-2.86zM5.41 20L4 18.59l7.72-7.72 1.47 1.35L5.41 20z\"/>\n",
              "  </svg>\n",
              "      </button>\n",
              "      \n",
              "  <style>\n",
              "    .colab-df-container {\n",
              "      display:flex;\n",
              "      flex-wrap:wrap;\n",
              "      gap: 12px;\n",
              "    }\n",
              "\n",
              "    .colab-df-convert {\n",
              "      background-color: #E8F0FE;\n",
              "      border: none;\n",
              "      border-radius: 50%;\n",
              "      cursor: pointer;\n",
              "      display: none;\n",
              "      fill: #1967D2;\n",
              "      height: 32px;\n",
              "      padding: 0 0 0 0;\n",
              "      width: 32px;\n",
              "    }\n",
              "\n",
              "    .colab-df-convert:hover {\n",
              "      background-color: #E2EBFA;\n",
              "      box-shadow: 0px 1px 2px rgba(60, 64, 67, 0.3), 0px 1px 3px 1px rgba(60, 64, 67, 0.15);\n",
              "      fill: #174EA6;\n",
              "    }\n",
              "\n",
              "    [theme=dark] .colab-df-convert {\n",
              "      background-color: #3B4455;\n",
              "      fill: #D2E3FC;\n",
              "    }\n",
              "\n",
              "    [theme=dark] .colab-df-convert:hover {\n",
              "      background-color: #434B5C;\n",
              "      box-shadow: 0px 1px 3px 1px rgba(0, 0, 0, 0.15);\n",
              "      filter: drop-shadow(0px 1px 2px rgba(0, 0, 0, 0.3));\n",
              "      fill: #FFFFFF;\n",
              "    }\n",
              "  </style>\n",
              "\n",
              "      <script>\n",
              "        const buttonEl =\n",
              "          document.querySelector('#df-b113a060-1f65-4d8d-ab9a-ff45121cbca6 button.colab-df-convert');\n",
              "        buttonEl.style.display =\n",
              "          google.colab.kernel.accessAllowed ? 'block' : 'none';\n",
              "\n",
              "        async function convertToInteractive(key) {\n",
              "          const element = document.querySelector('#df-b113a060-1f65-4d8d-ab9a-ff45121cbca6');\n",
              "          const dataTable =\n",
              "            await google.colab.kernel.invokeFunction('convertToInteractive',\n",
              "                                                     [key], {});\n",
              "          if (!dataTable) return;\n",
              "\n",
              "          const docLinkHtml = 'Like what you see? Visit the ' +\n",
              "            '<a target=\"_blank\" href=https://colab.research.google.com/notebooks/data_table.ipynb>data table notebook</a>'\n",
              "            + ' to learn more about interactive tables.';\n",
              "          element.innerHTML = '';\n",
              "          dataTable['output_type'] = 'display_data';\n",
              "          await google.colab.output.renderOutput(dataTable, element);\n",
              "          const docLink = document.createElement('div');\n",
              "          docLink.innerHTML = docLinkHtml;\n",
              "          element.appendChild(docLink);\n",
              "        }\n",
              "      </script>\n",
              "    </div>\n",
              "  </div>\n",
              "  "
            ]
          },
          "metadata": {},
          "execution_count": 16
        }
      ]
    },
    {
      "cell_type": "code",
      "source": [
        "data.isna().sum()"
      ],
      "metadata": {
        "id": "M7X3Ew0U9PYG",
        "outputId": "8bf8a2d6-4907-42ec-e70c-66bd107f9d7f",
        "colab": {
          "base_uri": "https://localhost:8080/"
        }
      },
      "execution_count": null,
      "outputs": [
        {
          "output_type": "execute_result",
          "data": {
            "text/plain": [
              "event_time              0\n",
              "product_id              0\n",
              "category_id             0\n",
              "category_code    13342184\n",
              "brand             6058775\n",
              "price                   0\n",
              "user_id                 0\n",
              "target                  0\n",
              "dtype: int64"
            ]
          },
          "metadata": {},
          "execution_count": 17
        }
      ]
    },
    {
      "cell_type": "code",
      "source": [
        "data.category_code=data.category_code.astype('str')"
      ],
      "metadata": {
        "id": "RTu1nyIo_54h"
      },
      "execution_count": null,
      "outputs": []
    },
    {
      "cell_type": "code",
      "source": [
        "def get_nan(df):\n",
        "  value={}\n",
        "  for i,k in tqdm(zip(df['product_id'],df['category_code'])):\n",
        "    if k != 'nan':\n",
        "      value[i]=k\n",
        "  return value"
      ],
      "metadata": {
        "id": "idojlsJ98AtN"
      },
      "execution_count": null,
      "outputs": []
    },
    {
      "cell_type": "code",
      "source": [
        "category_list=get_nan(data)"
      ],
      "metadata": {
        "id": "nri7DUnf9frU",
        "outputId": "9d6f9f65-49b9-48d8-b0ba-33da87671a37",
        "colab": {
          "base_uri": "https://localhost:8080/"
        }
      },
      "execution_count": null,
      "outputs": [
        {
          "output_type": "stream",
          "name": "stderr",
          "text": [
            "41705915it [00:28, 1454334.41it/s]\n"
          ]
        }
      ]
    },
    {
      "cell_type": "code",
      "source": [
        "def fill_nan(df):\n",
        "  category=df['category_code'].to_numpy()\n",
        "  for i,k in tqdm(enumerate(df['product_id'].to_numpy())):\n",
        "    if k in category_list.keys():\n",
        "      category[i]=category_list[k]\n",
        "\n",
        "  return category"
      ],
      "metadata": {
        "id": "xod897zeAVHB"
      },
      "execution_count": null,
      "outputs": []
    },
    {
      "cell_type": "code",
      "source": [
        "data['category_code']=fill_nan(data)"
      ],
      "metadata": {
        "id": "-T-hErl7Bar6",
        "outputId": "60f11053-21c1-4c2b-e09c-ecff5a849e4d",
        "colab": {
          "base_uri": "https://localhost:8080/"
        }
      },
      "execution_count": null,
      "outputs": [
        {
          "output_type": "stream",
          "name": "stderr",
          "text": [
            "41705915it [02:15, 308658.83it/s]\n"
          ]
        }
      ]
    },
    {
      "cell_type": "code",
      "source": [
        "data.category_code=data.category_code.astype('category')"
      ],
      "metadata": {
        "id": "gTQnrqjbHFWr"
      },
      "execution_count": null,
      "outputs": []
    },
    {
      "cell_type": "code",
      "source": [
        "data=data.replace('nan',np.nan)"
      ],
      "metadata": {
        "id": "3ZABZaJ3HTH8"
      },
      "execution_count": null,
      "outputs": []
    },
    {
      "cell_type": "code",
      "source": [
        "data"
      ],
      "metadata": {
        "id": "N8tnWs_7Bd6u",
        "outputId": "2fc8396f-f62b-4594-8464-76ea9e4b7d3b",
        "colab": {
          "base_uri": "https://localhost:8080/",
          "height": 424
        }
      },
      "execution_count": 9,
      "outputs": [
        {
          "output_type": "execute_result",
          "data": {
            "text/plain": [
              "          event_time  product_id                        category_code  \\\n",
              "0         1569888000    44600062                                  NaN   \n",
              "1         1569888000     3900821  appliances.environment.water_heater   \n",
              "2         1569888001    17200506           furniture.living_room.sofa   \n",
              "3         1569888001     1307067                   computers.notebook   \n",
              "4         1569888004     1004237               electronics.smartphone   \n",
              "...              ...         ...                                  ...   \n",
              "42448759  1572566398     2300275             electronics.camera.video   \n",
              "42448760  1572566398    10800172                                  NaN   \n",
              "42448761  1572566398     5701038              auto.accessories.player   \n",
              "42448762  1572566399    21407424                   electronics.clocks   \n",
              "42448763  1572566399    13300120                                  NaN   \n",
              "\n",
              "              brand  price    user_id  target  \n",
              "0          shiseido     35  541312140       0  \n",
              "1              aqua     33  554748717       0  \n",
              "2               NaN    543  519107250       0  \n",
              "3            lenovo    251  550050854       0  \n",
              "4             apple   1081  535871217       0  \n",
              "...             ...    ...        ...     ...  \n",
              "42448759      gopro    527  537931532       0  \n",
              "42448760    redmond     61  527322328       0  \n",
              "42448761    kenwood    128  566280422       0  \n",
              "42448762     tissot    689  513118352       0  \n",
              "42448763  swisshome    155  525266378       0  \n",
              "\n",
              "[42448764 rows x 7 columns]"
            ],
            "text/html": [
              "\n",
              "  <div id=\"df-7bbdc072-0e3a-4fb2-885b-322e599a45ed\">\n",
              "    <div class=\"colab-df-container\">\n",
              "      <div>\n",
              "<style scoped>\n",
              "    .dataframe tbody tr th:only-of-type {\n",
              "        vertical-align: middle;\n",
              "    }\n",
              "\n",
              "    .dataframe tbody tr th {\n",
              "        vertical-align: top;\n",
              "    }\n",
              "\n",
              "    .dataframe thead th {\n",
              "        text-align: right;\n",
              "    }\n",
              "</style>\n",
              "<table border=\"1\" class=\"dataframe\">\n",
              "  <thead>\n",
              "    <tr style=\"text-align: right;\">\n",
              "      <th></th>\n",
              "      <th>event_time</th>\n",
              "      <th>product_id</th>\n",
              "      <th>category_code</th>\n",
              "      <th>brand</th>\n",
              "      <th>price</th>\n",
              "      <th>user_id</th>\n",
              "      <th>target</th>\n",
              "    </tr>\n",
              "  </thead>\n",
              "  <tbody>\n",
              "    <tr>\n",
              "      <th>0</th>\n",
              "      <td>1569888000</td>\n",
              "      <td>44600062</td>\n",
              "      <td>NaN</td>\n",
              "      <td>shiseido</td>\n",
              "      <td>35</td>\n",
              "      <td>541312140</td>\n",
              "      <td>0</td>\n",
              "    </tr>\n",
              "    <tr>\n",
              "      <th>1</th>\n",
              "      <td>1569888000</td>\n",
              "      <td>3900821</td>\n",
              "      <td>appliances.environment.water_heater</td>\n",
              "      <td>aqua</td>\n",
              "      <td>33</td>\n",
              "      <td>554748717</td>\n",
              "      <td>0</td>\n",
              "    </tr>\n",
              "    <tr>\n",
              "      <th>2</th>\n",
              "      <td>1569888001</td>\n",
              "      <td>17200506</td>\n",
              "      <td>furniture.living_room.sofa</td>\n",
              "      <td>NaN</td>\n",
              "      <td>543</td>\n",
              "      <td>519107250</td>\n",
              "      <td>0</td>\n",
              "    </tr>\n",
              "    <tr>\n",
              "      <th>3</th>\n",
              "      <td>1569888001</td>\n",
              "      <td>1307067</td>\n",
              "      <td>computers.notebook</td>\n",
              "      <td>lenovo</td>\n",
              "      <td>251</td>\n",
              "      <td>550050854</td>\n",
              "      <td>0</td>\n",
              "    </tr>\n",
              "    <tr>\n",
              "      <th>4</th>\n",
              "      <td>1569888004</td>\n",
              "      <td>1004237</td>\n",
              "      <td>electronics.smartphone</td>\n",
              "      <td>apple</td>\n",
              "      <td>1081</td>\n",
              "      <td>535871217</td>\n",
              "      <td>0</td>\n",
              "    </tr>\n",
              "    <tr>\n",
              "      <th>...</th>\n",
              "      <td>...</td>\n",
              "      <td>...</td>\n",
              "      <td>...</td>\n",
              "      <td>...</td>\n",
              "      <td>...</td>\n",
              "      <td>...</td>\n",
              "      <td>...</td>\n",
              "    </tr>\n",
              "    <tr>\n",
              "      <th>42448759</th>\n",
              "      <td>1572566398</td>\n",
              "      <td>2300275</td>\n",
              "      <td>electronics.camera.video</td>\n",
              "      <td>gopro</td>\n",
              "      <td>527</td>\n",
              "      <td>537931532</td>\n",
              "      <td>0</td>\n",
              "    </tr>\n",
              "    <tr>\n",
              "      <th>42448760</th>\n",
              "      <td>1572566398</td>\n",
              "      <td>10800172</td>\n",
              "      <td>NaN</td>\n",
              "      <td>redmond</td>\n",
              "      <td>61</td>\n",
              "      <td>527322328</td>\n",
              "      <td>0</td>\n",
              "    </tr>\n",
              "    <tr>\n",
              "      <th>42448761</th>\n",
              "      <td>1572566398</td>\n",
              "      <td>5701038</td>\n",
              "      <td>auto.accessories.player</td>\n",
              "      <td>kenwood</td>\n",
              "      <td>128</td>\n",
              "      <td>566280422</td>\n",
              "      <td>0</td>\n",
              "    </tr>\n",
              "    <tr>\n",
              "      <th>42448762</th>\n",
              "      <td>1572566399</td>\n",
              "      <td>21407424</td>\n",
              "      <td>electronics.clocks</td>\n",
              "      <td>tissot</td>\n",
              "      <td>689</td>\n",
              "      <td>513118352</td>\n",
              "      <td>0</td>\n",
              "    </tr>\n",
              "    <tr>\n",
              "      <th>42448763</th>\n",
              "      <td>1572566399</td>\n",
              "      <td>13300120</td>\n",
              "      <td>NaN</td>\n",
              "      <td>swisshome</td>\n",
              "      <td>155</td>\n",
              "      <td>525266378</td>\n",
              "      <td>0</td>\n",
              "    </tr>\n",
              "  </tbody>\n",
              "</table>\n",
              "<p>42448764 rows × 7 columns</p>\n",
              "</div>\n",
              "      <button class=\"colab-df-convert\" onclick=\"convertToInteractive('df-7bbdc072-0e3a-4fb2-885b-322e599a45ed')\"\n",
              "              title=\"Convert this dataframe to an interactive table.\"\n",
              "              style=\"display:none;\">\n",
              "        \n",
              "  <svg xmlns=\"http://www.w3.org/2000/svg\" height=\"24px\"viewBox=\"0 0 24 24\"\n",
              "       width=\"24px\">\n",
              "    <path d=\"M0 0h24v24H0V0z\" fill=\"none\"/>\n",
              "    <path d=\"M18.56 5.44l.94 2.06.94-2.06 2.06-.94-2.06-.94-.94-2.06-.94 2.06-2.06.94zm-11 1L8.5 8.5l.94-2.06 2.06-.94-2.06-.94L8.5 2.5l-.94 2.06-2.06.94zm10 10l.94 2.06.94-2.06 2.06-.94-2.06-.94-.94-2.06-.94 2.06-2.06.94z\"/><path d=\"M17.41 7.96l-1.37-1.37c-.4-.4-.92-.59-1.43-.59-.52 0-1.04.2-1.43.59L10.3 9.45l-7.72 7.72c-.78.78-.78 2.05 0 2.83L4 21.41c.39.39.9.59 1.41.59.51 0 1.02-.2 1.41-.59l7.78-7.78 2.81-2.81c.8-.78.8-2.07 0-2.86zM5.41 20L4 18.59l7.72-7.72 1.47 1.35L5.41 20z\"/>\n",
              "  </svg>\n",
              "      </button>\n",
              "      \n",
              "  <style>\n",
              "    .colab-df-container {\n",
              "      display:flex;\n",
              "      flex-wrap:wrap;\n",
              "      gap: 12px;\n",
              "    }\n",
              "\n",
              "    .colab-df-convert {\n",
              "      background-color: #E8F0FE;\n",
              "      border: none;\n",
              "      border-radius: 50%;\n",
              "      cursor: pointer;\n",
              "      display: none;\n",
              "      fill: #1967D2;\n",
              "      height: 32px;\n",
              "      padding: 0 0 0 0;\n",
              "      width: 32px;\n",
              "    }\n",
              "\n",
              "    .colab-df-convert:hover {\n",
              "      background-color: #E2EBFA;\n",
              "      box-shadow: 0px 1px 2px rgba(60, 64, 67, 0.3), 0px 1px 3px 1px rgba(60, 64, 67, 0.15);\n",
              "      fill: #174EA6;\n",
              "    }\n",
              "\n",
              "    [theme=dark] .colab-df-convert {\n",
              "      background-color: #3B4455;\n",
              "      fill: #D2E3FC;\n",
              "    }\n",
              "\n",
              "    [theme=dark] .colab-df-convert:hover {\n",
              "      background-color: #434B5C;\n",
              "      box-shadow: 0px 1px 3px 1px rgba(0, 0, 0, 0.15);\n",
              "      filter: drop-shadow(0px 1px 2px rgba(0, 0, 0, 0.3));\n",
              "      fill: #FFFFFF;\n",
              "    }\n",
              "  </style>\n",
              "\n",
              "      <script>\n",
              "        const buttonEl =\n",
              "          document.querySelector('#df-7bbdc072-0e3a-4fb2-885b-322e599a45ed button.colab-df-convert');\n",
              "        buttonEl.style.display =\n",
              "          google.colab.kernel.accessAllowed ? 'block' : 'none';\n",
              "\n",
              "        async function convertToInteractive(key) {\n",
              "          const element = document.querySelector('#df-7bbdc072-0e3a-4fb2-885b-322e599a45ed');\n",
              "          const dataTable =\n",
              "            await google.colab.kernel.invokeFunction('convertToInteractive',\n",
              "                                                     [key], {});\n",
              "          if (!dataTable) return;\n",
              "\n",
              "          const docLinkHtml = 'Like what you see? Visit the ' +\n",
              "            '<a target=\"_blank\" href=https://colab.research.google.com/notebooks/data_table.ipynb>data table notebook</a>'\n",
              "            + ' to learn more about interactive tables.';\n",
              "          element.innerHTML = '';\n",
              "          dataTable['output_type'] = 'display_data';\n",
              "          await google.colab.output.renderOutput(dataTable, element);\n",
              "          const docLink = document.createElement('div');\n",
              "          docLink.innerHTML = docLinkHtml;\n",
              "          element.appendChild(docLink);\n",
              "        }\n",
              "      </script>\n",
              "    </div>\n",
              "  </div>\n",
              "  "
            ]
          },
          "metadata": {},
          "execution_count": 9
        }
      ]
    },
    {
      "cell_type": "code",
      "source": [
        "data.isna().sum()"
      ],
      "metadata": {
        "id": "PH8-jKSIH8BV",
        "outputId": "51d7f131-db8e-448b-b05e-8e4d24147fb2",
        "colab": {
          "base_uri": "https://localhost:8080/"
        }
      },
      "execution_count": null,
      "outputs": [
        {
          "output_type": "execute_result",
          "data": {
            "text/plain": [
              "event_time              0\n",
              "product_id              0\n",
              "category_id             0\n",
              "category_code    13342184\n",
              "brand             6058775\n",
              "price                   0\n",
              "user_id                 0\n",
              "target                  0\n",
              "dtype: int64"
            ]
          },
          "metadata": {},
          "execution_count": 26
        }
      ]
    },
    {
      "cell_type": "code",
      "source": [
        "data=data.drop(columns='category_id')"
      ],
      "metadata": {
        "id": "vpkZGbicqyld"
      },
      "execution_count": 11,
      "outputs": []
    },
    {
      "cell_type": "code",
      "source": [
        "data=data.drop(columns='user_session')"
      ],
      "metadata": {
        "id": "C7lF6QY3hPYd"
      },
      "execution_count": 8,
      "outputs": []
    },
    {
      "cell_type": "code",
      "source": [
        "data.to_pickle('/content/drive/MyDrive/project2_2/data.pkl')"
      ],
      "metadata": {
        "id": "SzOYdHjRfwwn"
      },
      "execution_count": 10,
      "outputs": []
    },
    {
      "cell_type": "code",
      "source": [
        "data1=data[:7000000]\n",
        "data2=data[7000000:14000000]\n",
        "data3=data[14000000:21000000]\n",
        "data4=data[21000000:]"
      ],
      "metadata": {
        "id": "HNBl0B0zjKvj"
      },
      "execution_count": 11,
      "outputs": []
    },
    {
      "cell_type": "code",
      "source": [
        "data1.to_pickle('/content/drive/MyDrive/project2_2/data1.pkl')\n",
        "data2.to_pickle('/content/drive/MyDrive/project2_2/data2.pkl')\n",
        "data3.to_pickle('/content/drive/MyDrive/project2_2/data3.pkl')\n",
        "data4.to_pickle('/content/drive/MyDrive/project2_2/data4.pkl')"
      ],
      "metadata": {
        "id": "-DwUvXPBlrtU"
      },
      "execution_count": 12,
      "outputs": []
    }
  ]
}