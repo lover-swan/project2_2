{
  "nbformat": 4,
  "nbformat_minor": 0,
  "metadata": {
    "colab": {
      "provenance": [],
      "mount_file_id": "https://github.com/lover-swan/project2_2/blob/main/EDA2.ipynb",
      "authorship_tag": "ABX9TyPnqO0au/t6T/LA9+nKZcsX",
      "include_colab_link": true
    },
    "kernelspec": {
      "name": "python3",
      "display_name": "Python 3"
    },
    "language_info": {
      "name": "python"
    }
  },
  "cells": [
    {
      "cell_type": "markdown",
      "metadata": {
        "id": "view-in-github",
        "colab_type": "text"
      },
      "source": [
        "<a href=\"https://colab.research.google.com/github/lover-swan/project2_2/blob/main/EDA2.ipynb\" target=\"_parent\"><img src=\"https://colab.research.google.com/assets/colab-badge.svg\" alt=\"Open In Colab\"/></a>"
      ]
    },
    {
      "cell_type": "code",
      "execution_count": 1,
      "metadata": {
        "id": "CiomV4qat0Xw"
      },
      "outputs": [],
      "source": [
        "import pandas as pd\n",
        "import matplotlib.pyplot as plt\n",
        "import seaborn as sns"
      ]
    },
    {
      "cell_type": "code",
      "source": [
        "data=pd.read_pickle('/content/drive/MyDrive/project2_2/data_after.pkl')"
      ],
      "metadata": {
        "id": "P4TaeZvdt9XE"
      },
      "execution_count": 2,
      "outputs": []
    },
    {
      "cell_type": "code",
      "source": [
        "data.info()"
      ],
      "metadata": {
        "id": "RCblDyRRvFvR",
        "outputId": "1075567a-c861-4154-c6da-ae2a580ed39f",
        "colab": {
          "base_uri": "https://localhost:8080/"
        }
      },
      "execution_count": null,
      "outputs": [
        {
          "output_type": "stream",
          "name": "stdout",
          "text": [
            "<class 'pandas.core.frame.DataFrame'>\n",
            "RangeIndex: 41705915 entries, 0 to 41705914\n",
            "Data columns (total 8 columns):\n",
            " #   Column          Dtype   \n",
            "---  ------          -----   \n",
            " 0   event_time      int32   \n",
            " 1   user_id         int32   \n",
            " 2   product_id      int32   \n",
            " 3   large_category  category\n",
            " 4   small_category  category\n",
            " 5   brand           category\n",
            " 6   price           int16   \n",
            " 7   target          int8    \n",
            "dtypes: category(3), int16(1), int32(3), int8(1)\n",
            "memory usage: 755.7 MB\n"
          ]
        }
      ]
    },
    {
      "cell_type": "code",
      "source": [
        "data.large_category.describe()"
      ],
      "metadata": {
        "id": "OQm10BjavrjR",
        "outputId": "5af61340-6829-4e95-c596-4aa23e46dfb5",
        "colab": {
          "base_uri": "https://localhost:8080/"
        }
      },
      "execution_count": null,
      "outputs": [
        {
          "output_type": "execute_result",
          "data": {
            "text/plain": [
              "count        28363731\n",
              "unique             13\n",
              "top       electronics\n",
              "freq         15712595\n",
              "Name: large_category, dtype: object"
            ]
          },
          "metadata": {},
          "execution_count": 4
        }
      ]
    },
    {
      "cell_type": "code",
      "source": [
        "data.small_category.describe()"
      ],
      "metadata": {
        "id": "dkyhT613v-fx",
        "outputId": "3133c704-904e-4146-a2d0-a4410c08f13e",
        "colab": {
          "base_uri": "https://localhost:8080/"
        }
      },
      "execution_count": null,
      "outputs": [
        {
          "output_type": "execute_result",
          "data": {
            "text/plain": [
              "count       28363731\n",
              "unique           124\n",
              "top       smartphone\n",
              "freq        11169213\n",
              "Name: small_category, dtype: object"
            ]
          },
          "metadata": {},
          "execution_count": 5
        }
      ]
    },
    {
      "cell_type": "code",
      "source": [
        "data.brand.describe()"
      ],
      "metadata": {
        "id": "-8EcBmtYwBwR",
        "outputId": "a9e31067-871d-48d9-86e6-f04d3fdf19cd",
        "colab": {
          "base_uri": "https://localhost:8080/"
        }
      },
      "execution_count": null,
      "outputs": [
        {
          "output_type": "execute_result",
          "data": {
            "text/plain": [
              "count     35647140\n",
              "unique        3444\n",
              "top        samsung\n",
              "freq       5109879\n",
              "Name: brand, dtype: object"
            ]
          },
          "metadata": {},
          "execution_count": 6
        }
      ]
    },
    {
      "cell_type": "code",
      "source": [
        "plt.figure(figsize=(10,10))\n",
        "plt.pie(data.large_category.value_counts(),labels=data.large_category.value_counts().index,autopct='%.1f%%')\n",
        "plt.show()"
      ],
      "metadata": {
        "id": "KF_4B2usoJqi",
        "outputId": "61eede42-dd79-4bc3-edae-d6104a938393",
        "colab": {
          "base_uri": "https://localhost:8080/",
          "height": 575
        }
      },
      "execution_count": null,
      "outputs": [
        {
          "output_type": "display_data",
          "data": {
            "text/plain": [
              "<Figure size 720x720 with 1 Axes>"
            ],
            "image/png": "[encoded data removed]"
          },
          "metadata": {}
        }
      ]
    },
    {
      "cell_type": "code",
      "source": [
        "data"
      ],
      "metadata": {
        "id": "_zBOjGMqpT3d",
        "outputId": "d9f135f9-dc0c-4e7b-aab5-6dd8bbf26d5d",
        "colab": {
          "base_uri": "https://localhost:8080/",
          "height": 424
        }
      },
      "execution_count": null,
      "outputs": [
        {
          "output_type": "execute_result",
          "data": {
            "text/plain": [
              "          event_time    user_id  product_id large_category small_category  \\\n",
              "0         1569888000  541312140    44600062            NaN            NaN   \n",
              "1         1569888000  554748717     3900821     appliances   water_heater   \n",
              "2         1569888001  519107250    17200506      furniture           sofa   \n",
              "3         1569888001  550050854     1307067      computers       notebook   \n",
              "4         1569888004  535871217     1004237    electronics     smartphone   \n",
              "...              ...        ...         ...            ...            ...   \n",
              "41705910  1572566398  537931532     2300275    electronics          video   \n",
              "41705911  1572566398  527322328    10800172            NaN            NaN   \n",
              "41705912  1572566398  566280422     5701038           auto         player   \n",
              "41705913  1572566399  513118352    21407424    electronics         clocks   \n",
              "41705914  1572566399  525266378    13300120            NaN            NaN   \n",
              "\n",
              "              brand  price  target  \n",
              "0          shiseido     36       0  \n",
              "1              aqua     33       0  \n",
              "2               NaN    543       0  \n",
              "3            lenovo    252       0  \n",
              "4             apple   1082       0  \n",
              "...             ...    ...     ...  \n",
              "41705910      gopro    527       0  \n",
              "41705911    redmond     62       0  \n",
              "41705912    kenwood    129       0  \n",
              "41705913     tissot    690       0  \n",
              "41705914  swisshome    156       0  \n",
              "\n",
              "[41705915 rows x 8 columns]"
            ],
            "text/html": [
              "\n",
              "  <div id=\"df-4b5345c8-ab48-4633-9aed-8b6d0a566be8\">\n",
              "    <div class=\"colab-df-container\">\n",
              "      <div>\n",
              "<style scoped>\n",
              "    .dataframe tbody tr th:only-of-type {\n",
              "        vertical-align: middle;\n",
              "    }\n",
              "\n",
              "    .dataframe tbody tr th {\n",
              "        vertical-align: top;\n",
              "    }\n",
              "\n",
              "    .dataframe thead th {\n",
              "        text-align: right;\n",
              "    }\n",
              "</style>\n",
              "<table border=\"1\" class=\"dataframe\">\n",
              "  <thead>\n",
              "    <tr style=\"text-align: right;\">\n",
              "      <th></th>\n",
              "      <th>event_time</th>\n",
              "      <th>user_id</th>\n",
              "      <th>product_id</th>\n",
              "      <th>large_category</th>\n",
              "      <th>small_category</th>\n",
              "      <th>brand</th>\n",
              "      <th>price</th>\n",
              "      <th>target</th>\n",
              "    </tr>\n",
              "  </thead>\n",
              "  <tbody>\n",
              "    <tr>\n",
              "      <th>0</th>\n",
              "      <td>1569888000</td>\n",
              "      <td>541312140</td>\n",
              "      <td>44600062</td>\n",
              "      <td>NaN</td>\n",
              "      <td>NaN</td>\n",
              "      <td>shiseido</td>\n",
              "      <td>36</td>\n",
              "      <td>0</td>\n",
              "    </tr>\n",
              "    <tr>\n",
              "      <th>1</th>\n",
              "      <td>1569888000</td>\n",
              "      <td>554748717</td>\n",
              "      <td>3900821</td>\n",
              "      <td>appliances</td>\n",
              "      <td>water_heater</td>\n",
              "      <td>aqua</td>\n",
              "      <td>33</td>\n",
              "      <td>0</td>\n",
              "    </tr>\n",
              "    <tr>\n",
              "      <th>2</th>\n",
              "      <td>1569888001</td>\n",
              "      <td>519107250</td>\n",
              "      <td>17200506</td>\n",
              "      <td>furniture</td>\n",
              "      <td>sofa</td>\n",
              "      <td>NaN</td>\n",
              "      <td>543</td>\n",
              "      <td>0</td>\n",
              "    </tr>\n",
              "    <tr>\n",
              "      <th>3</th>\n",
              "      <td>1569888001</td>\n",
              "      <td>550050854</td>\n",
              "      <td>1307067</td>\n",
              "      <td>computers</td>\n",
              "      <td>notebook</td>\n",
              "      <td>lenovo</td>\n",
              "      <td>252</td>\n",
              "      <td>0</td>\n",
              "    </tr>\n",
              "    <tr>\n",
              "      <th>4</th>\n",
              "      <td>1569888004</td>\n",
              "      <td>535871217</td>\n",
              "      <td>1004237</td>\n",
              "      <td>electronics</td>\n",
              "      <td>smartphone</td>\n",
              "      <td>apple</td>\n",
              "      <td>1082</td>\n",
              "      <td>0</td>\n",
              "    </tr>\n",
              "    <tr>\n",
              "      <th>...</th>\n",
              "      <td>...</td>\n",
              "      <td>...</td>\n",
              "      <td>...</td>\n",
              "      <td>...</td>\n",
              "      <td>...</td>\n",
              "      <td>...</td>\n",
              "      <td>...</td>\n",
              "      <td>...</td>\n",
              "    </tr>\n",
              "    <tr>\n",
              "      <th>41705910</th>\n",
              "      <td>1572566398</td>\n",
              "      <td>537931532</td>\n",
              "      <td>2300275</td>\n",
              "      <td>electronics</td>\n",
              "      <td>video</td>\n",
              "      <td>gopro</td>\n",
              "      <td>527</td>\n",
              "      <td>0</td>\n",
              "    </tr>\n",
              "    <tr>\n",
              "      <th>41705911</th>\n",
              "      <td>1572566398</td>\n",
              "      <td>527322328</td>\n",
              "      <td>10800172</td>\n",
              "      <td>NaN</td>\n",
              "      <td>NaN</td>\n",
              "      <td>redmond</td>\n",
              "      <td>62</td>\n",
              "      <td>0</td>\n",
              "    </tr>\n",
              "    <tr>\n",
              "      <th>41705912</th>\n",
              "      <td>1572566398</td>\n",
              "      <td>566280422</td>\n",
              "      <td>5701038</td>\n",
              "      <td>auto</td>\n",
              "      <td>player</td>\n",
              "      <td>kenwood</td>\n",
              "      <td>129</td>\n",
              "      <td>0</td>\n",
              "    </tr>\n",
              "    <tr>\n",
              "      <th>41705913</th>\n",
              "      <td>1572566399</td>\n",
              "      <td>513118352</td>\n",
              "      <td>21407424</td>\n",
              "      <td>electronics</td>\n",
              "      <td>clocks</td>\n",
              "      <td>tissot</td>\n",
              "      <td>690</td>\n",
              "      <td>0</td>\n",
              "    </tr>\n",
              "    <tr>\n",
              "      <th>41705914</th>\n",
              "      <td>1572566399</td>\n",
              "      <td>525266378</td>\n",
              "      <td>13300120</td>\n",
              "      <td>NaN</td>\n",
              "      <td>NaN</td>\n",
              "      <td>swisshome</td>\n",
              "      <td>156</td>\n",
              "      <td>0</td>\n",
              "    </tr>\n",
              "  </tbody>\n",
              "</table>\n",
              "<p>41705915 rows × 8 columns</p>\n",
              "</div>\n",
              "      <button class=\"colab-df-convert\" onclick=\"convertToInteractive('df-4b5345c8-ab48-4633-9aed-8b6d0a566be8')\"\n",
              "              title=\"Convert this dataframe to an interactive table.\"\n",
              "              style=\"display:none;\">\n",
              "        \n",
              "  <svg xmlns=\"http://www.w3.org/2000/svg\" height=\"24px\"viewBox=\"0 0 24 24\"\n",
              "       width=\"24px\">\n",
              "    <path d=\"M0 0h24v24H0V0z\" fill=\"none\"/>\n",
              "    <path d=\"M18.56 5.44l.94 2.06.94-2.06 2.06-.94-2.06-.94-.94-2.06-.94 2.06-2.06.94zm-11 1L8.5 8.5l.94-2.06 2.06-.94-2.06-.94L8.5 2.5l-.94 2.06-2.06.94zm10 10l.94 2.06.94-2.06 2.06-.94-2.06-.94-.94-2.06-.94 2.06-2.06.94z\"/><path d=\"M17.41 7.96l-1.37-1.37c-.4-.4-.92-.59-1.43-.59-.52 0-1.04.2-1.43.59L10.3 9.45l-7.72 7.72c-.78.78-.78 2.05 0 2.83L4 21.41c.39.39.9.59 1.41.59.51 0 1.02-.2 1.41-.59l7.78-7.78 2.81-2.81c.8-.78.8-2.07 0-2.86zM5.41 20L4 18.59l7.72-7.72 1.47 1.35L5.41 20z\"/>\n",
              "  </svg>\n",
              "      </button>\n",
              "      \n",
              "  <style>\n",
              "    .colab-df-container {\n",
              "      display:flex;\n",
              "      flex-wrap:wrap;\n",
              "      gap: 12px;\n",
              "    }\n",
              "\n",
              "    .colab-df-convert {\n",
              "      background-color: #E8F0FE;\n",
              "      border: none;\n",
              "      border-radius: 50%;\n",
              "      cursor: pointer;\n",
              "      display: none;\n",
              "      fill: #1967D2;\n",
              "      height: 32px;\n",
              "      padding: 0 0 0 0;\n",
              "      width: 32px;\n",
              "    }\n",
              "\n",
              "    .colab-df-convert:hover {\n",
              "      background-color: #E2EBFA;\n",
              "      box-shadow: 0px 1px 2px rgba(60, 64, 67, 0.3), 0px 1px 3px 1px rgba(60, 64, 67, 0.15);\n",
              "      fill: #174EA6;\n",
              "    }\n",
              "\n",
              "    [theme=dark] .colab-df-convert {\n",
              "      background-color: #3B4455;\n",
              "      fill: #D2E3FC;\n",
              "    }\n",
              "\n",
              "    [theme=dark] .colab-df-convert:hover {\n",
              "      background-color: #434B5C;\n",
              "      box-shadow: 0px 1px 3px 1px rgba(0, 0, 0, 0.15);\n",
              "      filter: drop-shadow(0px 1px 2px rgba(0, 0, 0, 0.3));\n",
              "      fill: #FFFFFF;\n",
              "    }\n",
              "  </style>\n",
              "\n",
              "      <script>\n",
              "        const buttonEl =\n",
              "          document.querySelector('#df-4b5345c8-ab48-4633-9aed-8b6d0a566be8 button.colab-df-convert');\n",
              "        buttonEl.style.display =\n",
              "          google.colab.kernel.accessAllowed ? 'block' : 'none';\n",
              "\n",
              "        async function convertToInteractive(key) {\n",
              "          const element = document.querySelector('#df-4b5345c8-ab48-4633-9aed-8b6d0a566be8');\n",
              "          const dataTable =\n",
              "            await google.colab.kernel.invokeFunction('convertToInteractive',\n",
              "                                                     [key], {});\n",
              "          if (!dataTable) return;\n",
              "\n",
              "          const docLinkHtml = 'Like what you see? Visit the ' +\n",
              "            '<a target=\"_blank\" href=https://colab.research.google.com/notebooks/data_table.ipynb>data table notebook</a>'\n",
              "            + ' to learn more about interactive tables.';\n",
              "          element.innerHTML = '';\n",
              "          dataTable['output_type'] = 'display_data';\n",
              "          await google.colab.output.renderOutput(dataTable, element);\n",
              "          const docLink = document.createElement('div');\n",
              "          docLink.innerHTML = docLinkHtml;\n",
              "          element.appendChild(docLink);\n",
              "        }\n",
              "      </script>\n",
              "    </div>\n",
              "  </div>\n",
              "  "
            ]
          },
          "metadata": {},
          "execution_count": 19
        }
      ]
    },
    {
      "cell_type": "code",
      "source": [
        "sns.kdeplot(data.price)"
      ],
      "metadata": {
        "id": "RFMsJ5g2pdoL",
        "outputId": "77a447a9-cb04-443d-af40-37c3d469c473",
        "colab": {
          "base_uri": "https://localhost:8080/",
          "height": 297
        }
      },
      "execution_count": null,
      "outputs": [
        {
          "output_type": "execute_result",
          "data": {
            "text/plain": [
              "<matplotlib.axes._subplots.AxesSubplot at 0x7fa2d3915070>"
            ]
          },
          "metadata": {},
          "execution_count": 21
        },
        {
          "output_type": "display_data",
          "data": {
            "text/plain": [
              "<Figure size 432x288 with 1 Axes>"
            ],
            "image/png": "[encoded data removed]"
          },
          "metadata": {
            "needs_background": "light"
          }
        }
      ]
    },
    {
      "cell_type": "code",
      "source": [
        "len(data.user_id.unique())/len(data.product_id.unique())"
      ],
      "metadata": {
        "id": "RHtMiypLDXLR",
        "outputId": "88c8b943-dfd0-4974-bf65-d5561ea731bd",
        "colab": {
          "base_uri": "https://localhost:8080/"
        }
      },
      "execution_count": 10,
      "outputs": [
        {
          "output_type": "execute_result",
          "data": {
            "text/plain": [
              "18.119662577790567"
            ]
          },
          "metadata": {},
          "execution_count": 10
        }
      ]
    }
  ]
}