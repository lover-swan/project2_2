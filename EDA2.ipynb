{
  "nbformat": 4,
  "nbformat_minor": 0,
  "metadata": {
    "colab": {
      "provenance": [],
      "mount_file_id": "https://github.com/lover-swan/project2_2/blob/main/EDA2.ipynb",
      "authorship_tag": "ABX9TyNnD7YBoS5wJt7DUY4OOF5i",
      "include_colab_link": true
    },
    "kernelspec": {
      "name": "python3",
      "display_name": "Python 3"
    },
    "language_info": {
      "name": "python"
    }
  },
  "cells": [
    {
      "cell_type": "markdown",
      "metadata": {
        "id": "view-in-github",
        "colab_type": "text"
      },
      "source": [
        "<a href=\"https://colab.research.google.com/github/lover-swan/project2_2/blob/main/EDA2.ipynb\" target=\"_parent\"><img src=\"https://colab.research.google.com/assets/colab-badge.svg\" alt=\"Open In Colab\"/></a>"
      ]
    },
    {
      "cell_type": "code",
      "execution_count": 1,
      "metadata": {
        "id": "CiomV4qat0Xw"
      },
      "outputs": [],
      "source": [
        "import pandas as pd\n",
        "import matplotlib.pyplot as plt\n",
        "import seaborn as sns"
      ]
    },
    {
      "cell_type": "code",
      "source": [
        "data=pd.read_pickle('/content/drive/MyDrive/project2_2/data_after.pkl')"
      ],
      "metadata": {
        "id": "P4TaeZvdt9XE"
      },
      "execution_count": 2,
      "outputs": []
    },
    {
      "cell_type": "code",
      "source": [
        "data.info()"
      ],
      "metadata": {
        "id": "RCblDyRRvFvR",
        "outputId": "a715d9b0-2772-4a12-bf92-03a3ebd41b66",
        "colab": {
          "base_uri": "https://localhost:8080/"
        }
      },
      "execution_count": 5,
      "outputs": [
        {
          "output_type": "stream",
          "name": "stdout",
          "text": [
            "<class 'pandas.core.frame.DataFrame'>\n",
            "RangeIndex: 41705915 entries, 0 to 41705914\n",
            "Data columns (total 8 columns):\n",
            " #   Column          Dtype   \n",
            "---  ------          -----   \n",
            " 0   event_time      int32   \n",
            " 1   user_id         int32   \n",
            " 2   product_id      int32   \n",
            " 3   large_category  category\n",
            " 4   small_category  category\n",
            " 5   brand           category\n",
            " 6   price           int16   \n",
            " 7   target          int8    \n",
            "dtypes: category(3), int16(1), int32(3), int8(1)\n",
            "memory usage: 755.9 MB\n"
          ]
        }
      ]
    },
    {
      "cell_type": "code",
      "source": [
        "data.large_category.describe()"
      ],
      "metadata": {
        "id": "OQm10BjavrjR",
        "outputId": "51ce854b-2f8c-46b4-a0a2-795f7a028571",
        "colab": {
          "base_uri": "https://localhost:8080/"
        }
      },
      "execution_count": 8,
      "outputs": [
        {
          "output_type": "execute_result",
          "data": {
            "text/plain": [
              "count        28363731\n",
              "unique             13\n",
              "top       electronics\n",
              "freq         15712595\n",
              "Name: large_category, dtype: object"
            ]
          },
          "metadata": {},
          "execution_count": 8
        }
      ]
    },
    {
      "cell_type": "code",
      "source": [
        "data.small_category.describe()"
      ],
      "metadata": {
        "id": "dkyhT613v-fx",
        "outputId": "aaa14667-c730-4737-c422-20b12d6a110d",
        "colab": {
          "base_uri": "https://localhost:8080/"
        }
      },
      "execution_count": 9,
      "outputs": [
        {
          "output_type": "execute_result",
          "data": {
            "text/plain": [
              "count       28363731\n",
              "unique           124\n",
              "top       smartphone\n",
              "freq        11169213\n",
              "Name: small_category, dtype: object"
            ]
          },
          "metadata": {},
          "execution_count": 9
        }
      ]
    },
    {
      "cell_type": "code",
      "source": [
        "data.brand.describe()"
      ],
      "metadata": {
        "id": "-8EcBmtYwBwR",
        "outputId": "85c248b2-650b-4825-a034-321c064a8211",
        "colab": {
          "base_uri": "https://localhost:8080/"
        }
      },
      "execution_count": 10,
      "outputs": [
        {
          "output_type": "execute_result",
          "data": {
            "text/plain": [
              "count     35647140\n",
              "unique        3444\n",
              "top        samsung\n",
              "freq       5109879\n",
              "Name: brand, dtype: object"
            ]
          },
          "metadata": {},
          "execution_count": 10
        }
      ]
    }
  ]
}