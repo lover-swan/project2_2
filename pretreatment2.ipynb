{
  "nbformat": 4,
  "nbformat_minor": 0,
  "metadata": {
    "colab": {
      "provenance": [],
      "mount_file_id": "https://github.com/lover-swan/project2_2/blob/main/pretreatment2.ipynb",
      "authorship_tag": "ABX9TyOauSPzjahQfpgc4gr1h+kU",
      "include_colab_link": true
    },
    "kernelspec": {
      "name": "python3",
      "display_name": "Python 3"
    },
    "language_info": {
      "name": "python"
    }
  },
  "cells": [
    {
      "cell_type": "markdown",
      "metadata": {
        "id": "view-in-github",
        "colab_type": "text"
      },
      "source": [
        "<a href=\"https://colab.research.google.com/github/lover-swan/project2_2/blob/main/pretreatment2.ipynb\" target=\"_parent\"><img src=\"https://colab.research.google.com/assets/colab-badge.svg\" alt=\"Open In Colab\"/></a>"
      ]
    },
    {
      "cell_type": "code",
      "execution_count": 1,
      "metadata": {
        "id": "2i1It3oMmmjz"
      },
      "outputs": [],
      "source": [
        "import pandas as pd"
      ]
    },
    {
      "cell_type": "code",
      "source": [
        "def get_split(data):\n",
        "  category=data.category_code.str.split('.')\n",
        "  data['large_category']=category.str.get(0)\n",
        "  data['small_category']=category.str.get(-1)\n",
        "  data=data.drop(columns='category_code')\n",
        "\n",
        "  return data"
      ],
      "metadata": {
        "id": "eKI7toQ-nWA2"
      },
      "execution_count": 2,
      "outputs": []
    },
    {
      "cell_type": "code",
      "source": [
        "#실행1"
      ],
      "metadata": {
        "id": "PTaDOdonoa6e"
      },
      "execution_count": 3,
      "outputs": []
    },
    {
      "cell_type": "code",
      "source": [
        "data1=pd.read_pickle('/content/drive/MyDrive/project2_2/data1.pkl')\n",
        "data1=get_split(data1)\n",
        "data1.to_pickle('/content/drive/MyDrive/project2_2/data1.pkl')"
      ],
      "metadata": {
        "id": "9zN2aL_um8OT"
      },
      "execution_count": 4,
      "outputs": []
    },
    {
      "cell_type": "code",
      "source": [
        "#실행2 "
      ],
      "metadata": {
        "id": "0Ra3RSnjodiL"
      },
      "execution_count": 5,
      "outputs": []
    },
    {
      "cell_type": "code",
      "source": [
        "data2=pd.read_pickle('/content/drive/MyDrive/project2_2/data2.pkl')\n",
        "data2=get_split(data2)\n",
        "data2.to_pickle('/content/drive/MyDrive/project2_2/data2.pkl')"
      ],
      "metadata": {
        "id": "0wkWIdTdoYgo"
      },
      "execution_count": 6,
      "outputs": []
    },
    {
      "cell_type": "code",
      "source": [
        "#실행3 "
      ],
      "metadata": {
        "id": "WwFdRngpo1Ad"
      },
      "execution_count": 7,
      "outputs": []
    },
    {
      "cell_type": "code",
      "source": [
        "data3=pd.read_pickle('/content/drive/MyDrive/project2_2/data3.pkl')\n",
        "data3=get_split(data3)\n",
        "data3.to_pickle('/content/drive/MyDrive/project2_2/data3.pkl')"
      ],
      "metadata": {
        "id": "o1VWdiwaomqw"
      },
      "execution_count": 8,
      "outputs": []
    },
    {
      "cell_type": "code",
      "source": [
        "#실행4 "
      ],
      "metadata": {
        "id": "nDZEqcpno2UP"
      },
      "execution_count": 9,
      "outputs": []
    },
    {
      "cell_type": "code",
      "source": [
        "data4=pd.read_pickle('/content/drive/MyDrive/project2_2/data4.pkl')\n",
        "data4=get_split(data4)\n",
        "data4.to_pickle('/content/drive/MyDrive/project2_2/data4.pkl')"
      ],
      "metadata": {
        "id": "ZiRkn2ISonL0"
      },
      "execution_count": 10,
      "outputs": []
    },
    {
      "cell_type": "code",
      "source": [
        "data1=pd.read_pickle('/content/drive/MyDrive/project2_2/data1.pkl')\n",
        "data2=pd.read_pickle('/content/drive/MyDrive/project2_2/data2.pkl')\n",
        "data3=pd.read_pickle('/content/drive/MyDrive/project2_2/data3.pkl')\n",
        "data4=pd.read_pickle('/content/drive/MyDrive/project2_2/data4.pkl')"
      ],
      "metadata": {
        "id": "avboDwWoiviT"
      },
      "execution_count": 2,
      "outputs": []
    },
    {
      "cell_type": "code",
      "source": [
        "# 데이터 병합"
      ],
      "metadata": {
        "id": "JGo0Gi1Xptjd"
      },
      "execution_count": 11,
      "outputs": []
    },
    {
      "cell_type": "code",
      "source": [
        "data=pd.concat([data1,data2,data3,data4]).reset_index(drop=True)"
      ],
      "metadata": {
        "id": "cHEQvwltp5tK"
      },
      "execution_count": 4,
      "outputs": []
    },
    {
      "cell_type": "code",
      "source": [
        "data"
      ],
      "metadata": {
        "id": "9h_gtJJHsYO7",
        "outputId": "19061dd0-eca2-4883-fd8b-14047ef42f9a",
        "colab": {
          "base_uri": "https://localhost:8080/",
          "height": 424
        }
      },
      "execution_count": 5,
      "outputs": [
        {
          "output_type": "execute_result",
          "data": {
            "text/plain": [
              "          event_time  product_id      brand  price    user_id  target  \\\n",
              "0         1569888000    44600062   shiseido     35  541312140       0   \n",
              "1         1569888000     3900821       aqua     33  554748717       0   \n",
              "2         1569888001    17200506        NaN    543  519107250       0   \n",
              "3         1569888001     1307067     lenovo    251  550050854       0   \n",
              "4         1569888004     1004237      apple   1081  535871217       0   \n",
              "...              ...         ...        ...    ...        ...     ...   \n",
              "42448759  1572566398     2300275      gopro    527  537931532       0   \n",
              "42448760  1572566398    10800172    redmond     61  527322328       0   \n",
              "42448761  1572566398     5701038    kenwood    128  566280422       0   \n",
              "42448762  1572566399    21407424     tissot    689  513118352       0   \n",
              "42448763  1572566399    13300120  swisshome    155  525266378       0   \n",
              "\n",
              "         large_category small_category  \n",
              "0                   NaN            NaN  \n",
              "1            appliances   water_heater  \n",
              "2             furniture           sofa  \n",
              "3             computers       notebook  \n",
              "4           electronics     smartphone  \n",
              "...                 ...            ...  \n",
              "42448759    electronics          video  \n",
              "42448760            NaN            NaN  \n",
              "42448761           auto         player  \n",
              "42448762    electronics         clocks  \n",
              "42448763            NaN            NaN  \n",
              "\n",
              "[42448764 rows x 8 columns]"
            ],
            "text/html": [
              "\n",
              "  <div id=\"df-04af0bef-93d9-4bfe-a751-c60b94ae55b2\">\n",
              "    <div class=\"colab-df-container\">\n",
              "      <div>\n",
              "<style scoped>\n",
              "    .dataframe tbody tr th:only-of-type {\n",
              "        vertical-align: middle;\n",
              "    }\n",
              "\n",
              "    .dataframe tbody tr th {\n",
              "        vertical-align: top;\n",
              "    }\n",
              "\n",
              "    .dataframe thead th {\n",
              "        text-align: right;\n",
              "    }\n",
              "</style>\n",
              "<table border=\"1\" class=\"dataframe\">\n",
              "  <thead>\n",
              "    <tr style=\"text-align: right;\">\n",
              "      <th></th>\n",
              "      <th>event_time</th>\n",
              "      <th>product_id</th>\n",
              "      <th>brand</th>\n",
              "      <th>price</th>\n",
              "      <th>user_id</th>\n",
              "      <th>target</th>\n",
              "      <th>large_category</th>\n",
              "      <th>small_category</th>\n",
              "    </tr>\n",
              "  </thead>\n",
              "  <tbody>\n",
              "    <tr>\n",
              "      <th>0</th>\n",
              "      <td>1569888000</td>\n",
              "      <td>44600062</td>\n",
              "      <td>shiseido</td>\n",
              "      <td>35</td>\n",
              "      <td>541312140</td>\n",
              "      <td>0</td>\n",
              "      <td>NaN</td>\n",
              "      <td>NaN</td>\n",
              "    </tr>\n",
              "    <tr>\n",
              "      <th>1</th>\n",
              "      <td>1569888000</td>\n",
              "      <td>3900821</td>\n",
              "      <td>aqua</td>\n",
              "      <td>33</td>\n",
              "      <td>554748717</td>\n",
              "      <td>0</td>\n",
              "      <td>appliances</td>\n",
              "      <td>water_heater</td>\n",
              "    </tr>\n",
              "    <tr>\n",
              "      <th>2</th>\n",
              "      <td>1569888001</td>\n",
              "      <td>17200506</td>\n",
              "      <td>NaN</td>\n",
              "      <td>543</td>\n",
              "      <td>519107250</td>\n",
              "      <td>0</td>\n",
              "      <td>furniture</td>\n",
              "      <td>sofa</td>\n",
              "    </tr>\n",
              "    <tr>\n",
              "      <th>3</th>\n",
              "      <td>1569888001</td>\n",
              "      <td>1307067</td>\n",
              "      <td>lenovo</td>\n",
              "      <td>251</td>\n",
              "      <td>550050854</td>\n",
              "      <td>0</td>\n",
              "      <td>computers</td>\n",
              "      <td>notebook</td>\n",
              "    </tr>\n",
              "    <tr>\n",
              "      <th>4</th>\n",
              "      <td>1569888004</td>\n",
              "      <td>1004237</td>\n",
              "      <td>apple</td>\n",
              "      <td>1081</td>\n",
              "      <td>535871217</td>\n",
              "      <td>0</td>\n",
              "      <td>electronics</td>\n",
              "      <td>smartphone</td>\n",
              "    </tr>\n",
              "    <tr>\n",
              "      <th>...</th>\n",
              "      <td>...</td>\n",
              "      <td>...</td>\n",
              "      <td>...</td>\n",
              "      <td>...</td>\n",
              "      <td>...</td>\n",
              "      <td>...</td>\n",
              "      <td>...</td>\n",
              "      <td>...</td>\n",
              "    </tr>\n",
              "    <tr>\n",
              "      <th>42448759</th>\n",
              "      <td>1572566398</td>\n",
              "      <td>2300275</td>\n",
              "      <td>gopro</td>\n",
              "      <td>527</td>\n",
              "      <td>537931532</td>\n",
              "      <td>0</td>\n",
              "      <td>electronics</td>\n",
              "      <td>video</td>\n",
              "    </tr>\n",
              "    <tr>\n",
              "      <th>42448760</th>\n",
              "      <td>1572566398</td>\n",
              "      <td>10800172</td>\n",
              "      <td>redmond</td>\n",
              "      <td>61</td>\n",
              "      <td>527322328</td>\n",
              "      <td>0</td>\n",
              "      <td>NaN</td>\n",
              "      <td>NaN</td>\n",
              "    </tr>\n",
              "    <tr>\n",
              "      <th>42448761</th>\n",
              "      <td>1572566398</td>\n",
              "      <td>5701038</td>\n",
              "      <td>kenwood</td>\n",
              "      <td>128</td>\n",
              "      <td>566280422</td>\n",
              "      <td>0</td>\n",
              "      <td>auto</td>\n",
              "      <td>player</td>\n",
              "    </tr>\n",
              "    <tr>\n",
              "      <th>42448762</th>\n",
              "      <td>1572566399</td>\n",
              "      <td>21407424</td>\n",
              "      <td>tissot</td>\n",
              "      <td>689</td>\n",
              "      <td>513118352</td>\n",
              "      <td>0</td>\n",
              "      <td>electronics</td>\n",
              "      <td>clocks</td>\n",
              "    </tr>\n",
              "    <tr>\n",
              "      <th>42448763</th>\n",
              "      <td>1572566399</td>\n",
              "      <td>13300120</td>\n",
              "      <td>swisshome</td>\n",
              "      <td>155</td>\n",
              "      <td>525266378</td>\n",
              "      <td>0</td>\n",
              "      <td>NaN</td>\n",
              "      <td>NaN</td>\n",
              "    </tr>\n",
              "  </tbody>\n",
              "</table>\n",
              "<p>42448764 rows × 8 columns</p>\n",
              "</div>\n",
              "      <button class=\"colab-df-convert\" onclick=\"convertToInteractive('df-04af0bef-93d9-4bfe-a751-c60b94ae55b2')\"\n",
              "              title=\"Convert this dataframe to an interactive table.\"\n",
              "              style=\"display:none;\">\n",
              "        \n",
              "  <svg xmlns=\"http://www.w3.org/2000/svg\" height=\"24px\"viewBox=\"0 0 24 24\"\n",
              "       width=\"24px\">\n",
              "    <path d=\"M0 0h24v24H0V0z\" fill=\"none\"/>\n",
              "    <path d=\"M18.56 5.44l.94 2.06.94-2.06 2.06-.94-2.06-.94-.94-2.06-.94 2.06-2.06.94zm-11 1L8.5 8.5l.94-2.06 2.06-.94-2.06-.94L8.5 2.5l-.94 2.06-2.06.94zm10 10l.94 2.06.94-2.06 2.06-.94-2.06-.94-.94-2.06-.94 2.06-2.06.94z\"/><path d=\"M17.41 7.96l-1.37-1.37c-.4-.4-.92-.59-1.43-.59-.52 0-1.04.2-1.43.59L10.3 9.45l-7.72 7.72c-.78.78-.78 2.05 0 2.83L4 21.41c.39.39.9.59 1.41.59.51 0 1.02-.2 1.41-.59l7.78-7.78 2.81-2.81c.8-.78.8-2.07 0-2.86zM5.41 20L4 18.59l7.72-7.72 1.47 1.35L5.41 20z\"/>\n",
              "  </svg>\n",
              "      </button>\n",
              "      \n",
              "  <style>\n",
              "    .colab-df-container {\n",
              "      display:flex;\n",
              "      flex-wrap:wrap;\n",
              "      gap: 12px;\n",
              "    }\n",
              "\n",
              "    .colab-df-convert {\n",
              "      background-color: #E8F0FE;\n",
              "      border: none;\n",
              "      border-radius: 50%;\n",
              "      cursor: pointer;\n",
              "      display: none;\n",
              "      fill: #1967D2;\n",
              "      height: 32px;\n",
              "      padding: 0 0 0 0;\n",
              "      width: 32px;\n",
              "    }\n",
              "\n",
              "    .colab-df-convert:hover {\n",
              "      background-color: #E2EBFA;\n",
              "      box-shadow: 0px 1px 2px rgba(60, 64, 67, 0.3), 0px 1px 3px 1px rgba(60, 64, 67, 0.15);\n",
              "      fill: #174EA6;\n",
              "    }\n",
              "\n",
              "    [theme=dark] .colab-df-convert {\n",
              "      background-color: #3B4455;\n",
              "      fill: #D2E3FC;\n",
              "    }\n",
              "\n",
              "    [theme=dark] .colab-df-convert:hover {\n",
              "      background-color: #434B5C;\n",
              "      box-shadow: 0px 1px 3px 1px rgba(0, 0, 0, 0.15);\n",
              "      filter: drop-shadow(0px 1px 2px rgba(0, 0, 0, 0.3));\n",
              "      fill: #FFFFFF;\n",
              "    }\n",
              "  </style>\n",
              "\n",
              "      <script>\n",
              "        const buttonEl =\n",
              "          document.querySelector('#df-04af0bef-93d9-4bfe-a751-c60b94ae55b2 button.colab-df-convert');\n",
              "        buttonEl.style.display =\n",
              "          google.colab.kernel.accessAllowed ? 'block' : 'none';\n",
              "\n",
              "        async function convertToInteractive(key) {\n",
              "          const element = document.querySelector('#df-04af0bef-93d9-4bfe-a751-c60b94ae55b2');\n",
              "          const dataTable =\n",
              "            await google.colab.kernel.invokeFunction('convertToInteractive',\n",
              "                                                     [key], {});\n",
              "          if (!dataTable) return;\n",
              "\n",
              "          const docLinkHtml = 'Like what you see? Visit the ' +\n",
              "            '<a target=\"_blank\" href=https://colab.research.google.com/notebooks/data_table.ipynb>data table notebook</a>'\n",
              "            + ' to learn more about interactive tables.';\n",
              "          element.innerHTML = '';\n",
              "          dataTable['output_type'] = 'display_data';\n",
              "          await google.colab.output.renderOutput(dataTable, element);\n",
              "          const docLink = document.createElement('div');\n",
              "          docLink.innerHTML = docLinkHtml;\n",
              "          element.appendChild(docLink);\n",
              "        }\n",
              "      </script>\n",
              "    </div>\n",
              "  </div>\n",
              "  "
            ]
          },
          "metadata": {},
          "execution_count": 5
        }
      ]
    },
    {
      "cell_type": "code",
      "source": [
        "data[['large_category','small_category']]=data[['large_category','small_category']].astype('category')"
      ],
      "metadata": {
        "id": "0UCwkMaJskp7"
      },
      "execution_count": 6,
      "outputs": []
    },
    {
      "cell_type": "code",
      "source": [
        "data.to_pickle('/content/drive/MyDrive/project2_2/data_after.pkl')"
      ],
      "metadata": {
        "id": "lhIxCgPfqr89"
      },
      "execution_count": 7,
      "outputs": []
    }
  ]
}