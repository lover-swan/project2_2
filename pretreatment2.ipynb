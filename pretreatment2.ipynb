{
  "nbformat": 4,
  "nbformat_minor": 0,
  "metadata": {
    "colab": {
      "provenance": [],
      "mount_file_id": "https://github.com/lover-swan/AI15_project_1/blob/main/pretreatment2.ipynb",
      "authorship_tag": "ABX9TyMpZ/sqWHaDuMrdwm6kPGHm",
      "include_colab_link": true
    },
    "kernelspec": {
      "name": "python3",
      "display_name": "Python 3"
    },
    "language_info": {
      "name": "python"
    }
  },
  "cells": [
    {
      "cell_type": "markdown",
      "metadata": {
        "id": "view-in-github",
        "colab_type": "text"
      },
      "source": [
        "<a href=\"https://colab.research.google.com/github/lover-swan/project2_2/blob/main/pretreatment2.ipynb\" target=\"_parent\"><img src=\"https://colab.research.google.com/assets/colab-badge.svg\" alt=\"Open In Colab\"/></a>"
      ]
    },
    {
      "cell_type": "code",
      "execution_count": 1,
      "metadata": {
        "id": "2i1It3oMmmjz"
      },
      "outputs": [],
      "source": [
        "import pandas as pd"
      ]
    },
    {
      "cell_type": "code",
      "source": [
        "def get_split(data):\n",
        "  category=data.category_code.str.split('.')\n",
        "  data['larget_category']=category.str.get(0)\n",
        "  data['small_category']=category.str.get(-1)\n",
        "\n",
        "  return data"
      ],
      "metadata": {
        "id": "eKI7toQ-nWA2"
      },
      "execution_count": 7,
      "outputs": []
    },
    {
      "cell_type": "code",
      "source": [
        "#실행1"
      ],
      "metadata": {
        "id": "PTaDOdonoa6e"
      },
      "execution_count": null,
      "outputs": []
    },
    {
      "cell_type": "code",
      "source": [
        "data1=pd.read_csv('/content/drive/MyDrive/project2_2/data1_1.csv')\n",
        "data1=get_split(data1)\n",
        "data1.to_csv('/content/drive/MyDrive/project2_2/data1_1.csv',index=False)"
      ],
      "metadata": {
        "id": "9zN2aL_um8OT"
      },
      "execution_count": 9,
      "outputs": []
    },
    {
      "cell_type": "code",
      "source": [
        "#실행2 "
      ],
      "metadata": {
        "id": "0Ra3RSnjodiL"
      },
      "execution_count": null,
      "outputs": []
    },
    {
      "cell_type": "code",
      "source": [
        "data2=pd.read_csv('/content/drive/MyDrive/project2_2/data1_2.csv')\n",
        "data2=get_split(data2)\n",
        "data2.to_csv('/content/drive/MyDrive/project2_2/data1_2.csv',index=False)"
      ],
      "metadata": {
        "id": "0wkWIdTdoYgo"
      },
      "execution_count": 10,
      "outputs": []
    },
    {
      "cell_type": "code",
      "source": [
        "#실행3 "
      ],
      "metadata": {
        "id": "WwFdRngpo1Ad"
      },
      "execution_count": null,
      "outputs": []
    },
    {
      "cell_type": "code",
      "source": [
        "data3=pd.read_csv('/content/drive/MyDrive/project2_2/data1_3.csv')\n",
        "data3=get_split(data3)\n",
        "data3.to_csv('/content/drive/MyDrive/project2_2/data1_3.csv',index=False)"
      ],
      "metadata": {
        "id": "o1VWdiwaomqw"
      },
      "execution_count": 3,
      "outputs": []
    },
    {
      "cell_type": "code",
      "source": [
        "#실행4 "
      ],
      "metadata": {
        "id": "nDZEqcpno2UP"
      },
      "execution_count": null,
      "outputs": []
    },
    {
      "cell_type": "code",
      "source": [
        "data4=pd.read_csv('/content/drive/MyDrive/project2_2/data1_4.csv')\n",
        "data4=get_split(data4)\n",
        "data4.to_csv('/content/drive/MyDrive/project2_2/data1_4.csv',index=False)"
      ],
      "metadata": {
        "id": "ZiRkn2ISonL0"
      },
      "execution_count": 4,
      "outputs": []
    },
    {
      "cell_type": "code",
      "source": [
        "# 데이터 병합"
      ],
      "metadata": {
        "id": "JGo0Gi1Xptjd"
      },
      "execution_count": 5,
      "outputs": []
    },
    {
      "cell_type": "code",
      "source": [
        "data1=pd.read_csv('/content/drive/MyDrive/project2_2/data1_1.csv')\n",
        "data2=pd.read_csv('/content/drive/MyDrive/project2_2/data1_2.csv')\n",
        "data3=pd.read_csv('/content/drive/MyDrive/project2_2/data1_3.csv')\n",
        "data4=pd.read_csv('/content/drive/MyDrive/project2_2/data1_4.csv')"
      ],
      "metadata": {
        "id": "DoEtXWRKpzN2"
      },
      "execution_count": 2,
      "outputs": []
    },
    {
      "cell_type": "code",
      "source": [
        "data=pd.concat([data1,data2,data3,data4]).reset_index(drop=True)"
      ],
      "metadata": {
        "id": "cHEQvwltp5tK"
      },
      "execution_count": 5,
      "outputs": []
    },
    {
      "cell_type": "code",
      "source": [
        "data=data.drop(columns='category_code')"
      ],
      "metadata": {
        "id": "gDDDbsfzqXTQ"
      },
      "execution_count": 8,
      "outputs": []
    },
    {
      "cell_type": "code",
      "source": [
        "data.to_csv('/content/drive/MyDrive/project2_2/data2.csv',index=False)"
      ],
      "metadata": {
        "id": "lhIxCgPfqr89"
      },
      "execution_count": 10,
      "outputs": []
    }
  ]
}