{
  "nbformat": 4,
  "nbformat_minor": 0,
  "metadata": {
    "colab": {
      "provenance": [],
      "mount_file_id": "https://github.com/lover-swan/project2_2/blob/main/pretreatment2.ipynb",
      "authorship_tag": "ABX9TyPFzfwwMp3A53ttMQYeAA4w",
      "include_colab_link": true
    },
    "kernelspec": {
      "name": "python3",
      "display_name": "Python 3"
    },
    "language_info": {
      "name": "python"
    }
  },
  "cells": [
    {
      "cell_type": "markdown",
      "metadata": {
        "id": "view-in-github",
        "colab_type": "text"
      },
      "source": [
        "<a href=\"https://colab.research.google.com/github/lover-swan/project2_2/blob/main/pretreatment2.ipynb\" target=\"_parent\"><img src=\"https://colab.research.google.com/assets/colab-badge.svg\" alt=\"Open In Colab\"/></a>"
      ]
    },
    {
      "cell_type": "code",
      "execution_count": 1,
      "metadata": {
        "id": "2i1It3oMmmjz"
      },
      "outputs": [],
      "source": [
        "import pandas as pd"
      ]
    },
    {
      "cell_type": "code",
      "source": [
        "def get_split(data):\n",
        "  category=data.category_code.str.split('.')\n",
        "  data['large_category']=category.str.get(0)\n",
        "  data['small_category']=category.str.get(-1)\n",
        "\n",
        "  return data"
      ],
      "metadata": {
        "id": "eKI7toQ-nWA2"
      },
      "execution_count": 16,
      "outputs": []
    },
    {
      "cell_type": "code",
      "source": [
        "#실행1"
      ],
      "metadata": {
        "id": "PTaDOdonoa6e"
      },
      "execution_count": null,
      "outputs": []
    },
    {
      "cell_type": "code",
      "source": [
        "data1=pd.read_pickle('/content/drive/MyDrive/project2_2/data1.pkl')\n",
        "data1=get_split(data1)\n",
        "data1.to_pickle('/content/drive/MyDrive/project2_2/data1.pkl')"
      ],
      "metadata": {
        "id": "9zN2aL_um8OT"
      },
      "execution_count": 17,
      "outputs": []
    },
    {
      "cell_type": "code",
      "source": [
        "#실행2 "
      ],
      "metadata": {
        "id": "0Ra3RSnjodiL"
      },
      "execution_count": 18,
      "outputs": []
    },
    {
      "cell_type": "code",
      "source": [
        "data2=pd.read_pickle('/content/drive/MyDrive/project2_2/data2.pkl')\n",
        "data2=get_split(data2)\n",
        "data2.to_pickle('/content/drive/MyDrive/project2_2/data2.pkl')"
      ],
      "metadata": {
        "id": "0wkWIdTdoYgo"
      },
      "execution_count": 19,
      "outputs": []
    },
    {
      "cell_type": "code",
      "source": [
        "#실행3 "
      ],
      "metadata": {
        "id": "WwFdRngpo1Ad"
      },
      "execution_count": 20,
      "outputs": []
    },
    {
      "cell_type": "code",
      "source": [
        "data3=pd.read_pickle('/content/drive/MyDrive/project2_2/data3.pkl')\n",
        "data3=get_split(data3)\n",
        "data3.to_pickle('/content/drive/MyDrive/project2_2/data3.pkl')"
      ],
      "metadata": {
        "id": "o1VWdiwaomqw"
      },
      "execution_count": 21,
      "outputs": []
    },
    {
      "cell_type": "code",
      "source": [
        "#실행4 "
      ],
      "metadata": {
        "id": "nDZEqcpno2UP"
      },
      "execution_count": 22,
      "outputs": []
    },
    {
      "cell_type": "code",
      "source": [
        "data4=pd.read_pickle('/content/drive/MyDrive/project2_2/data4.pkl')\n",
        "data4=get_split(data4)\n",
        "data4.to_pickle('/content/drive/MyDrive/project2_2/data4.pkl')"
      ],
      "metadata": {
        "id": "ZiRkn2ISonL0"
      },
      "execution_count": 23,
      "outputs": []
    },
    {
      "cell_type": "code",
      "source": [
        "# 데이터 병합"
      ],
      "metadata": {
        "id": "JGo0Gi1Xptjd"
      },
      "execution_count": null,
      "outputs": []
    },
    {
      "cell_type": "code",
      "source": [
        "data=pd.concat([data1,data2,data3,data4]).reset_index(drop=True)"
      ],
      "metadata": {
        "id": "cHEQvwltp5tK"
      },
      "execution_count": 24,
      "outputs": []
    },
    {
      "cell_type": "code",
      "source": [
        "data=data.drop(columns='category_code')"
      ],
      "metadata": {
        "id": "gDDDbsfzqXTQ"
      },
      "execution_count": 25,
      "outputs": []
    },
    {
      "cell_type": "code",
      "source": [
        "data"
      ],
      "metadata": {
        "id": "9h_gtJJHsYO7",
        "outputId": "85bc812d-a5e7-4c18-8b49-5036ed852d14",
        "colab": {
          "base_uri": "https://localhost:8080/",
          "height": 424
        }
      },
      "execution_count": 26,
      "outputs": [
        {
          "output_type": "execute_result",
          "data": {
            "text/plain": [
              "          event_time  product_id      brand  price    user_id  target  \\\n",
              "0         1569888000    44600062   shiseido     36  541312140       0   \n",
              "1         1569888000     3900821       aqua     33  554748717       0   \n",
              "2         1569888001    17200506        NaN    543  519107250       0   \n",
              "3         1569888001     1307067     lenovo    252  550050854       0   \n",
              "4         1569888004     1004237      apple   1082  535871217       0   \n",
              "...              ...         ...        ...    ...        ...     ...   \n",
              "41705910  1572566398     2300275      gopro    527  537931532       0   \n",
              "41705911  1572566398    10800172    redmond     62  527322328       0   \n",
              "41705912  1572566398     5701038    kenwood    129  566280422       0   \n",
              "41705913  1572566399    21407424     tissot    690  513118352       0   \n",
              "41705914  1572566399    13300120  swisshome    156  525266378       0   \n",
              "\n",
              "         larget_category small_category large_category  \n",
              "0                    NaN            NaN            NaN  \n",
              "1             appliances   water_heater     appliances  \n",
              "2              furniture           sofa      furniture  \n",
              "3              computers       notebook      computers  \n",
              "4            electronics     smartphone    electronics  \n",
              "...                  ...            ...            ...  \n",
              "41705910     electronics          video    electronics  \n",
              "41705911             NaN            NaN            NaN  \n",
              "41705912            auto         player           auto  \n",
              "41705913     electronics         clocks    electronics  \n",
              "41705914             NaN            NaN            NaN  \n",
              "\n",
              "[41705915 rows x 9 columns]"
            ],
            "text/html": [
              "\n",
              "  <div id=\"df-816a1701-ba1d-410f-9cfc-910854e4b721\">\n",
              "    <div class=\"colab-df-container\">\n",
              "      <div>\n",
              "<style scoped>\n",
              "    .dataframe tbody tr th:only-of-type {\n",
              "        vertical-align: middle;\n",
              "    }\n",
              "\n",
              "    .dataframe tbody tr th {\n",
              "        vertical-align: top;\n",
              "    }\n",
              "\n",
              "    .dataframe thead th {\n",
              "        text-align: right;\n",
              "    }\n",
              "</style>\n",
              "<table border=\"1\" class=\"dataframe\">\n",
              "  <thead>\n",
              "    <tr style=\"text-align: right;\">\n",
              "      <th></th>\n",
              "      <th>event_time</th>\n",
              "      <th>product_id</th>\n",
              "      <th>brand</th>\n",
              "      <th>price</th>\n",
              "      <th>user_id</th>\n",
              "      <th>target</th>\n",
              "      <th>larget_category</th>\n",
              "      <th>small_category</th>\n",
              "      <th>large_category</th>\n",
              "    </tr>\n",
              "  </thead>\n",
              "  <tbody>\n",
              "    <tr>\n",
              "      <th>0</th>\n",
              "      <td>1569888000</td>\n",
              "      <td>44600062</td>\n",
              "      <td>shiseido</td>\n",
              "      <td>36</td>\n",
              "      <td>541312140</td>\n",
              "      <td>0</td>\n",
              "      <td>NaN</td>\n",
              "      <td>NaN</td>\n",
              "      <td>NaN</td>\n",
              "    </tr>\n",
              "    <tr>\n",
              "      <th>1</th>\n",
              "      <td>1569888000</td>\n",
              "      <td>3900821</td>\n",
              "      <td>aqua</td>\n",
              "      <td>33</td>\n",
              "      <td>554748717</td>\n",
              "      <td>0</td>\n",
              "      <td>appliances</td>\n",
              "      <td>water_heater</td>\n",
              "      <td>appliances</td>\n",
              "    </tr>\n",
              "    <tr>\n",
              "      <th>2</th>\n",
              "      <td>1569888001</td>\n",
              "      <td>17200506</td>\n",
              "      <td>NaN</td>\n",
              "      <td>543</td>\n",
              "      <td>519107250</td>\n",
              "      <td>0</td>\n",
              "      <td>furniture</td>\n",
              "      <td>sofa</td>\n",
              "      <td>furniture</td>\n",
              "    </tr>\n",
              "    <tr>\n",
              "      <th>3</th>\n",
              "      <td>1569888001</td>\n",
              "      <td>1307067</td>\n",
              "      <td>lenovo</td>\n",
              "      <td>252</td>\n",
              "      <td>550050854</td>\n",
              "      <td>0</td>\n",
              "      <td>computers</td>\n",
              "      <td>notebook</td>\n",
              "      <td>computers</td>\n",
              "    </tr>\n",
              "    <tr>\n",
              "      <th>4</th>\n",
              "      <td>1569888004</td>\n",
              "      <td>1004237</td>\n",
              "      <td>apple</td>\n",
              "      <td>1082</td>\n",
              "      <td>535871217</td>\n",
              "      <td>0</td>\n",
              "      <td>electronics</td>\n",
              "      <td>smartphone</td>\n",
              "      <td>electronics</td>\n",
              "    </tr>\n",
              "    <tr>\n",
              "      <th>...</th>\n",
              "      <td>...</td>\n",
              "      <td>...</td>\n",
              "      <td>...</td>\n",
              "      <td>...</td>\n",
              "      <td>...</td>\n",
              "      <td>...</td>\n",
              "      <td>...</td>\n",
              "      <td>...</td>\n",
              "      <td>...</td>\n",
              "    </tr>\n",
              "    <tr>\n",
              "      <th>41705910</th>\n",
              "      <td>1572566398</td>\n",
              "      <td>2300275</td>\n",
              "      <td>gopro</td>\n",
              "      <td>527</td>\n",
              "      <td>537931532</td>\n",
              "      <td>0</td>\n",
              "      <td>electronics</td>\n",
              "      <td>video</td>\n",
              "      <td>electronics</td>\n",
              "    </tr>\n",
              "    <tr>\n",
              "      <th>41705911</th>\n",
              "      <td>1572566398</td>\n",
              "      <td>10800172</td>\n",
              "      <td>redmond</td>\n",
              "      <td>62</td>\n",
              "      <td>527322328</td>\n",
              "      <td>0</td>\n",
              "      <td>NaN</td>\n",
              "      <td>NaN</td>\n",
              "      <td>NaN</td>\n",
              "    </tr>\n",
              "    <tr>\n",
              "      <th>41705912</th>\n",
              "      <td>1572566398</td>\n",
              "      <td>5701038</td>\n",
              "      <td>kenwood</td>\n",
              "      <td>129</td>\n",
              "      <td>566280422</td>\n",
              "      <td>0</td>\n",
              "      <td>auto</td>\n",
              "      <td>player</td>\n",
              "      <td>auto</td>\n",
              "    </tr>\n",
              "    <tr>\n",
              "      <th>41705913</th>\n",
              "      <td>1572566399</td>\n",
              "      <td>21407424</td>\n",
              "      <td>tissot</td>\n",
              "      <td>690</td>\n",
              "      <td>513118352</td>\n",
              "      <td>0</td>\n",
              "      <td>electronics</td>\n",
              "      <td>clocks</td>\n",
              "      <td>electronics</td>\n",
              "    </tr>\n",
              "    <tr>\n",
              "      <th>41705914</th>\n",
              "      <td>1572566399</td>\n",
              "      <td>13300120</td>\n",
              "      <td>swisshome</td>\n",
              "      <td>156</td>\n",
              "      <td>525266378</td>\n",
              "      <td>0</td>\n",
              "      <td>NaN</td>\n",
              "      <td>NaN</td>\n",
              "      <td>NaN</td>\n",
              "    </tr>\n",
              "  </tbody>\n",
              "</table>\n",
              "<p>41705915 rows × 9 columns</p>\n",
              "</div>\n",
              "      <button class=\"colab-df-convert\" onclick=\"convertToInteractive('df-816a1701-ba1d-410f-9cfc-910854e4b721')\"\n",
              "              title=\"Convert this dataframe to an interactive table.\"\n",
              "              style=\"display:none;\">\n",
              "        \n",
              "  <svg xmlns=\"http://www.w3.org/2000/svg\" height=\"24px\"viewBox=\"0 0 24 24\"\n",
              "       width=\"24px\">\n",
              "    <path d=\"M0 0h24v24H0V0z\" fill=\"none\"/>\n",
              "    <path d=\"M18.56 5.44l.94 2.06.94-2.06 2.06-.94-2.06-.94-.94-2.06-.94 2.06-2.06.94zm-11 1L8.5 8.5l.94-2.06 2.06-.94-2.06-.94L8.5 2.5l-.94 2.06-2.06.94zm10 10l.94 2.06.94-2.06 2.06-.94-2.06-.94-.94-2.06-.94 2.06-2.06.94z\"/><path d=\"M17.41 7.96l-1.37-1.37c-.4-.4-.92-.59-1.43-.59-.52 0-1.04.2-1.43.59L10.3 9.45l-7.72 7.72c-.78.78-.78 2.05 0 2.83L4 21.41c.39.39.9.59 1.41.59.51 0 1.02-.2 1.41-.59l7.78-7.78 2.81-2.81c.8-.78.8-2.07 0-2.86zM5.41 20L4 18.59l7.72-7.72 1.47 1.35L5.41 20z\"/>\n",
              "  </svg>\n",
              "      </button>\n",
              "      \n",
              "  <style>\n",
              "    .colab-df-container {\n",
              "      display:flex;\n",
              "      flex-wrap:wrap;\n",
              "      gap: 12px;\n",
              "    }\n",
              "\n",
              "    .colab-df-convert {\n",
              "      background-color: #E8F0FE;\n",
              "      border: none;\n",
              "      border-radius: 50%;\n",
              "      cursor: pointer;\n",
              "      display: none;\n",
              "      fill: #1967D2;\n",
              "      height: 32px;\n",
              "      padding: 0 0 0 0;\n",
              "      width: 32px;\n",
              "    }\n",
              "\n",
              "    .colab-df-convert:hover {\n",
              "      background-color: #E2EBFA;\n",
              "      box-shadow: 0px 1px 2px rgba(60, 64, 67, 0.3), 0px 1px 3px 1px rgba(60, 64, 67, 0.15);\n",
              "      fill: #174EA6;\n",
              "    }\n",
              "\n",
              "    [theme=dark] .colab-df-convert {\n",
              "      background-color: #3B4455;\n",
              "      fill: #D2E3FC;\n",
              "    }\n",
              "\n",
              "    [theme=dark] .colab-df-convert:hover {\n",
              "      background-color: #434B5C;\n",
              "      box-shadow: 0px 1px 3px 1px rgba(0, 0, 0, 0.15);\n",
              "      filter: drop-shadow(0px 1px 2px rgba(0, 0, 0, 0.3));\n",
              "      fill: #FFFFFF;\n",
              "    }\n",
              "  </style>\n",
              "\n",
              "      <script>\n",
              "        const buttonEl =\n",
              "          document.querySelector('#df-816a1701-ba1d-410f-9cfc-910854e4b721 button.colab-df-convert');\n",
              "        buttonEl.style.display =\n",
              "          google.colab.kernel.accessAllowed ? 'block' : 'none';\n",
              "\n",
              "        async function convertToInteractive(key) {\n",
              "          const element = document.querySelector('#df-816a1701-ba1d-410f-9cfc-910854e4b721');\n",
              "          const dataTable =\n",
              "            await google.colab.kernel.invokeFunction('convertToInteractive',\n",
              "                                                     [key], {});\n",
              "          if (!dataTable) return;\n",
              "\n",
              "          const docLinkHtml = 'Like what you see? Visit the ' +\n",
              "            '<a target=\"_blank\" href=https://colab.research.google.com/notebooks/data_table.ipynb>data table notebook</a>'\n",
              "            + ' to learn more about interactive tables.';\n",
              "          element.innerHTML = '';\n",
              "          dataTable['output_type'] = 'display_data';\n",
              "          await google.colab.output.renderOutput(dataTable, element);\n",
              "          const docLink = document.createElement('div');\n",
              "          docLink.innerHTML = docLinkHtml;\n",
              "          element.appendChild(docLink);\n",
              "        }\n",
              "      </script>\n",
              "    </div>\n",
              "  </div>\n",
              "  "
            ]
          },
          "metadata": {},
          "execution_count": 26
        }
      ]
    },
    {
      "cell_type": "code",
      "source": [
        "data[['large_category','small_category']]=data[['large_category','small_category']].astype('category')"
      ],
      "metadata": {
        "id": "0UCwkMaJskp7"
      },
      "execution_count": 27,
      "outputs": []
    },
    {
      "cell_type": "code",
      "source": [
        "data.to_pickle('/content/drive/MyDrive/project2_2/data_after.pkl')"
      ],
      "metadata": {
        "id": "lhIxCgPfqr89"
      },
      "execution_count": 29,
      "outputs": []
    }
  ]
}