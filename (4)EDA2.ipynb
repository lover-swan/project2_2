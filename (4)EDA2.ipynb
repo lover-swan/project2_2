{
  "nbformat": 4,
  "nbformat_minor": 0,
  "metadata": {
    "colab": {
      "provenance": [],
      "mount_file_id": "https://github.com/lover-swan/project2_2/blob/main/(4)EDA2.ipynb",
      "authorship_tag": "ABX9TyNuTP63gLx/pfUyEr8Oeofc",
      "include_colab_link": true
    },
    "kernelspec": {
      "name": "python3",
      "display_name": "Python 3"
    },
    "language_info": {
      "name": "python"
    }
  },
  "cells": [
    {
      "cell_type": "markdown",
      "metadata": {
        "id": "view-in-github",
        "colab_type": "text"
      },
      "source": [
        "<a href=\"https://colab.research.google.com/github/lover-swan/project2_2/blob/main/(4)EDA2.ipynb\" target=\"_parent\"><img src=\"https://colab.research.google.com/assets/colab-badge.svg\" alt=\"Open In Colab\"/></a>"
      ]
    },
    {
      "cell_type": "code",
      "execution_count": 28,
      "metadata": {
        "id": "CiomV4qat0Xw"
      },
      "outputs": [],
      "source": [
        "import pandas as pd\n",
        "import matplotlib.pyplot as plt\n",
        "import seaborn as sns\n",
        "import numpy as np"
      ]
    },
    {
      "cell_type": "code",
      "source": [
        "data=pd.read_pickle('/content/drive/MyDrive/project2_2/data_after.pkl')"
      ],
      "metadata": {
        "id": "P4TaeZvdt9XE"
      },
      "execution_count": 3,
      "outputs": []
    },
    {
      "cell_type": "code",
      "source": [
        "data.to_csv('/content/drive/MyDrive/data.csv',index=False)"
      ],
      "metadata": {
        "id": "3khmwsBNdPUp"
      },
      "execution_count": 48,
      "outputs": []
    },
    {
      "cell_type": "code",
      "source": [
        "data.columns"
      ],
      "metadata": {
        "id": "6nxmttfVlnax",
        "outputId": "1d052ed7-b737-4f87-a57a-f87e4d74139d",
        "colab": {
          "base_uri": "https://localhost:8080/"
        }
      },
      "execution_count": 4,
      "outputs": [
        {
          "output_type": "execute_result",
          "data": {
            "text/plain": [
              "Index(['event_time', 'user_id', 'product_id', 'large_category',\n",
              "       'small_category', 'brand', 'price', 'target'],\n",
              "      dtype='object')"
            ]
          },
          "metadata": {},
          "execution_count": 4
        }
      ]
    },
    {
      "cell_type": "code",
      "source": [
        "data.info()"
      ],
      "metadata": {
        "id": "RCblDyRRvFvR",
        "outputId": "801be0d8-aed7-44c0-b379-a104b392a874",
        "colab": {
          "base_uri": "https://localhost:8080/"
        }
      },
      "execution_count": 5,
      "outputs": [
        {
          "output_type": "stream",
          "name": "stdout",
          "text": [
            "<class 'pandas.core.frame.DataFrame'>\n",
            "RangeIndex: 42448764 entries, 0 to 42448763\n",
            "Data columns (total 8 columns):\n",
            " #   Column          Dtype   \n",
            "---  ------          -----   \n",
            " 0   event_time      int32   \n",
            " 1   user_id         int32   \n",
            " 2   product_id      int32   \n",
            " 3   large_category  category\n",
            " 4   small_category  category\n",
            " 5   brand           category\n",
            " 6   price           int16   \n",
            " 7   target          int8    \n",
            "dtypes: category(3), int16(1), int32(3), int8(1)\n",
            "memory usage: 769.2 MB\n"
          ]
        }
      ]
    },
    {
      "cell_type": "code",
      "source": [
        "data.large_category.describe()"
      ],
      "metadata": {
        "id": "OQm10BjavrjR",
        "outputId": "c7f5277c-b75c-405b-9eac-9408e0b92f58",
        "colab": {
          "base_uri": "https://localhost:8080/"
        }
      },
      "execution_count": 6,
      "outputs": [
        {
          "output_type": "execute_result",
          "data": {
            "text/plain": [
              "count        28933155\n",
              "unique             13\n",
              "top       electronics\n",
              "freq         16135623\n",
              "Name: large_category, dtype: object"
            ]
          },
          "metadata": {},
          "execution_count": 6
        }
      ]
    },
    {
      "cell_type": "code",
      "source": [
        "data.small_category.describe()"
      ],
      "metadata": {
        "id": "dkyhT613v-fx",
        "outputId": "deb4a4bf-850e-4b28-f9ed-e069250e0ab1",
        "colab": {
          "base_uri": "https://localhost:8080/"
        }
      },
      "execution_count": 7,
      "outputs": [
        {
          "output_type": "execute_result",
          "data": {
            "text/plain": [
              "count       28933155\n",
              "unique           124\n",
              "top       smartphone\n",
              "freq        11507231\n",
              "Name: small_category, dtype: object"
            ]
          },
          "metadata": {},
          "execution_count": 7
        }
      ]
    },
    {
      "cell_type": "code",
      "source": [
        "data.brand.describe()"
      ],
      "metadata": {
        "id": "-8EcBmtYwBwR",
        "outputId": "d5448423-5c5e-4c89-d1e4-3da6b4b7309c",
        "colab": {
          "base_uri": "https://localhost:8080/"
        }
      },
      "execution_count": 8,
      "outputs": [
        {
          "output_type": "execute_result",
          "data": {
            "text/plain": [
              "count     36331684\n",
              "unique        3444\n",
              "top        samsung\n",
              "freq       5282775\n",
              "Name: brand, dtype: object"
            ]
          },
          "metadata": {},
          "execution_count": 8
        }
      ]
    },
    {
      "cell_type": "code",
      "source": [
        "plt.figure(figsize=(10,10))\n",
        "plt.pie(data.large_category.value_counts(),autopct='%.1f%%')\n",
        "plt.legend(ncol=2,fontsize=8,bbox_to_anchor=(0.9, 0.9),labels=data.large_category.value_counts().index)\n",
        "plt.show()"
      ],
      "metadata": {
        "id": "KF_4B2usoJqi",
        "outputId": "41e2c664-6e4d-4eeb-ee9b-88100971e9fb",
        "colab": {
          "base_uri": "https://localhost:8080/",
          "height": 575
        }
      },
      "execution_count": 27,
      "outputs": [
        {
          "output_type": "display_data",
          "data": {
            "text/plain": [
              "<Figure size 720x720 with 1 Axes>"
            ],
            "image/png": "[encoded data removed]"
          },
          "metadata": {}
        }
      ]
    },
    {
      "cell_type": "code",
      "source": [
        "sns.kdeplot(data.price)"
      ],
      "metadata": {
        "id": "RFMsJ5g2pdoL",
        "outputId": "f7a11468-cf01-487f-d104-3540b188f147",
        "colab": {
          "base_uri": "https://localhost:8080/",
          "height": 297
        }
      },
      "execution_count": null,
      "outputs": [
        {
          "output_type": "execute_result",
          "data": {
            "text/plain": [
              "<matplotlib.axes._subplots.AxesSubplot at 0x7f21c2546190>"
            ]
          },
          "metadata": {},
          "execution_count": 10
        },
        {
          "output_type": "display_data",
          "data": {
            "text/plain": [
              "<Figure size 432x288 with 1 Axes>"
            ],
            "image/png": "[encoded data removed]"
          },
          "metadata": {
            "needs_background": "light"
          }
        }
      ]
    },
    {
      "cell_type": "code",
      "source": [
        "# 데이터를 카테고리 별로 묶어서 분할 "
      ],
      "metadata": {
        "id": "5ILpP5551d3p"
      },
      "execution_count": null,
      "outputs": []
    },
    {
      "cell_type": "code",
      "source": [
        "category_list=list(data['large_category'].unique())"
      ],
      "metadata": {
        "id": "67PTJroWyahW"
      },
      "execution_count": null,
      "outputs": []
    },
    {
      "cell_type": "code",
      "source": [
        "category_list"
      ],
      "metadata": {
        "id": "s_AZ6wBRzlzd",
        "outputId": "c46bd6df-ba38-4bc5-d588-8f17693cd25d",
        "colab": {
          "base_uri": "https://localhost:8080/"
        }
      },
      "execution_count": null,
      "outputs": [
        {
          "output_type": "execute_result",
          "data": {
            "text/plain": [
              "[nan,\n",
              " 'appliances',\n",
              " 'furniture',\n",
              " 'computers',\n",
              " 'electronics',\n",
              " 'apparel',\n",
              " 'construction',\n",
              " 'auto',\n",
              " 'kids',\n",
              " 'sport',\n",
              " 'accessories',\n",
              " 'medicine',\n",
              " 'stationery',\n",
              " 'country_yard']"
            ]
          },
          "metadata": {},
          "execution_count": 9
        }
      ]
    },
    {
      "cell_type": "code",
      "source": [
        "target_data1=data[data.large_category.isin(['electronics','appliances','computers','auto'])].reset_index(drop=True)\n",
        "target_data2=data[data.large_category.isin(['furniture','construction','country_yard'])].reset_index(drop=True)\n",
        "target_data3=data[data.large_category.isin(['apparel','accessories','sport'])].reset_index(drop=True)\n",
        "target_data4=data[data.large_category.isin(['kids','medicine','stationery'])].reset_index(drop=True)\n",
        "target_data5=data[data.large_category.isna()].reset_index(drop=True)"
      ],
      "metadata": {
        "id": "LcFaMiRB0Lje"
      },
      "execution_count": null,
      "outputs": []
    },
    {
      "cell_type": "code",
      "source": [
        "plt.figure(figsize=(10,10))\n",
        "plt.pie(target_data1.target.value_counts(),labels=target_data1.target.value_counts().index,autopct='%.1f%%')\n",
        "plt.show()"
      ],
      "metadata": {
        "id": "_Z4yME1v1QUb",
        "outputId": "c9f70e9b-4e85-44ed-93a5-1e20ffd64b82",
        "colab": {
          "base_uri": "https://localhost:8080/",
          "height": 575
        }
      },
      "execution_count": null,
      "outputs": [
        {
          "output_type": "display_data",
          "data": {
            "text/plain": [
              "<Figure size 720x720 with 1 Axes>"
            ],
            "image/png": "[encoded data removed]"
          },
          "metadata": {}
        }
      ]
    },
    {
      "cell_type": "code",
      "source": [
        "target_data1"
      ],
      "metadata": {
        "id": "Ag-wSLHBcgWp",
        "outputId": "67ffa028-1296-4231-f00e-668f4ef8bcb1",
        "colab": {
          "base_uri": "https://localhost:8080/",
          "height": 424
        }
      },
      "execution_count": null,
      "outputs": [
        {
          "output_type": "execute_result",
          "data": {
            "text/plain": [
              "          event_time    user_id  product_id large_category small_category  \\\n",
              "0         1569888000  554748717     3900821     appliances   water_heater   \n",
              "1         1569888001  550050854     1307067      computers       notebook   \n",
              "2         1569888004  535871217     1004237    electronics     smartphone   \n",
              "3         1569888005  512742880     1480613      computers        desktop   \n",
              "4         1569888011  537918940     1004545    electronics     smartphone   \n",
              "...              ...        ...         ...            ...            ...   \n",
              "24440244  1572566398  518956209     1004870    electronics     smartphone   \n",
              "24440245  1572566398  524356542     2702331     appliances  refrigerators   \n",
              "24440246  1572566398  537931532     2300275    electronics          video   \n",
              "24440247  1572566398  566280422     5701038           auto         player   \n",
              "24440248  1572566399  513118352    21407424    electronics         clocks   \n",
              "\n",
              "            brand  price  target  \n",
              "0            aqua     33       0  \n",
              "1          lenovo    251       0  \n",
              "2           apple   1081       0  \n",
              "3          pulser    908       0  \n",
              "4          huawei    566       0  \n",
              "...           ...    ...     ...  \n",
              "24440244  samsung    275       0  \n",
              "24440245       lg    527       0  \n",
              "24440246    gopro    527       0  \n",
              "24440247  kenwood    128       0  \n",
              "24440248   tissot    689       0  \n",
              "\n",
              "[24440249 rows x 8 columns]"
            ],
            "text/html": [
              "\n",
              "  <div id=\"df-6b93d47f-d731-4ecd-9656-5227f5908d77\">\n",
              "    <div class=\"colab-df-container\">\n",
              "      <div>\n",
              "<style scoped>\n",
              "    .dataframe tbody tr th:only-of-type {\n",
              "        vertical-align: middle;\n",
              "    }\n",
              "\n",
              "    .dataframe tbody tr th {\n",
              "        vertical-align: top;\n",
              "    }\n",
              "\n",
              "    .dataframe thead th {\n",
              "        text-align: right;\n",
              "    }\n",
              "</style>\n",
              "<table border=\"1\" class=\"dataframe\">\n",
              "  <thead>\n",
              "    <tr style=\"text-align: right;\">\n",
              "      <th></th>\n",
              "      <th>event_time</th>\n",
              "      <th>user_id</th>\n",
              "      <th>product_id</th>\n",
              "      <th>large_category</th>\n",
              "      <th>small_category</th>\n",
              "      <th>brand</th>\n",
              "      <th>price</th>\n",
              "      <th>target</th>\n",
              "    </tr>\n",
              "  </thead>\n",
              "  <tbody>\n",
              "    <tr>\n",
              "      <th>0</th>\n",
              "      <td>1569888000</td>\n",
              "      <td>554748717</td>\n",
              "      <td>3900821</td>\n",
              "      <td>appliances</td>\n",
              "      <td>water_heater</td>\n",
              "      <td>aqua</td>\n",
              "      <td>33</td>\n",
              "      <td>0</td>\n",
              "    </tr>\n",
              "    <tr>\n",
              "      <th>1</th>\n",
              "      <td>1569888001</td>\n",
              "      <td>550050854</td>\n",
              "      <td>1307067</td>\n",
              "      <td>computers</td>\n",
              "      <td>notebook</td>\n",
              "      <td>lenovo</td>\n",
              "      <td>251</td>\n",
              "      <td>0</td>\n",
              "    </tr>\n",
              "    <tr>\n",
              "      <th>2</th>\n",
              "      <td>1569888004</td>\n",
              "      <td>535871217</td>\n",
              "      <td>1004237</td>\n",
              "      <td>electronics</td>\n",
              "      <td>smartphone</td>\n",
              "      <td>apple</td>\n",
              "      <td>1081</td>\n",
              "      <td>0</td>\n",
              "    </tr>\n",
              "    <tr>\n",
              "      <th>3</th>\n",
              "      <td>1569888005</td>\n",
              "      <td>512742880</td>\n",
              "      <td>1480613</td>\n",
              "      <td>computers</td>\n",
              "      <td>desktop</td>\n",
              "      <td>pulser</td>\n",
              "      <td>908</td>\n",
              "      <td>0</td>\n",
              "    </tr>\n",
              "    <tr>\n",
              "      <th>4</th>\n",
              "      <td>1569888011</td>\n",
              "      <td>537918940</td>\n",
              "      <td>1004545</td>\n",
              "      <td>electronics</td>\n",
              "      <td>smartphone</td>\n",
              "      <td>huawei</td>\n",
              "      <td>566</td>\n",
              "      <td>0</td>\n",
              "    </tr>\n",
              "    <tr>\n",
              "      <th>...</th>\n",
              "      <td>...</td>\n",
              "      <td>...</td>\n",
              "      <td>...</td>\n",
              "      <td>...</td>\n",
              "      <td>...</td>\n",
              "      <td>...</td>\n",
              "      <td>...</td>\n",
              "      <td>...</td>\n",
              "    </tr>\n",
              "    <tr>\n",
              "      <th>24440244</th>\n",
              "      <td>1572566398</td>\n",
              "      <td>518956209</td>\n",
              "      <td>1004870</td>\n",
              "      <td>electronics</td>\n",
              "      <td>smartphone</td>\n",
              "      <td>samsung</td>\n",
              "      <td>275</td>\n",
              "      <td>0</td>\n",
              "    </tr>\n",
              "    <tr>\n",
              "      <th>24440245</th>\n",
              "      <td>1572566398</td>\n",
              "      <td>524356542</td>\n",
              "      <td>2702331</td>\n",
              "      <td>appliances</td>\n",
              "      <td>refrigerators</td>\n",
              "      <td>lg</td>\n",
              "      <td>527</td>\n",
              "      <td>0</td>\n",
              "    </tr>\n",
              "    <tr>\n",
              "      <th>24440246</th>\n",
              "      <td>1572566398</td>\n",
              "      <td>537931532</td>\n",
              "      <td>2300275</td>\n",
              "      <td>electronics</td>\n",
              "      <td>video</td>\n",
              "      <td>gopro</td>\n",
              "      <td>527</td>\n",
              "      <td>0</td>\n",
              "    </tr>\n",
              "    <tr>\n",
              "      <th>24440247</th>\n",
              "      <td>1572566398</td>\n",
              "      <td>566280422</td>\n",
              "      <td>5701038</td>\n",
              "      <td>auto</td>\n",
              "      <td>player</td>\n",
              "      <td>kenwood</td>\n",
              "      <td>128</td>\n",
              "      <td>0</td>\n",
              "    </tr>\n",
              "    <tr>\n",
              "      <th>24440248</th>\n",
              "      <td>1572566399</td>\n",
              "      <td>513118352</td>\n",
              "      <td>21407424</td>\n",
              "      <td>electronics</td>\n",
              "      <td>clocks</td>\n",
              "      <td>tissot</td>\n",
              "      <td>689</td>\n",
              "      <td>0</td>\n",
              "    </tr>\n",
              "  </tbody>\n",
              "</table>\n",
              "<p>24440249 rows × 8 columns</p>\n",
              "</div>\n",
              "      <button class=\"colab-df-convert\" onclick=\"convertToInteractive('df-6b93d47f-d731-4ecd-9656-5227f5908d77')\"\n",
              "              title=\"Convert this dataframe to an interactive table.\"\n",
              "              style=\"display:none;\">\n",
              "        \n",
              "  <svg xmlns=\"http://www.w3.org/2000/svg\" height=\"24px\"viewBox=\"0 0 24 24\"\n",
              "       width=\"24px\">\n",
              "    <path d=\"M0 0h24v24H0V0z\" fill=\"none\"/>\n",
              "    <path d=\"M18.56 5.44l.94 2.06.94-2.06 2.06-.94-2.06-.94-.94-2.06-.94 2.06-2.06.94zm-11 1L8.5 8.5l.94-2.06 2.06-.94-2.06-.94L8.5 2.5l-.94 2.06-2.06.94zm10 10l.94 2.06.94-2.06 2.06-.94-2.06-.94-.94-2.06-.94 2.06-2.06.94z\"/><path d=\"M17.41 7.96l-1.37-1.37c-.4-.4-.92-.59-1.43-.59-.52 0-1.04.2-1.43.59L10.3 9.45l-7.72 7.72c-.78.78-.78 2.05 0 2.83L4 21.41c.39.39.9.59 1.41.59.51 0 1.02-.2 1.41-.59l7.78-7.78 2.81-2.81c.8-.78.8-2.07 0-2.86zM5.41 20L4 18.59l7.72-7.72 1.47 1.35L5.41 20z\"/>\n",
              "  </svg>\n",
              "      </button>\n",
              "      \n",
              "  <style>\n",
              "    .colab-df-container {\n",
              "      display:flex;\n",
              "      flex-wrap:wrap;\n",
              "      gap: 12px;\n",
              "    }\n",
              "\n",
              "    .colab-df-convert {\n",
              "      background-color: #E8F0FE;\n",
              "      border: none;\n",
              "      border-radius: 50%;\n",
              "      cursor: pointer;\n",
              "      display: none;\n",
              "      fill: #1967D2;\n",
              "      height: 32px;\n",
              "      padding: 0 0 0 0;\n",
              "      width: 32px;\n",
              "    }\n",
              "\n",
              "    .colab-df-convert:hover {\n",
              "      background-color: #E2EBFA;\n",
              "      box-shadow: 0px 1px 2px rgba(60, 64, 67, 0.3), 0px 1px 3px 1px rgba(60, 64, 67, 0.15);\n",
              "      fill: #174EA6;\n",
              "    }\n",
              "\n",
              "    [theme=dark] .colab-df-convert {\n",
              "      background-color: #3B4455;\n",
              "      fill: #D2E3FC;\n",
              "    }\n",
              "\n",
              "    [theme=dark] .colab-df-convert:hover {\n",
              "      background-color: #434B5C;\n",
              "      box-shadow: 0px 1px 3px 1px rgba(0, 0, 0, 0.15);\n",
              "      filter: drop-shadow(0px 1px 2px rgba(0, 0, 0, 0.3));\n",
              "      fill: #FFFFFF;\n",
              "    }\n",
              "  </style>\n",
              "\n",
              "      <script>\n",
              "        const buttonEl =\n",
              "          document.querySelector('#df-6b93d47f-d731-4ecd-9656-5227f5908d77 button.colab-df-convert');\n",
              "        buttonEl.style.display =\n",
              "          google.colab.kernel.accessAllowed ? 'block' : 'none';\n",
              "\n",
              "        async function convertToInteractive(key) {\n",
              "          const element = document.querySelector('#df-6b93d47f-d731-4ecd-9656-5227f5908d77');\n",
              "          const dataTable =\n",
              "            await google.colab.kernel.invokeFunction('convertToInteractive',\n",
              "                                                     [key], {});\n",
              "          if (!dataTable) return;\n",
              "\n",
              "          const docLinkHtml = 'Like what you see? Visit the ' +\n",
              "            '<a target=\"_blank\" href=https://colab.research.google.com/notebooks/data_table.ipynb>data table notebook</a>'\n",
              "            + ' to learn more about interactive tables.';\n",
              "          element.innerHTML = '';\n",
              "          dataTable['output_type'] = 'display_data';\n",
              "          await google.colab.output.renderOutput(dataTable, element);\n",
              "          const docLink = document.createElement('div');\n",
              "          docLink.innerHTML = docLinkHtml;\n",
              "          element.appendChild(docLink);\n",
              "        }\n",
              "      </script>\n",
              "    </div>\n",
              "  </div>\n",
              "  "
            ]
          },
          "metadata": {},
          "execution_count": 12
        }
      ]
    },
    {
      "cell_type": "code",
      "source": [
        "def preprocessing(df):\n",
        "  df=df[['user_id','product_id','target']]\n",
        "  df=df.drop_duplicates().reset_index(drop=True)\n",
        "\n",
        "  return df"
      ],
      "metadata": {
        "id": "u0xbA7pKcOmu"
      },
      "execution_count": null,
      "outputs": []
    },
    {
      "cell_type": "code",
      "source": [
        "target_data1=preprocessing(target_data1)\n",
        "target_data2=preprocessing(target_data2)\n",
        "target_data3=preprocessing(target_data3)\n",
        "target_data4=preprocessing(target_data4)\n",
        "target_data5=preprocessing(target_data5)"
      ],
      "metadata": {
        "id": "LYbnauwVcoO_"
      },
      "execution_count": null,
      "outputs": []
    },
    {
      "cell_type": "code",
      "source": [
        "target_data1.to_pickle('/content/drive/MyDrive/project2_2/target_data1.pkl')\n",
        "target_data2.to_pickle('/content/drive/MyDrive/project2_2/target_data2.pkl')\n",
        "target_data3.to_pickle('/content/drive/MyDrive/project2_2/target_data3.pkl')\n",
        "target_data4.to_pickle('/content/drive/MyDrive/project2_2/target_data.pkl')\n",
        "target_data5.to_pickle('/content/drive/MyDrive/project2_2/target_data1.pkl')"
      ],
      "metadata": {
        "id": "r0qYltzG1wIc"
      },
      "execution_count": null,
      "outputs": []
    }
  ]
}