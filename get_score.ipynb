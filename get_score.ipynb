{
  "nbformat": 4,
  "nbformat_minor": 0,
  "metadata": {
    "colab": {
      "provenance": [],
      "machine_shape": "hm",
      "mount_file_id": "https://github.com/lover-swan/project2_2/blob/main/get_score.ipynb",
      "authorship_tag": "ABX9TyOoVBkxKIkzqqJ97jaTGxpE",
      "include_colab_link": true
    },
    "kernelspec": {
      "name": "python3",
      "display_name": "Python 3"
    },
    "language_info": {
      "name": "python"
    },
    "gpuClass": "standard"
  },
  "cells": [
    {
      "cell_type": "markdown",
      "metadata": {
        "id": "view-in-github",
        "colab_type": "text"
      },
      "source": [
        "<a href=\"https://colab.research.google.com/github/lover-swan/project2_2/blob/main/get_score.ipynb\" target=\"_parent\"><img src=\"https://colab.research.google.com/assets/colab-badge.svg\" alt=\"Open In Colab\"/></a>"
      ]
    },
    {
      "cell_type": "code",
      "execution_count": 1,
      "metadata": {
        "id": "zLdDqHR7_CYi"
      },
      "outputs": [],
      "source": [
        "import pandas as pd\n",
        "import numpy as np\n",
        "from tqdm import tqdm"
      ]
    },
    {
      "cell_type": "code",
      "source": [
        "baseline_pred=pd.read_pickle('/content/drive/MyDrive/project2_2/model/baseline_pred.pkl')"
      ],
      "metadata": {
        "id": "fTQe0JKrEHJb"
      },
      "execution_count": 2,
      "outputs": []
    },
    {
      "cell_type": "code",
      "source": [
        "svd_pred=pd.read_pickle('/content/drive/MyDrive/project2_2/svd_electronic_pred.pkl')"
      ],
      "metadata": {
        "id": "jM1QdhBvomL0"
      },
      "execution_count": 7,
      "outputs": []
    },
    {
      "cell_type": "code",
      "source": [
        "baseline_pred"
      ],
      "metadata": {
        "colab": {
          "base_uri": "https://localhost:8080/",
          "height": 424
        },
        "id": "WPJURNxOlGWz",
        "outputId": "ef953456-917e-4136-ef47-ac83182d0c50"
      },
      "execution_count": 3,
      "outputs": [
        {
          "output_type": "execute_result",
          "data": {
            "text/plain": [
              "               uid       iid  rui       est\n",
              "0        566280663   1005127    2  0.079088\n",
              "1        566280399   4804110    0  0.000443\n",
              "2        566280286  21407628    0  0.035292\n",
              "3        566280241   5000088    0  0.003993\n",
              "4        566280187   1004347    0  0.031653\n",
              "...            ...       ...  ...       ...\n",
              "4685422  239876607   1005014    0  0.025942\n",
              "4685423  239876607   1004956    0  0.017662\n",
              "4685424  239876607   1004956    0  0.017662\n",
              "4685425  239475080   3100198    0  0.021558\n",
              "4685426  200673532   6501011    0  0.019232\n",
              "\n",
              "[4685427 rows x 4 columns]"
            ],
            "text/html": [
              "\n",
              "  <div id=\"df-72da5460-4e31-44a3-9885-1c63beeb50fc\">\n",
              "    <div class=\"colab-df-container\">\n",
              "      <div>\n",
              "<style scoped>\n",
              "    .dataframe tbody tr th:only-of-type {\n",
              "        vertical-align: middle;\n",
              "    }\n",
              "\n",
              "    .dataframe tbody tr th {\n",
              "        vertical-align: top;\n",
              "    }\n",
              "\n",
              "    .dataframe thead th {\n",
              "        text-align: right;\n",
              "    }\n",
              "</style>\n",
              "<table border=\"1\" class=\"dataframe\">\n",
              "  <thead>\n",
              "    <tr style=\"text-align: right;\">\n",
              "      <th></th>\n",
              "      <th>uid</th>\n",
              "      <th>iid</th>\n",
              "      <th>rui</th>\n",
              "      <th>est</th>\n",
              "    </tr>\n",
              "  </thead>\n",
              "  <tbody>\n",
              "    <tr>\n",
              "      <th>0</th>\n",
              "      <td>566280663</td>\n",
              "      <td>1005127</td>\n",
              "      <td>2</td>\n",
              "      <td>0.079088</td>\n",
              "    </tr>\n",
              "    <tr>\n",
              "      <th>1</th>\n",
              "      <td>566280399</td>\n",
              "      <td>4804110</td>\n",
              "      <td>0</td>\n",
              "      <td>0.000443</td>\n",
              "    </tr>\n",
              "    <tr>\n",
              "      <th>2</th>\n",
              "      <td>566280286</td>\n",
              "      <td>21407628</td>\n",
              "      <td>0</td>\n",
              "      <td>0.035292</td>\n",
              "    </tr>\n",
              "    <tr>\n",
              "      <th>3</th>\n",
              "      <td>566280241</td>\n",
              "      <td>5000088</td>\n",
              "      <td>0</td>\n",
              "      <td>0.003993</td>\n",
              "    </tr>\n",
              "    <tr>\n",
              "      <th>4</th>\n",
              "      <td>566280187</td>\n",
              "      <td>1004347</td>\n",
              "      <td>0</td>\n",
              "      <td>0.031653</td>\n",
              "    </tr>\n",
              "    <tr>\n",
              "      <th>...</th>\n",
              "      <td>...</td>\n",
              "      <td>...</td>\n",
              "      <td>...</td>\n",
              "      <td>...</td>\n",
              "    </tr>\n",
              "    <tr>\n",
              "      <th>4685422</th>\n",
              "      <td>239876607</td>\n",
              "      <td>1005014</td>\n",
              "      <td>0</td>\n",
              "      <td>0.025942</td>\n",
              "    </tr>\n",
              "    <tr>\n",
              "      <th>4685423</th>\n",
              "      <td>239876607</td>\n",
              "      <td>1004956</td>\n",
              "      <td>0</td>\n",
              "      <td>0.017662</td>\n",
              "    </tr>\n",
              "    <tr>\n",
              "      <th>4685424</th>\n",
              "      <td>239876607</td>\n",
              "      <td>1004956</td>\n",
              "      <td>0</td>\n",
              "      <td>0.017662</td>\n",
              "    </tr>\n",
              "    <tr>\n",
              "      <th>4685425</th>\n",
              "      <td>239475080</td>\n",
              "      <td>3100198</td>\n",
              "      <td>0</td>\n",
              "      <td>0.021558</td>\n",
              "    </tr>\n",
              "    <tr>\n",
              "      <th>4685426</th>\n",
              "      <td>200673532</td>\n",
              "      <td>6501011</td>\n",
              "      <td>0</td>\n",
              "      <td>0.019232</td>\n",
              "    </tr>\n",
              "  </tbody>\n",
              "</table>\n",
              "<p>4685427 rows × 4 columns</p>\n",
              "</div>\n",
              "      <button class=\"colab-df-convert\" onclick=\"convertToInteractive('df-72da5460-4e31-44a3-9885-1c63beeb50fc')\"\n",
              "              title=\"Convert this dataframe to an interactive table.\"\n",
              "              style=\"display:none;\">\n",
              "        \n",
              "  <svg xmlns=\"http://www.w3.org/2000/svg\" height=\"24px\"viewBox=\"0 0 24 24\"\n",
              "       width=\"24px\">\n",
              "    <path d=\"M0 0h24v24H0V0z\" fill=\"none\"/>\n",
              "    <path d=\"M18.56 5.44l.94 2.06.94-2.06 2.06-.94-2.06-.94-.94-2.06-.94 2.06-2.06.94zm-11 1L8.5 8.5l.94-2.06 2.06-.94-2.06-.94L8.5 2.5l-.94 2.06-2.06.94zm10 10l.94 2.06.94-2.06 2.06-.94-2.06-.94-.94-2.06-.94 2.06-2.06.94z\"/><path d=\"M17.41 7.96l-1.37-1.37c-.4-.4-.92-.59-1.43-.59-.52 0-1.04.2-1.43.59L10.3 9.45l-7.72 7.72c-.78.78-.78 2.05 0 2.83L4 21.41c.39.39.9.59 1.41.59.51 0 1.02-.2 1.41-.59l7.78-7.78 2.81-2.81c.8-.78.8-2.07 0-2.86zM5.41 20L4 18.59l7.72-7.72 1.47 1.35L5.41 20z\"/>\n",
              "  </svg>\n",
              "      </button>\n",
              "      \n",
              "  <style>\n",
              "    .colab-df-container {\n",
              "      display:flex;\n",
              "      flex-wrap:wrap;\n",
              "      gap: 12px;\n",
              "    }\n",
              "\n",
              "    .colab-df-convert {\n",
              "      background-color: #E8F0FE;\n",
              "      border: none;\n",
              "      border-radius: 50%;\n",
              "      cursor: pointer;\n",
              "      display: none;\n",
              "      fill: #1967D2;\n",
              "      height: 32px;\n",
              "      padding: 0 0 0 0;\n",
              "      width: 32px;\n",
              "    }\n",
              "\n",
              "    .colab-df-convert:hover {\n",
              "      background-color: #E2EBFA;\n",
              "      box-shadow: 0px 1px 2px rgba(60, 64, 67, 0.3), 0px 1px 3px 1px rgba(60, 64, 67, 0.15);\n",
              "      fill: #174EA6;\n",
              "    }\n",
              "\n",
              "    [theme=dark] .colab-df-convert {\n",
              "      background-color: #3B4455;\n",
              "      fill: #D2E3FC;\n",
              "    }\n",
              "\n",
              "    [theme=dark] .colab-df-convert:hover {\n",
              "      background-color: #434B5C;\n",
              "      box-shadow: 0px 1px 3px 1px rgba(0, 0, 0, 0.15);\n",
              "      filter: drop-shadow(0px 1px 2px rgba(0, 0, 0, 0.3));\n",
              "      fill: #FFFFFF;\n",
              "    }\n",
              "  </style>\n",
              "\n",
              "      <script>\n",
              "        const buttonEl =\n",
              "          document.querySelector('#df-72da5460-4e31-44a3-9885-1c63beeb50fc button.colab-df-convert');\n",
              "        buttonEl.style.display =\n",
              "          google.colab.kernel.accessAllowed ? 'block' : 'none';\n",
              "\n",
              "        async function convertToInteractive(key) {\n",
              "          const element = document.querySelector('#df-72da5460-4e31-44a3-9885-1c63beeb50fc');\n",
              "          const dataTable =\n",
              "            await google.colab.kernel.invokeFunction('convertToInteractive',\n",
              "                                                     [key], {});\n",
              "          if (!dataTable) return;\n",
              "\n",
              "          const docLinkHtml = 'Like what you see? Visit the ' +\n",
              "            '<a target=\"_blank\" href=https://colab.research.google.com/notebooks/data_table.ipynb>data table notebook</a>'\n",
              "            + ' to learn more about interactive tables.';\n",
              "          element.innerHTML = '';\n",
              "          dataTable['output_type'] = 'display_data';\n",
              "          await google.colab.output.renderOutput(dataTable, element);\n",
              "          const docLink = document.createElement('div');\n",
              "          docLink.innerHTML = docLinkHtml;\n",
              "          element.appendChild(docLink);\n",
              "        }\n",
              "      </script>\n",
              "    </div>\n",
              "  </div>\n",
              "  "
            ]
          },
          "metadata": {},
          "execution_count": 3
        }
      ]
    },
    {
      "cell_type": "code",
      "source": [
        "def run(df,uid):\n",
        "  return df[df.uid==uid].head(3)"
      ],
      "metadata": {
        "id": "y1zg37UMSg6f"
      },
      "execution_count": 4,
      "outputs": []
    },
    {
      "cell_type": "code",
      "source": [
        "def main(df):\n",
        "  precision_list=[]\n",
        "  recall_list=[]\n",
        "  df=df.drop_duplicates().reset_index(drop=True)\n",
        "  test=df[df.uid.isin(df.uid.value_counts().loc[lambda x: x>5].index)] # user 평가 데이터 6개 이상인 것만\n",
        "  id_list=test.uid.unique()\n",
        "\n",
        "  for i in tqdm(id_list):\n",
        "    result=run(df,i)\n",
        "    try:\n",
        "      count=len(result[result.rui>=1])\n",
        "      precision=count/3\n",
        "      recall=count/len(df[(df.uid==i)&(df.rui>=1)])\n",
        "      precision_list.append(precision)\n",
        "      recall_list.append(recall)\n",
        "\n",
        "    except:\n",
        "      pass\n",
        "\n",
        "  return f'precision: {np.mean(precision_list)}, recall: {np.mean(recall_list)}'"
      ],
      "metadata": {
        "id": "mgLINOC66gKs"
      },
      "execution_count": 5,
      "outputs": []
    },
    {
      "cell_type": "code",
      "source": [
        "main(baseline_pred)"
      ],
      "metadata": {
        "colab": {
          "base_uri": "https://localhost:8080/",
          "height": 53
        },
        "id": "l2RPs-297nj3",
        "outputId": "ad29ec79-1beb-4dd9-f716-c3978bb98237"
      },
      "execution_count": 6,
      "outputs": [
        {
          "output_type": "stream",
          "name": "stderr",
          "text": [
            "100%|██████████| 156107/156107 [37:35<00:00, 69.22it/s]\n"
          ]
        },
        {
          "output_type": "execute_result",
          "data": {
            "text/plain": [
              "'precision: 0.14435955708137901, recall: 0.3144557652876198'"
            ],
            "application/vnd.google.colaboratory.intrinsic+json": {
              "type": "string"
            }
          },
          "metadata": {},
          "execution_count": 6
        }
      ]
    },
    {
      "cell_type": "code",
      "source": [
        "main(svd_pred)"
      ],
      "metadata": {
        "id": "jc_vv8Rq3bcv"
      },
      "execution_count": null,
      "outputs": []
    }
  ]
}