{
  "nbformat": 4,
  "nbformat_minor": 0,
  "metadata": {
    "colab": {
      "provenance": [],
      "machine_shape": "hm",
      "mount_file_id": "https://github.com/lover-swan/project2_2/blob/main/get_score.ipynb",
      "authorship_tag": "ABX9TyNF2cf5Zzm7y3vs1WSoXHaU",
      "include_colab_link": true
    },
    "kernelspec": {
      "name": "python3",
      "display_name": "Python 3"
    },
    "language_info": {
      "name": "python"
    },
    "gpuClass": "standard"
  },
  "cells": [
    {
      "cell_type": "markdown",
      "metadata": {
        "id": "view-in-github",
        "colab_type": "text"
      },
      "source": [
        "<a href=\"https://colab.research.google.com/github/lover-swan/project2_2/blob/main/get_score.ipynb\" target=\"_parent\"><img src=\"https://colab.research.google.com/assets/colab-badge.svg\" alt=\"Open In Colab\"/></a>"
      ]
    },
    {
      "cell_type": "code",
      "execution_count": 53,
      "metadata": {
        "id": "zLdDqHR7_CYi"
      },
      "outputs": [],
      "source": [
        "import pandas as pd\n",
        "import numpy as np\n",
        "from tqdm import tqdm"
      ]
    },
    {
      "cell_type": "code",
      "source": [
        "baseline_pred=pd.read_pickle('/content/drive/MyDrive/project2_2/model/baseline_pred.pkl')"
      ],
      "metadata": {
        "id": "fTQe0JKrEHJb"
      },
      "execution_count": null,
      "outputs": []
    },
    {
      "cell_type": "code",
      "source": [
        "svd_pred=pd.read_pickle('/content/drive/MyDrive/project2_2/svd_electronic_pred.pkl')"
      ],
      "metadata": {
        "id": "jM1QdhBvomL0"
      },
      "execution_count": 54,
      "outputs": []
    },
    {
      "cell_type": "code",
      "source": [
        "baseline_pred"
      ],
      "metadata": {
        "colab": {
          "base_uri": "https://localhost:8080/",
          "height": 424
        },
        "id": "WPJURNxOlGWz",
        "outputId": "d13343cd-0bca-4746-f0a2-585bb32cdf19"
      },
      "execution_count": 55,
      "outputs": [
        {
          "output_type": "execute_result",
          "data": {
            "text/plain": [
              "               uid      iid  rui       est\n",
              "0        566280697  2300307    0  0.153523\n",
              "1        566280399  4802888    0  0.142338\n",
              "2        566280399  4803186    0  0.142337\n",
              "3        566280399  4804695    0  0.142330\n",
              "4        566280291  1005134    0  0.159311\n",
              "...            ...      ...  ...       ...\n",
              "2595840  240522111  5100565    0 -0.019638\n",
              "2595841  239475080  3100198    0 -0.011214\n",
              "2595842  236306098  1005105    0 -0.003414\n",
              "2595843  224520397  8800028    0 -0.044062\n",
              "2595844  209714031  8700583    0 -0.050919\n",
              "\n",
              "[2595845 rows x 4 columns]"
            ],
            "text/html": [
              "\n",
              "  <div id=\"df-bb037bfd-e9bc-4446-94db-bb37e41dd5e1\">\n",
              "    <div class=\"colab-df-container\">\n",
              "      <div>\n",
              "<style scoped>\n",
              "    .dataframe tbody tr th:only-of-type {\n",
              "        vertical-align: middle;\n",
              "    }\n",
              "\n",
              "    .dataframe tbody tr th {\n",
              "        vertical-align: top;\n",
              "    }\n",
              "\n",
              "    .dataframe thead th {\n",
              "        text-align: right;\n",
              "    }\n",
              "</style>\n",
              "<table border=\"1\" class=\"dataframe\">\n",
              "  <thead>\n",
              "    <tr style=\"text-align: right;\">\n",
              "      <th></th>\n",
              "      <th>uid</th>\n",
              "      <th>iid</th>\n",
              "      <th>rui</th>\n",
              "      <th>est</th>\n",
              "    </tr>\n",
              "  </thead>\n",
              "  <tbody>\n",
              "    <tr>\n",
              "      <th>0</th>\n",
              "      <td>566280697</td>\n",
              "      <td>2300307</td>\n",
              "      <td>0</td>\n",
              "      <td>0.153523</td>\n",
              "    </tr>\n",
              "    <tr>\n",
              "      <th>1</th>\n",
              "      <td>566280399</td>\n",
              "      <td>4802888</td>\n",
              "      <td>0</td>\n",
              "      <td>0.142338</td>\n",
              "    </tr>\n",
              "    <tr>\n",
              "      <th>2</th>\n",
              "      <td>566280399</td>\n",
              "      <td>4803186</td>\n",
              "      <td>0</td>\n",
              "      <td>0.142337</td>\n",
              "    </tr>\n",
              "    <tr>\n",
              "      <th>3</th>\n",
              "      <td>566280399</td>\n",
              "      <td>4804695</td>\n",
              "      <td>0</td>\n",
              "      <td>0.142330</td>\n",
              "    </tr>\n",
              "    <tr>\n",
              "      <th>4</th>\n",
              "      <td>566280291</td>\n",
              "      <td>1005134</td>\n",
              "      <td>0</td>\n",
              "      <td>0.159311</td>\n",
              "    </tr>\n",
              "    <tr>\n",
              "      <th>...</th>\n",
              "      <td>...</td>\n",
              "      <td>...</td>\n",
              "      <td>...</td>\n",
              "      <td>...</td>\n",
              "    </tr>\n",
              "    <tr>\n",
              "      <th>2595840</th>\n",
              "      <td>240522111</td>\n",
              "      <td>5100565</td>\n",
              "      <td>0</td>\n",
              "      <td>-0.019638</td>\n",
              "    </tr>\n",
              "    <tr>\n",
              "      <th>2595841</th>\n",
              "      <td>239475080</td>\n",
              "      <td>3100198</td>\n",
              "      <td>0</td>\n",
              "      <td>-0.011214</td>\n",
              "    </tr>\n",
              "    <tr>\n",
              "      <th>2595842</th>\n",
              "      <td>236306098</td>\n",
              "      <td>1005105</td>\n",
              "      <td>0</td>\n",
              "      <td>-0.003414</td>\n",
              "    </tr>\n",
              "    <tr>\n",
              "      <th>2595843</th>\n",
              "      <td>224520397</td>\n",
              "      <td>8800028</td>\n",
              "      <td>0</td>\n",
              "      <td>-0.044062</td>\n",
              "    </tr>\n",
              "    <tr>\n",
              "      <th>2595844</th>\n",
              "      <td>209714031</td>\n",
              "      <td>8700583</td>\n",
              "      <td>0</td>\n",
              "      <td>-0.050919</td>\n",
              "    </tr>\n",
              "  </tbody>\n",
              "</table>\n",
              "<p>2595845 rows × 4 columns</p>\n",
              "</div>\n",
              "      <button class=\"colab-df-convert\" onclick=\"convertToInteractive('df-bb037bfd-e9bc-4446-94db-bb37e41dd5e1')\"\n",
              "              title=\"Convert this dataframe to an interactive table.\"\n",
              "              style=\"display:none;\">\n",
              "        \n",
              "  <svg xmlns=\"http://www.w3.org/2000/svg\" height=\"24px\"viewBox=\"0 0 24 24\"\n",
              "       width=\"24px\">\n",
              "    <path d=\"M0 0h24v24H0V0z\" fill=\"none\"/>\n",
              "    <path d=\"M18.56 5.44l.94 2.06.94-2.06 2.06-.94-2.06-.94-.94-2.06-.94 2.06-2.06.94zm-11 1L8.5 8.5l.94-2.06 2.06-.94-2.06-.94L8.5 2.5l-.94 2.06-2.06.94zm10 10l.94 2.06.94-2.06 2.06-.94-2.06-.94-.94-2.06-.94 2.06-2.06.94z\"/><path d=\"M17.41 7.96l-1.37-1.37c-.4-.4-.92-.59-1.43-.59-.52 0-1.04.2-1.43.59L10.3 9.45l-7.72 7.72c-.78.78-.78 2.05 0 2.83L4 21.41c.39.39.9.59 1.41.59.51 0 1.02-.2 1.41-.59l7.78-7.78 2.81-2.81c.8-.78.8-2.07 0-2.86zM5.41 20L4 18.59l7.72-7.72 1.47 1.35L5.41 20z\"/>\n",
              "  </svg>\n",
              "      </button>\n",
              "      \n",
              "  <style>\n",
              "    .colab-df-container {\n",
              "      display:flex;\n",
              "      flex-wrap:wrap;\n",
              "      gap: 12px;\n",
              "    }\n",
              "\n",
              "    .colab-df-convert {\n",
              "      background-color: #E8F0FE;\n",
              "      border: none;\n",
              "      border-radius: 50%;\n",
              "      cursor: pointer;\n",
              "      display: none;\n",
              "      fill: #1967D2;\n",
              "      height: 32px;\n",
              "      padding: 0 0 0 0;\n",
              "      width: 32px;\n",
              "    }\n",
              "\n",
              "    .colab-df-convert:hover {\n",
              "      background-color: #E2EBFA;\n",
              "      box-shadow: 0px 1px 2px rgba(60, 64, 67, 0.3), 0px 1px 3px 1px rgba(60, 64, 67, 0.15);\n",
              "      fill: #174EA6;\n",
              "    }\n",
              "\n",
              "    [theme=dark] .colab-df-convert {\n",
              "      background-color: #3B4455;\n",
              "      fill: #D2E3FC;\n",
              "    }\n",
              "\n",
              "    [theme=dark] .colab-df-convert:hover {\n",
              "      background-color: #434B5C;\n",
              "      box-shadow: 0px 1px 3px 1px rgba(0, 0, 0, 0.15);\n",
              "      filter: drop-shadow(0px 1px 2px rgba(0, 0, 0, 0.3));\n",
              "      fill: #FFFFFF;\n",
              "    }\n",
              "  </style>\n",
              "\n",
              "      <script>\n",
              "        const buttonEl =\n",
              "          document.querySelector('#df-bb037bfd-e9bc-4446-94db-bb37e41dd5e1 button.colab-df-convert');\n",
              "        buttonEl.style.display =\n",
              "          google.colab.kernel.accessAllowed ? 'block' : 'none';\n",
              "\n",
              "        async function convertToInteractive(key) {\n",
              "          const element = document.querySelector('#df-bb037bfd-e9bc-4446-94db-bb37e41dd5e1');\n",
              "          const dataTable =\n",
              "            await google.colab.kernel.invokeFunction('convertToInteractive',\n",
              "                                                     [key], {});\n",
              "          if (!dataTable) return;\n",
              "\n",
              "          const docLinkHtml = 'Like what you see? Visit the ' +\n",
              "            '<a target=\"_blank\" href=https://colab.research.google.com/notebooks/data_table.ipynb>data table notebook</a>'\n",
              "            + ' to learn more about interactive tables.';\n",
              "          element.innerHTML = '';\n",
              "          dataTable['output_type'] = 'display_data';\n",
              "          await google.colab.output.renderOutput(dataTable, element);\n",
              "          const docLink = document.createElement('div');\n",
              "          docLink.innerHTML = docLinkHtml;\n",
              "          element.appendChild(docLink);\n",
              "        }\n",
              "      </script>\n",
              "    </div>\n",
              "  </div>\n",
              "  "
            ]
          },
          "metadata": {},
          "execution_count": 55
        }
      ]
    },
    {
      "cell_type": "code",
      "source": [
        "def run(df,uid):\n",
        "  return df[df.uid==uid].head(10)"
      ],
      "metadata": {
        "id": "y1zg37UMSg6f"
      },
      "execution_count": 56,
      "outputs": []
    },
    {
      "cell_type": "code",
      "source": [
        "def main(df):\n",
        "  precision_list=[]\n",
        "  recall_list=[]\n",
        "  df=df.drop_duplicates().reset_index(drop=True)\n",
        "  test=df[df.uid.isin(df.uid.value_counts().loc[lambda x: x>=20].index)] # user 평가 데이터 20개 이상인 것만\n",
        "  id_list=test.uid.unique()\n",
        "\n",
        "  for i in tqdm(id_list):\n",
        "    result=run(df,i)\n",
        "    try:\n",
        "      count=len(result[result.rui>=1])\n",
        "      precision=count/3\n",
        "      recall=count/len(df[(df.uid==i)&(df.rui>=1)])\n",
        "      precision_list.append(precision)\n",
        "      recall_list.append(recall)\n",
        "\n",
        "    except:\n",
        "      pass\n",
        "\n",
        "  return f'precision: {np.mean(precision_list)}, recall: {np.mean(recall_list)}'"
      ],
      "metadata": {
        "id": "mgLINOC66gKs"
      },
      "execution_count": 57,
      "outputs": []
    },
    {
      "cell_type": "code",
      "source": [
        "main(baseline_pred)"
      ],
      "metadata": {
        "colab": {
          "base_uri": "https://localhost:8080/",
          "height": 53
        },
        "id": "l2RPs-297nj3",
        "outputId": "8ef2396b-f100-4e89-8f2d-be62704166a8"
      },
      "execution_count": 58,
      "outputs": [
        {
          "output_type": "stream",
          "name": "stderr",
          "text": [
            "100%|██████████| 3189/3189 [00:34<00:00, 92.27it/s]\n"
          ]
        },
        {
          "output_type": "execute_result",
          "data": {
            "text/plain": [
              "'precision: 0.2670285640429107, recall: 0.39622008038060774'"
            ],
            "application/vnd.google.colaboratory.intrinsic+json": {
              "type": "string"
            }
          },
          "metadata": {},
          "execution_count": 58
        }
      ]
    },
    {
      "cell_type": "code",
      "source": [
        "main(svd_pred)"
      ],
      "metadata": {
        "colab": {
          "base_uri": "https://localhost:8080/",
          "height": 53
        },
        "id": "jc_vv8Rq3bcv",
        "outputId": "8a15bca3-a6b9-4799-968b-54433942faa5"
      },
      "execution_count": 59,
      "outputs": [
        {
          "output_type": "stream",
          "name": "stderr",
          "text": [
            "100%|██████████| 3188/3188 [00:34<00:00, 91.67it/s]\n"
          ]
        },
        {
          "output_type": "execute_result",
          "data": {
            "text/plain": [
              "'precision: 0.2611843806568399, recall: 0.38670796544632846'"
            ],
            "application/vnd.google.colaboratory.intrinsic+json": {
              "type": "string"
            }
          },
          "metadata": {},
          "execution_count": 59
        }
      ]
    }
  ]
}