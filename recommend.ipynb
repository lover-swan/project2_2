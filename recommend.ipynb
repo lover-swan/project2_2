{
  "nbformat": 4,
  "nbformat_minor": 0,
  "metadata": {
    "colab": {
      "provenance": [],
      "machine_shape": "hm",
      "mount_file_id": "https://github.com/lover-swan/project2_2/blob/main/recommend.ipynb",
      "authorship_tag": "ABX9TyPnxKim8Q9iT8Rhb79fTm1G",
      "include_colab_link": true
    },
    "kernelspec": {
      "name": "python3",
      "display_name": "Python 3"
    },
    "language_info": {
      "name": "python"
    },
    "gpuClass": "standard",
    "accelerator": "TPU"
  },
  "cells": [
    {
      "cell_type": "markdown",
      "metadata": {
        "id": "view-in-github",
        "colab_type": "text"
      },
      "source": [
        "<a href=\"https://colab.research.google.com/github/lover-swan/project2_2/blob/main/recommend.ipynb\" target=\"_parent\"><img src=\"https://colab.research.google.com/assets/colab-badge.svg\" alt=\"Open In Colab\"/></a>"
      ]
    },
    {
      "cell_type": "code",
      "source": [
        "!pip install surprise"
      ],
      "metadata": {
        "colab": {
          "base_uri": "https://localhost:8080/"
        },
        "id": "rbChsSiyZLwQ",
        "outputId": "706392d6-adaf-45c4-b03f-81eb2c89e4d6"
      },
      "execution_count": 1,
      "outputs": [
        {
          "output_type": "stream",
          "name": "stdout",
          "text": [
            "Looking in indexes: https://pypi.org/simple, https://us-python.pkg.dev/colab-wheels/public/simple/\n",
            "Collecting surprise\n",
            "  Downloading surprise-0.1-py2.py3-none-any.whl (1.8 kB)\n",
            "Collecting scikit-surprise\n",
            "  Downloading scikit-surprise-1.1.3.tar.gz (771 kB)\n",
            "\u001b[2K     \u001b[90m━━━━━━━━━━━━━━━━━━━━━━━━━━━━━━━━━━━━━━\u001b[0m \u001b[32m772.0/772.0 KB\u001b[0m \u001b[31m12.8 MB/s\u001b[0m eta \u001b[36m0:00:00\u001b[0m\n",
            "\u001b[?25h  Preparing metadata (setup.py) ... \u001b[?25l\u001b[?25hdone\n",
            "Requirement already satisfied: joblib>=1.0.0 in /usr/local/lib/python3.8/dist-packages (from scikit-surprise->surprise) (1.2.0)\n",
            "Requirement already satisfied: numpy>=1.17.3 in /usr/local/lib/python3.8/dist-packages (from scikit-surprise->surprise) (1.21.6)\n",
            "Requirement already satisfied: scipy>=1.3.2 in /usr/local/lib/python3.8/dist-packages (from scikit-surprise->surprise) (1.7.3)\n",
            "Building wheels for collected packages: scikit-surprise\n",
            "  Building wheel for scikit-surprise (setup.py) ... \u001b[?25l\u001b[?25hdone\n",
            "  Created wheel for scikit-surprise: filename=scikit_surprise-1.1.3-cp38-cp38-linux_x86_64.whl size=3366439 sha256=a23d5922654cd19af9485f8e95bc8ec10c50c148cadfd69b645e212c240a3c6e\n",
            "  Stored in directory: /root/.cache/pip/wheels/af/db/86/2c18183a80ba05da35bf0fb7417aac5cddbd93bcb1b92fd3ea\n",
            "Successfully built scikit-surprise\n",
            "Installing collected packages: scikit-surprise, surprise\n",
            "Successfully installed scikit-surprise-1.1.3 surprise-0.1\n"
          ]
        }
      ]
    },
    {
      "cell_type": "code",
      "execution_count": 12,
      "metadata": {
        "id": "f_mpsRsXY6Q2"
      },
      "outputs": [],
      "source": [
        "import pandas as pd\n",
        "import surprise\n",
        "from surprise import dump\n",
        "import numpy as np"
      ]
    },
    {
      "cell_type": "code",
      "source": [
        "_, model1 = dump.load('/content/drive/MyDrive/project2_2/model/svd_model1')\n",
        "_, model2 = dump.load('/content/drive/MyDrive/project2_2/model/svd_model2')\n",
        "_, model3 = dump.load('/content/drive/MyDrive/project2_2/model/svd_model3')\n",
        "_, model4 = dump.load('/content/drive/MyDrive/project2_2/model/svd_model4')\n",
        "_, model5 = dump.load('/content/drive/MyDrive/project2_2/model/svd_model5')"
      ],
      "metadata": {
        "id": "x6XWCBbtZjYc"
      },
      "execution_count": 3,
      "outputs": []
    },
    {
      "cell_type": "code",
      "source": [
        "data1=pd.read_pickle('/content/drive/MyDrive/project2_2/target_data1.pkl')\n",
        "data2=pd.read_pickle('/content/drive/MyDrive/project2_2/target_data1.pkl')\n",
        "data3=pd.read_pickle('/content/drive/MyDrive/project2_2/target_data1.pkl')\n",
        "data4=pd.read_pickle('/content/drive/MyDrive/project2_2/target_data1.pkl')\n",
        "data5=pd.read_pickle('/content/drive/MyDrive/project2_2/target_data1.pkl')"
      ],
      "metadata": {
        "id": "GC8tW4ODaw_c"
      },
      "execution_count": 4,
      "outputs": []
    },
    {
      "cell_type": "code",
      "source": [
        "def recommend(uid,model,data):\n",
        "  all_products=list(data.product_id.unique())\n",
        "  searched_products=list(data[data.user_id==uid].product_id.unique())\n",
        "\n",
        "  for i in searched_products:\n",
        "    all_products.remove(i)\n",
        "\n",
        "  pred=[model.test(str(uid),str(pid)) for pid in all_products]\n",
        "\n",
        "  def sort_key(predict):\n",
        "    return predict.est\n",
        "\n",
        "  pred.sort(key=sort_key,reverse=True)\n",
        "\n",
        "  recommended_items=pred[:10]\n",
        "\n",
        "  return recommended_items"
      ],
      "metadata": {
        "id": "GlSfOmfWiM5-"
      },
      "execution_count": null,
      "outputs": []
    }
  ]
}