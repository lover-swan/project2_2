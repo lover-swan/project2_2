{
  "nbformat": 4,
  "nbformat_minor": 0,
  "metadata": {
    "colab": {
      "provenance": [],
      "machine_shape": "hm",
      "mount_file_id": "https://github.com/lover-swan/project2_2/blob/main/recommend.ipynb",
      "authorship_tag": "ABX9TyPa5t2y4XbRb6hr0M/BStXO",
      "include_colab_link": true
    },
    "kernelspec": {
      "name": "python3",
      "display_name": "Python 3"
    },
    "language_info": {
      "name": "python"
    },
    "gpuClass": "standard",
    "accelerator": "TPU"
  },
  "cells": [
    {
      "cell_type": "markdown",
      "metadata": {
        "id": "view-in-github",
        "colab_type": "text"
      },
      "source": [
        "<a href=\"https://colab.research.google.com/github/lover-swan/project2_2/blob/main/recommend.ipynb\" target=\"_parent\"><img src=\"https://colab.research.google.com/assets/colab-badge.svg\" alt=\"Open In Colab\"/></a>"
      ]
    },
    {
      "cell_type": "code",
      "source": [
        "!pip install surprise"
      ],
      "metadata": {
        "colab": {
          "base_uri": "https://localhost:8080/"
        },
        "id": "rbChsSiyZLwQ",
        "outputId": "b1afd310-1efb-4a6d-e759-97829dd797d4"
      },
      "execution_count": 1,
      "outputs": [
        {
          "output_type": "stream",
          "name": "stdout",
          "text": [
            "Looking in indexes: https://pypi.org/simple, https://us-python.pkg.dev/colab-wheels/public/simple/\n",
            "Collecting surprise\n",
            "  Downloading surprise-0.1-py2.py3-none-any.whl (1.8 kB)\n",
            "Collecting scikit-surprise\n",
            "  Downloading scikit-surprise-1.1.3.tar.gz (771 kB)\n",
            "\u001b[2K     \u001b[90m━━━━━━━━━━━━━━━━━━━━━━━━━━━━━━━━━━━━━━\u001b[0m \u001b[32m772.0/772.0 KB\u001b[0m \u001b[31m13.7 MB/s\u001b[0m eta \u001b[36m0:00:00\u001b[0m\n",
            "\u001b[?25h  Preparing metadata (setup.py) ... \u001b[?25l\u001b[?25hdone\n",
            "Requirement already satisfied: joblib>=1.0.0 in /usr/local/lib/python3.8/dist-packages (from scikit-surprise->surprise) (1.2.0)\n",
            "Requirement already satisfied: numpy>=1.17.3 in /usr/local/lib/python3.8/dist-packages (from scikit-surprise->surprise) (1.21.6)\n",
            "Requirement already satisfied: scipy>=1.3.2 in /usr/local/lib/python3.8/dist-packages (from scikit-surprise->surprise) (1.7.3)\n",
            "Building wheels for collected packages: scikit-surprise\n",
            "  Building wheel for scikit-surprise (setup.py) ... \u001b[?25l\u001b[?25hdone\n",
            "  Created wheel for scikit-surprise: filename=scikit_surprise-1.1.3-cp38-cp38-linux_x86_64.whl size=3366465 sha256=7f0aefa7f659d96f07e7005ecefa5e0298fc19fca0ae3677195c1e066e2599b9\n",
            "  Stored in directory: /root/.cache/pip/wheels/af/db/86/2c18183a80ba05da35bf0fb7417aac5cddbd93bcb1b92fd3ea\n",
            "Successfully built scikit-surprise\n",
            "Installing collected packages: scikit-surprise, surprise\n",
            "Successfully installed scikit-surprise-1.1.3 surprise-0.1\n"
          ]
        }
      ]
    },
    {
      "cell_type": "code",
      "execution_count": 2,
      "metadata": {
        "id": "f_mpsRsXY6Q2"
      },
      "outputs": [],
      "source": [
        "import pandas as pd\n",
        "import surprise\n",
        "from surprise import dump"
      ]
    },
    {
      "cell_type": "code",
      "source": [
        "_, model1 = dump.load('/content/drive/MyDrive/project2_2/model/svd_model1')\n",
        "_, model2 = dump.load('/content/drive/MyDrive/project2_2/model/svd_model2')\n",
        "_, model3 = dump.load('/content/drive/MyDrive/project2_2/model/svd_model3')\n",
        "_, model4 = dump.load('/content/drive/MyDrive/project2_2/model/svd_model4')\n",
        "_, model5 = dump.load('/content/drive/MyDrive/project2_2/model/svd_model5')"
      ],
      "metadata": {
        "id": "x6XWCBbtZjYc"
      },
      "execution_count": 3,
      "outputs": []
    },
    {
      "cell_type": "code",
      "source": [
        "data1=pd.read_pickle('/content/drive/MyDrive/project2_2/target_data1.pkl')\n",
        "data2=pd.read_pickle('/content/drive/MyDrive/project2_2/target_data1.pkl')\n",
        "data3=pd.read_pickle('/content/drive/MyDrive/project2_2/target_data1.pkl')\n",
        "data4=pd.read_pickle('/content/drive/MyDrive/project2_2/target_data1.pkl')\n",
        "data5=pd.read_pickle('/content/drive/MyDrive/project2_2/target_data1.pkl')"
      ],
      "metadata": {
        "id": "GC8tW4ODaw_c"
      },
      "execution_count": 5,
      "outputs": []
    },
    {
      "cell_type": "code",
      "source": [
        "data1"
      ],
      "metadata": {
        "id": "R5-ZpT8hivrQ",
        "outputId": "2a086af2-feef-4ac3-db3e-32634185051d",
        "colab": {
          "base_uri": "https://localhost:8080/",
          "height": 171
        }
      },
      "execution_count": 4,
      "outputs": [
        {
          "output_type": "error",
          "ename": "NameError",
          "evalue": "ignored",
          "traceback": [
            "\u001b[0;31m---------------------------------------------------------------------------\u001b[0m",
            "\u001b[0;31mNameError\u001b[0m                                 Traceback (most recent call last)",
            "\u001b[0;32m<ipython-input-4-6e25229a93f2>\u001b[0m in \u001b[0;36m<module>\u001b[0;34m\u001b[0m\n\u001b[0;32m----> 1\u001b[0;31m \u001b[0mdata1\u001b[0m\u001b[0;34m\u001b[0m\u001b[0;34m\u001b[0m\u001b[0m\n\u001b[0m",
            "\u001b[0;31mNameError\u001b[0m: name 'data1' is not defined"
          ]
        }
      ]
    },
    {
      "cell_type": "code",
      "source": [
        "def recommend(user_id,model,data):\n"
      ],
      "metadata": {
        "id": "GlSfOmfWiM5-"
      },
      "execution_count": null,
      "outputs": []
    }
  ]
}